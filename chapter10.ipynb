{
  "nbformat": 4,
  "nbformat_minor": 0,
  "metadata": {
    "colab": {
      "provenance": [],
      "mount_file_id": "1k5NkI8Ayw6N0Jcah2TeS9eGgbPcJQfd_",
      "authorship_tag": "ABX9TyNTXPerJh+FWdSXHK0ot3Vn",
      "include_colab_link": true
    },
    "kernelspec": {
      "name": "python3",
      "display_name": "Python 3"
    },
    "language_info": {
      "name": "python"
    }
  },
  "cells": [
    {
      "cell_type": "markdown",
      "metadata": {
        "id": "view-in-github",
        "colab_type": "text"
      },
      "source": [
        "<a href=\"https://colab.research.google.com/github/johyunkang/python_stat/blob/main/chapter10.ipynb\" target=\"_parent\"><img src=\"https://colab.research.google.com/assets/colab-badge.svg\" alt=\"Open In Colab\"/></a>"
      ]
    },
    {
      "cell_type": "markdown",
      "source": [
        "# Chapter 10 통계적 추정"
      ],
      "metadata": {
        "id": "I5igdst-ZxPF"
      }
    },
    {
      "cell_type": "code",
      "source": [
        "import numpy as np\n",
        "import pandas as pd\n",
        "from matplotlib import pyplot as plt\n",
        "from scipy import stats\n",
        "\n",
        "df = pd.read_csv('/content/drive/MyDrive/Colab Notebooks/누구나파이썬통계분석/data/ch4_scores400.csv')\n",
        "display(df.head(3))\n",
        "\n",
        "scores = np.array(df['score'])\n",
        "print('scores:', scores[:3])\n",
        "\n",
        "p_mean = np.mean(scores) # 모평균\n",
        "p_var = np.var(scores) # 모분산\n",
        "print('모평균:', p_mean, ', 모분산:', p_var)\n",
        "\n",
        "np.random.seed(0)\n",
        "n=20\n",
        "sample = np.random.choice(scores, n) # 20개의 랜덤샘플\n",
        "print('20개 랜덤샘플:', sample)\n",
        "s_mean = np.mean(sample)\n",
        "print('20개 랜덤 표본평균:', s_mean)\n",
        "\n",
        "n_samples = 10_000\n",
        "samples = np.random.choice(scores, (n_samples, n)) # 20개의 랜덤샘플 1만개 생성\n",
        "print('20개의 1만개 랜덤샘플 길이:', len(samples))"
      ],
      "metadata": {
        "colab": {
          "base_uri": "https://localhost:8080/",
          "height": 234
        },
        "id": "Al6TN-HFZ4HL",
        "outputId": "b38315f2-deca-4575-f80e-340e6fccd310"
      },
      "execution_count": 14,
      "outputs": [
        {
          "output_type": "display_data",
          "data": {
            "text/plain": [
              "   score\n",
              "0     76\n",
              "1     55\n",
              "2     80"
            ],
            "text/html": [
              "\n",
              "  <div id=\"df-1d0405a8-0aad-432b-a507-39913428b6b3\">\n",
              "    <div class=\"colab-df-container\">\n",
              "      <div>\n",
              "<style scoped>\n",
              "    .dataframe tbody tr th:only-of-type {\n",
              "        vertical-align: middle;\n",
              "    }\n",
              "\n",
              "    .dataframe tbody tr th {\n",
              "        vertical-align: top;\n",
              "    }\n",
              "\n",
              "    .dataframe thead th {\n",
              "        text-align: right;\n",
              "    }\n",
              "</style>\n",
              "<table border=\"1\" class=\"dataframe\">\n",
              "  <thead>\n",
              "    <tr style=\"text-align: right;\">\n",
              "      <th></th>\n",
              "      <th>score</th>\n",
              "    </tr>\n",
              "  </thead>\n",
              "  <tbody>\n",
              "    <tr>\n",
              "      <th>0</th>\n",
              "      <td>76</td>\n",
              "    </tr>\n",
              "    <tr>\n",
              "      <th>1</th>\n",
              "      <td>55</td>\n",
              "    </tr>\n",
              "    <tr>\n",
              "      <th>2</th>\n",
              "      <td>80</td>\n",
              "    </tr>\n",
              "  </tbody>\n",
              "</table>\n",
              "</div>\n",
              "      <button class=\"colab-df-convert\" onclick=\"convertToInteractive('df-1d0405a8-0aad-432b-a507-39913428b6b3')\"\n",
              "              title=\"Convert this dataframe to an interactive table.\"\n",
              "              style=\"display:none;\">\n",
              "        \n",
              "  <svg xmlns=\"http://www.w3.org/2000/svg\" height=\"24px\"viewBox=\"0 0 24 24\"\n",
              "       width=\"24px\">\n",
              "    <path d=\"M0 0h24v24H0V0z\" fill=\"none\"/>\n",
              "    <path d=\"M18.56 5.44l.94 2.06.94-2.06 2.06-.94-2.06-.94-.94-2.06-.94 2.06-2.06.94zm-11 1L8.5 8.5l.94-2.06 2.06-.94-2.06-.94L8.5 2.5l-.94 2.06-2.06.94zm10 10l.94 2.06.94-2.06 2.06-.94-2.06-.94-.94-2.06-.94 2.06-2.06.94z\"/><path d=\"M17.41 7.96l-1.37-1.37c-.4-.4-.92-.59-1.43-.59-.52 0-1.04.2-1.43.59L10.3 9.45l-7.72 7.72c-.78.78-.78 2.05 0 2.83L4 21.41c.39.39.9.59 1.41.59.51 0 1.02-.2 1.41-.59l7.78-7.78 2.81-2.81c.8-.78.8-2.07 0-2.86zM5.41 20L4 18.59l7.72-7.72 1.47 1.35L5.41 20z\"/>\n",
              "  </svg>\n",
              "      </button>\n",
              "      \n",
              "  <style>\n",
              "    .colab-df-container {\n",
              "      display:flex;\n",
              "      flex-wrap:wrap;\n",
              "      gap: 12px;\n",
              "    }\n",
              "\n",
              "    .colab-df-convert {\n",
              "      background-color: #E8F0FE;\n",
              "      border: none;\n",
              "      border-radius: 50%;\n",
              "      cursor: pointer;\n",
              "      display: none;\n",
              "      fill: #1967D2;\n",
              "      height: 32px;\n",
              "      padding: 0 0 0 0;\n",
              "      width: 32px;\n",
              "    }\n",
              "\n",
              "    .colab-df-convert:hover {\n",
              "      background-color: #E2EBFA;\n",
              "      box-shadow: 0px 1px 2px rgba(60, 64, 67, 0.3), 0px 1px 3px 1px rgba(60, 64, 67, 0.15);\n",
              "      fill: #174EA6;\n",
              "    }\n",
              "\n",
              "    [theme=dark] .colab-df-convert {\n",
              "      background-color: #3B4455;\n",
              "      fill: #D2E3FC;\n",
              "    }\n",
              "\n",
              "    [theme=dark] .colab-df-convert:hover {\n",
              "      background-color: #434B5C;\n",
              "      box-shadow: 0px 1px 3px 1px rgba(0, 0, 0, 0.15);\n",
              "      filter: drop-shadow(0px 1px 2px rgba(0, 0, 0, 0.3));\n",
              "      fill: #FFFFFF;\n",
              "    }\n",
              "  </style>\n",
              "\n",
              "      <script>\n",
              "        const buttonEl =\n",
              "          document.querySelector('#df-1d0405a8-0aad-432b-a507-39913428b6b3 button.colab-df-convert');\n",
              "        buttonEl.style.display =\n",
              "          google.colab.kernel.accessAllowed ? 'block' : 'none';\n",
              "\n",
              "        async function convertToInteractive(key) {\n",
              "          const element = document.querySelector('#df-1d0405a8-0aad-432b-a507-39913428b6b3');\n",
              "          const dataTable =\n",
              "            await google.colab.kernel.invokeFunction('convertToInteractive',\n",
              "                                                     [key], {});\n",
              "          if (!dataTable) return;\n",
              "\n",
              "          const docLinkHtml = 'Like what you see? Visit the ' +\n",
              "            '<a target=\"_blank\" href=https://colab.research.google.com/notebooks/data_table.ipynb>data table notebook</a>'\n",
              "            + ' to learn more about interactive tables.';\n",
              "          element.innerHTML = '';\n",
              "          dataTable['output_type'] = 'display_data';\n",
              "          await google.colab.output.renderOutput(dataTable, element);\n",
              "          const docLink = document.createElement('div');\n",
              "          docLink.innerHTML = docLinkHtml;\n",
              "          element.appendChild(docLink);\n",
              "        }\n",
              "      </script>\n",
              "    </div>\n",
              "  </div>\n",
              "  "
            ]
          },
          "metadata": {}
        },
        {
          "output_type": "stream",
          "name": "stdout",
          "text": [
            "scores: [76 55 80]\n",
            "모평균: 69.53 , 모분산: 206.6691\n",
            "20개 랜덤샘플: [49 60 72 86 52 61 77 91 80 56 69 67 90 56 75 79 60 79 68 81]\n",
            "20개 랜덤 표본평균: 70.4\n",
            "20개의 1만개 랜덤샘플 길이: 10000\n"
          ]
        }
      ]
    },
    {
      "cell_type": "markdown",
      "source": [
        "## 10.1 점추정"
      ],
      "metadata": {
        "id": "iqqc3b5GZz9g"
      }
    },
    {
      "cell_type": "markdown",
      "source": [
        "### 10.1.2 모분산의 점추정\n",
        "\n",
        "모분산의 불편추정량이 되는 표본통계량은 `불편분산 (unbiased variance)` 임\n",
        "\n",
        "- 불편분산 : 표본분산에서 나누는 수 n을 n-1로 하는 다음식으로 계산\n",
        "\n",
        "$s2 = \\dfrac {1} {n-1} \\displaystyle \\sum_{i=1}^n(X_i - \\bar{X})^2$"
      ],
      "metadata": {
        "id": "KjEQzr0ebFsH"
      }
    },
    {
      "cell_type": "code",
      "execution_count": 12,
      "metadata": {
        "colab": {
          "base_uri": "https://localhost:8080/"
        },
        "id": "3OBe4oZ_ZUvl",
        "outputId": "16f0a990-839d-4969-f61e-c40fa307fa70"
      },
      "outputs": [
        {
          "output_type": "stream",
          "name": "stdout",
          "text": [
            "1만개 표본분산의 평균: 207.20479631578948\n",
            "샘플 100만개 표본분산: 206.8688966644077\n"
          ]
        }
      ],
      "source": [
        "sample_u_vars = np.var(samples, axis=1, ddof=1) # 불편분산이라 ddof=1\n",
        "print('1만개 표본분산의 평균:', np.mean(sample_u_vars))\n",
        "\n",
        "print('샘플 100만개 표본분산:', np.var(np.random.choice(scores, 1_000_000), ddof=1))"
      ]
    },
    {
      "cell_type": "markdown",
      "source": [
        "## 10.2 구간추정"
      ],
      "metadata": {
        "id": "jz27ArvnddVr"
      }
    },
    {
      "cell_type": "markdown",
      "source": [
        "### 10.2.1 정규분포의 모평균 구간추정 : 모분산을 알고 있는 경우  \n",
        "(정규분포 가정하고 계산)\n",
        "\n",
        "모집단의 정규분포를 가정했으므로 표본평균 X_bar 는 아래 식을 따름\n",
        "\n",
        "$\\bar{X} = N(\\mu, \\dfrac{\\sigma^2} {n})$\n",
        "\n",
        "- 표준오차 (standard error) : 추정량의 표준편차\n",
        "\n",
        "$표준오차 = \\sqrt{\\dfrac {\\sigma^2}{n}}$\n",
        "\n",
        "$Z= (\\bar{X} - \\mu) / \\sqrt{\\dfrac{\\sigma^2}{n}} $"
      ],
      "metadata": {
        "id": "KNUENgHGdhHt"
      }
    },
    {
      "cell_type": "code",
      "source": [
        "rv = stats.norm() # 정규분포\n",
        "lcl = s_mean - rv.isf(0.025) * np.sqrt(p_var / n) # 95% 신뢰하한 (lower confidence limit)\n",
        "ucl = s_mean - rv.isf(0.975) * np.sqrt(p_var / n) # 신뢰상한 (upper confidence limit)\n",
        "print('95% 신뢰하한:', lcl, ', 95% 신뢰상한:', ucl) # 95% 신뢰구간\n",
        "print('95% 신뢰구간:', lcl ,' ~ ', ucl)\n",
        "# 해석은 100번 중 95번의 비율로 모평균이 신뢰구간에 포함된다.\n",
        "# (모평균 실제 값은 하나 이기 때문)"
      ],
      "metadata": {
        "colab": {
          "base_uri": "https://localhost:8080/"
        },
        "id": "e-XypY0HevUj",
        "outputId": "ab4ce3d7-bc45-489e-b8c7-e9ccb725dc4d"
      },
      "execution_count": 21,
      "outputs": [
        {
          "output_type": "stream",
          "name": "stdout",
          "text": [
            "95% 신뢰하한: 64.09956018535247 , 95% 신뢰상한: 76.70043981464754\n",
            "95% 신뢰구간: 64.09956018535247  ~  76.70043981464754\n"
          ]
        }
      ]
    },
    {
      "cell_type": "markdown",
      "source": [
        "### 10.2.2 정규분포의 모분산 구간추정\n",
        "\n",
        "p.277"
      ],
      "metadata": {
        "id": "djvicpWugKWv"
      }
    }
  ]
}