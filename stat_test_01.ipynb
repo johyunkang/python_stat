{
  "cells": [
    {
      "cell_type": "markdown",
      "metadata": {
        "id": "view-in-github",
        "colab_type": "text"
      },
      "source": [
        "<a href=\"https://colab.research.google.com/github/johyunkang/python_stat/blob/main/stat_test_01.ipynb\" target=\"_parent\"><img src=\"https://colab.research.google.com/assets/colab-badge.svg\" alt=\"Open In Colab\"/></a>"
      ]
    },
    {
      "cell_type": "code",
      "execution_count": null,
      "id": "a1e3d935",
      "metadata": {
        "id": "a1e3d935"
      },
      "outputs": [],
      "source": [
        "# pip install pulp==2.5.0"
      ]
    },
    {
      "cell_type": "markdown",
      "id": "366135ca",
      "metadata": {
        "id": "366135ca"
      },
      "source": [
        "### 27회. 지하철 호선과 월별 승객 수 간 상관관계가 있는지 확인 (Type3 ANOVA 상요)\n"
      ]
    },
    {
      "cell_type": "markdown",
      "id": "0128d8f5",
      "metadata": {
        "id": "0128d8f5"
      },
      "source": [
        "- 1. 귀무가설과 대립가설을 설정하라"
      ]
    },
    {
      "cell_type": "code",
      "execution_count": null,
      "id": "930c3655",
      "metadata": {
        "id": "930c3655",
        "outputId": "02defc82-70ae-4388-e3a4-5cf93a79263d"
      },
      "outputs": [
        {
          "name": "stdout",
          "output_type": "stream",
          "text": [
            "\n",
            "1. 상호작용효과 검정에 대한 가설\n",
            "- 귀무가설(H0): 지하철 호선과 월별, 승객 수 간 상관관계가 없다.\n",
            "- 대립가설(H1): 지하철 호선과 월별, 승객 수 간 상관관계가 있다.\n",
            "\n",
            "2. 주효과 검정에 대한 가설(2개)\n",
            " - 귀무가설(H0): 지하철 호선과 승객 수 차이는 존재하지 않는다.\n",
            " - 대립가설(H1): 자하철 호선과 승객 수 차이는 존재한다.\n",
            " \n",
            " - 귀무가설(H0): 월별 승객 수 차이는 존재하지 않는다.\n",
            " - 대립가설(H1): 월별 승객 수 차이는 존재한다.\n",
            "\n"
          ]
        }
      ],
      "source": [
        "print('''\n",
        "1. 상호작용효과 검정에 대한 가설\n",
        "- 귀무가설(H0): 지하철 호선과 월별, 승객 수 간 상관관계가 없다.\n",
        "- 대립가설(H1): 지하철 호선과 월별, 승객 수 간 상관관계가 있다.\n",
        "\n",
        "2. 주효과 검정에 대한 가설(2개)\n",
        " - 귀무가설(H0): 지하철 호선과 승객 수 차이는 존재하지 않는다.\n",
        " - 대립가설(H1): 자하철 호선과 승객 수 차이는 존재한다.\n",
        " \n",
        " - 귀무가설(H0): 월별 승객 수 차이는 존재하지 않는다.\n",
        " - 대립가설(H1): 월별 승객 수 차이는 존재한다.\n",
        "''')"
      ]
    },
    {
      "cell_type": "markdown",
      "id": "0c4c177d",
      "metadata": {
        "id": "0c4c177d"
      },
      "source": [
        "- 2. 통계량을 구하고, 대립가설 채택 여부를 기술하라"
      ]
    },
    {
      "cell_type": "code",
      "execution_count": null,
      "id": "860b311a",
      "metadata": {
        "id": "860b311a",
        "outputId": "8039d4b1-f805-417e-a509-55f27521164d"
      },
      "outputs": [
        {
          "data": {
            "text/html": [
              "<div>\n",
              "<style scoped>\n",
              "    .dataframe tbody tr th:only-of-type {\n",
              "        vertical-align: middle;\n",
              "    }\n",
              "\n",
              "    .dataframe tbody tr th {\n",
              "        vertical-align: top;\n",
              "    }\n",
              "\n",
              "    .dataframe thead th {\n",
              "        text-align: right;\n",
              "    }\n",
              "</style>\n",
              "<table border=\"1\" class=\"dataframe\">\n",
              "  <thead>\n",
              "    <tr style=\"text-align: right;\">\n",
              "      <th></th>\n",
              "      <th>line</th>\n",
              "      <th>month</th>\n",
              "      <th>total</th>\n",
              "    </tr>\n",
              "  </thead>\n",
              "  <tbody>\n",
              "    <tr>\n",
              "      <th>0</th>\n",
              "      <td>1</td>\n",
              "      <td>1</td>\n",
              "      <td>1310</td>\n",
              "    </tr>\n",
              "    <tr>\n",
              "      <th>1</th>\n",
              "      <td>1</td>\n",
              "      <td>2</td>\n",
              "      <td>1300</td>\n",
              "    </tr>\n",
              "    <tr>\n",
              "      <th>2</th>\n",
              "      <td>1</td>\n",
              "      <td>3</td>\n",
              "      <td>1305</td>\n",
              "    </tr>\n",
              "    <tr>\n",
              "      <th>3</th>\n",
              "      <td>1</td>\n",
              "      <td>4</td>\n",
              "      <td>1200</td>\n",
              "    </tr>\n",
              "    <tr>\n",
              "      <th>4</th>\n",
              "      <td>1</td>\n",
              "      <td>5</td>\n",
              "      <td>1301</td>\n",
              "    </tr>\n",
              "    <tr>\n",
              "      <th>...</th>\n",
              "      <td>...</td>\n",
              "      <td>...</td>\n",
              "      <td>...</td>\n",
              "    </tr>\n",
              "    <tr>\n",
              "      <th>67</th>\n",
              "      <td>3</td>\n",
              "      <td>8</td>\n",
              "      <td>1365</td>\n",
              "    </tr>\n",
              "    <tr>\n",
              "      <th>68</th>\n",
              "      <td>3</td>\n",
              "      <td>9</td>\n",
              "      <td>1374</td>\n",
              "    </tr>\n",
              "    <tr>\n",
              "      <th>69</th>\n",
              "      <td>3</td>\n",
              "      <td>10</td>\n",
              "      <td>1337</td>\n",
              "    </tr>\n",
              "    <tr>\n",
              "      <th>70</th>\n",
              "      <td>3</td>\n",
              "      <td>11</td>\n",
              "      <td>1332</td>\n",
              "    </tr>\n",
              "    <tr>\n",
              "      <th>71</th>\n",
              "      <td>3</td>\n",
              "      <td>12</td>\n",
              "      <td>1343</td>\n",
              "    </tr>\n",
              "  </tbody>\n",
              "</table>\n",
              "<p>72 rows × 3 columns</p>\n",
              "</div>"
            ],
            "text/plain": [
              "    line  month  total\n",
              "0      1      1   1310\n",
              "1      1      2   1300\n",
              "2      1      3   1305\n",
              "3      1      4   1200\n",
              "4      1      5   1301\n",
              "..   ...    ...    ...\n",
              "67     3      8   1365\n",
              "68     3      9   1374\n",
              "69     3     10   1337\n",
              "70     3     11   1332\n",
              "71     3     12   1343\n",
              "\n",
              "[72 rows x 3 columns]"
            ]
          },
          "execution_count": 3,
          "metadata": {},
          "output_type": "execute_result"
        }
      ],
      "source": [
        "from statsmodels.formula.api import ols\n",
        "from statsmodels.stats.anova import anova_lm\n",
        "import pandas as pd\n",
        "import numpy as np\n",
        "\n",
        "DATA_URL = 'https://raw.githubusercontent.com/ADPclass/ADP_book_ver01/main/data/'\n",
        "df = pd.read_csv(DATA_URL+'27_problem9.csv')\n",
        "df"
      ]
    },
    {
      "cell_type": "code",
      "execution_count": null,
      "id": "b44c2d59",
      "metadata": {
        "id": "b44c2d59",
        "outputId": "b52b583d-1a94-4c5e-928f-852c749ea775"
      },
      "outputs": [
        {
          "data": {
            "text/html": [
              "<div>\n",
              "<style scoped>\n",
              "    .dataframe tbody tr th:only-of-type {\n",
              "        vertical-align: middle;\n",
              "    }\n",
              "\n",
              "    .dataframe tbody tr th {\n",
              "        vertical-align: top;\n",
              "    }\n",
              "\n",
              "    .dataframe thead th {\n",
              "        text-align: right;\n",
              "    }\n",
              "</style>\n",
              "<table border=\"1\" class=\"dataframe\">\n",
              "  <thead>\n",
              "    <tr style=\"text-align: right;\">\n",
              "      <th></th>\n",
              "      <th>sum_sq</th>\n",
              "      <th>df</th>\n",
              "      <th>F</th>\n",
              "      <th>PR(&gt;F)</th>\n",
              "    </tr>\n",
              "  </thead>\n",
              "  <tbody>\n",
              "    <tr>\n",
              "      <th>Intercept</th>\n",
              "      <td>3.466344e+06</td>\n",
              "      <td>1.0</td>\n",
              "      <td>33455.335657</td>\n",
              "      <td>4.849033e-55</td>\n",
              "    </tr>\n",
              "    <tr>\n",
              "      <th>C(line)</th>\n",
              "      <td>1.336630e+05</td>\n",
              "      <td>2.0</td>\n",
              "      <td>645.022520</td>\n",
              "      <td>6.417946e-29</td>\n",
              "    </tr>\n",
              "    <tr>\n",
              "      <th>C(month)</th>\n",
              "      <td>3.942483e+04</td>\n",
              "      <td>11.0</td>\n",
              "      <td>34.591616</td>\n",
              "      <td>7.896179e-16</td>\n",
              "    </tr>\n",
              "    <tr>\n",
              "      <th>C(line):C(month)</th>\n",
              "      <td>9.696908e+04</td>\n",
              "      <td>22.0</td>\n",
              "      <td>42.540665</td>\n",
              "      <td>1.582232e-19</td>\n",
              "    </tr>\n",
              "    <tr>\n",
              "      <th>Residual</th>\n",
              "      <td>3.730000e+03</td>\n",
              "      <td>36.0</td>\n",
              "      <td>NaN</td>\n",
              "      <td>NaN</td>\n",
              "    </tr>\n",
              "  </tbody>\n",
              "</table>\n",
              "</div>"
            ],
            "text/plain": [
              "                        sum_sq    df             F        PR(>F)\n",
              "Intercept         3.466344e+06   1.0  33455.335657  4.849033e-55\n",
              "C(line)           1.336630e+05   2.0    645.022520  6.417946e-29\n",
              "C(month)          3.942483e+04  11.0     34.591616  7.896179e-16\n",
              "C(line):C(month)  9.696908e+04  22.0     42.540665  1.582232e-19\n",
              "Residual          3.730000e+03  36.0           NaN           NaN"
            ]
          },
          "execution_count": 7,
          "metadata": {},
          "output_type": "execute_result"
        }
      ],
      "source": [
        "formula = 'total ~ C(line)*C(month)'\n",
        "model = ols(formula, data=df).fit()\n",
        "aov_table = anova_lm(model, typ=3)\n",
        "aov_table"
      ]
    },
    {
      "cell_type": "code",
      "execution_count": null,
      "id": "2c24f133",
      "metadata": {
        "id": "2c24f133",
        "outputId": "549ff922-f159-49ec-9710-c40299da6e49"
      },
      "outputs": [
        {
          "name": "stdout",
          "output_type": "stream",
          "text": [
            "\n",
            "유의수준 0.1 하에서\n",
            " - 상호작용효과 검정에 대한 가설은 p-value가 0.1 보다 작기에\n",
            "   귀무가설을 기각한다. 즉 지하철 호선과 월별, 승객 수 간 상관관계\n",
            "   가 있다.\n",
            "   \n",
            " - 주효과 검정에 대한 가설 2개는 모두 p-value가 유의수준 0.1 보다\n",
            "   작기에 귀무가설을 기각한다. 즉, 지하철 호선과 승객 수 차이는\n",
            "   존재하며, 월별승객 수 차이 또한 존재한다.\n",
            "   \n",
            "교호작용을 먼저 검정하는 Type3 ANOVA의 경우 아래 시각화 자료를\n",
            "통해 상관관계를 한눈에 알 수 있다.\n",
            "\n"
          ]
        }
      ],
      "source": [
        "print('''\n",
        "유의수준 0.1 하에서\n",
        " - 상호작용효과 검정에 대한 가설은 p-value가 0.1 보다 작기에\n",
        "   귀무가설을 기각한다. 즉 지하철 호선과 월별, 승객 수 간 상관관계\n",
        "   가 있다.\n",
        "   \n",
        " - 주효과 검정에 대한 가설 2개는 모두 p-value가 유의수준 0.1 보다\n",
        "   작기에 귀무가설을 기각한다. 즉, 지하철 호선과 승객 수 차이는\n",
        "   존재하며, 월별승객 수 차이 또한 존재한다.\n",
        "   \n",
        "교호작용을 먼저 검정하는 Type3 ANOVA의 경우 아래 시각화 자료를\n",
        "통해 상관관계를 한눈에 알 수 있다.\n",
        "''')"
      ]
    },
    {
      "cell_type": "code",
      "execution_count": null,
      "id": "ad710a81",
      "metadata": {
        "id": "ad710a81",
        "outputId": "1412a9cc-d354-43a6-927c-fa22946a7cb2"
      },
      "outputs": [
        {
          "data": {
            "image/png": "[encoded data removed]",
            "text/plain": [
              "<Figure size 600x600 with 1 Axes>"
            ]
          },
          "metadata": {},
          "output_type": "display_data"
        }
      ],
      "source": [
        "from statsmodels.graphics.factorplots import interaction_plot\n",
        "import matplotlib.pyplot as plt\n",
        "import warnings\n",
        "warnings.filterwarnings(action='ignore')\n",
        "\n",
        "total = df['total']\n",
        "line = df['line']\n",
        "month = df['month']\n",
        "\n",
        "fig, ax = plt.subplots(figsize=(6,6))\n",
        "fig = interaction_plot(month, line, total, ms=10, ax=ax)"
      ]
    },
    {
      "cell_type": "code",
      "execution_count": null,
      "id": "290ad68d",
      "metadata": {
        "scrolled": true,
        "id": "290ad68d",
        "outputId": "573091b7-f7c2-41ab-f20c-9d65a547f1ff"
      },
      "outputs": [
        {
          "name": "stdout",
          "output_type": "stream",
          "text": [
            "\n",
            "인터랙션 그래프를 보았을 때, month와 line에 따라 승객수의 그래프가\n",
            "교차하는 지점이 없이 평행해야지 인터랙션이 없다고 할 수 있지만,\n",
            "해당 그래프에서는 여러 번 교차하므로, 월별 호선이 승객 수에 서로\n",
            "영향을 준다고 할 수 있다.\n",
            "즉, 상관관계가 존재한다고 할 수 있다.\n",
            "\n"
          ]
        }
      ],
      "source": [
        "print('''\n",
        "인터랙션 그래프를 보았을 때, month와 line에 따라 승객수의 그래프가\n",
        "교차하는 지점이 없이 평행해야지 인터랙션이 없다고 할 수 있지만,\n",
        "해당 그래프에서는 여러 번 교차하므로, 월별 호선이 승객 수에 서로\n",
        "영향을 준다고 할 수 있다.\n",
        "즉, 상관관계가 존재한다고 할 수 있다.\n",
        "''')"
      ]
    },
    {
      "cell_type": "markdown",
      "id": "c0d58a0a",
      "metadata": {
        "id": "c0d58a0a"
      },
      "source": [
        "### 26회. 아래 그래프는 1월부터 9월까지의 은의 가격이다."
      ]
    },
    {
      "cell_type": "markdown",
      "id": "8e2d67fe",
      "metadata": {
        "id": "8e2d67fe"
      },
      "source": [
        "- 1. 은의 가격 및 이동평균값 3이 설정된 시계열 그래프를 그려라"
      ]
    },
    {
      "cell_type": "code",
      "execution_count": null,
      "id": "92da9fe3",
      "metadata": {
        "id": "92da9fe3",
        "outputId": "c238f0c2-0dc3-4845-86f1-ba49b0d55afb"
      },
      "outputs": [
        {
          "data": {
            "text/html": [
              "<div>\n",
              "<style scoped>\n",
              "    .dataframe tbody tr th:only-of-type {\n",
              "        vertical-align: middle;\n",
              "    }\n",
              "\n",
              "    .dataframe tbody tr th {\n",
              "        vertical-align: top;\n",
              "    }\n",
              "\n",
              "    .dataframe thead th {\n",
              "        text-align: right;\n",
              "    }\n",
              "</style>\n",
              "<table border=\"1\" class=\"dataframe\">\n",
              "  <thead>\n",
              "    <tr style=\"text-align: right;\">\n",
              "      <th></th>\n",
              "      <th>1월</th>\n",
              "      <th>2월</th>\n",
              "      <th>3월</th>\n",
              "      <th>4월</th>\n",
              "      <th>5월</th>\n",
              "      <th>6월</th>\n",
              "      <th>7월</th>\n",
              "      <th>8월</th>\n",
              "      <th>9월</th>\n",
              "    </tr>\n",
              "  </thead>\n",
              "  <tbody>\n",
              "    <tr>\n",
              "      <th>value</th>\n",
              "      <td>12.14</td>\n",
              "      <td>42.6</td>\n",
              "      <td>34.4</td>\n",
              "      <td>35.29</td>\n",
              "      <td>30.96</td>\n",
              "      <td>57.12</td>\n",
              "      <td>37.84</td>\n",
              "      <td>42.49</td>\n",
              "      <td>31.38</td>\n",
              "    </tr>\n",
              "  </tbody>\n",
              "</table>\n",
              "</div>"
            ],
            "text/plain": [
              "          1월    2월    3월     4월     5월     6월     7월     8월     9월\n",
              "value  12.14  42.6  34.4  35.29  30.96  57.12  37.84  42.49  31.38"
            ]
          },
          "execution_count": 29,
          "metadata": {},
          "output_type": "execute_result"
        }
      ],
      "source": [
        "df_silver = pd.DataFrame({'1월':[12.14], '2월':[42.6], '3월':[34.4], '4월':[35.29], \n",
        "                         '5월':[30.96], '6월':[57.12], '7월':[37.84], '8월':[42.49], \n",
        "                         '9월':[31.38]})\n",
        "df_silver.index=['value']\n",
        "df_silver"
      ]
    },
    {
      "cell_type": "code",
      "execution_count": null,
      "id": "f1377f6e",
      "metadata": {
        "id": "f1377f6e",
        "outputId": "3abfe2cf-8f99-4718-8636-66d64b649420"
      },
      "outputs": [
        {
          "data": {
            "text/html": [
              "<div>\n",
              "<style scoped>\n",
              "    .dataframe tbody tr th:only-of-type {\n",
              "        vertical-align: middle;\n",
              "    }\n",
              "\n",
              "    .dataframe tbody tr th {\n",
              "        vertical-align: top;\n",
              "    }\n",
              "\n",
              "    .dataframe thead th {\n",
              "        text-align: right;\n",
              "    }\n",
              "</style>\n",
              "<table border=\"1\" class=\"dataframe\">\n",
              "  <thead>\n",
              "    <tr style=\"text-align: right;\">\n",
              "      <th></th>\n",
              "      <th>value</th>\n",
              "    </tr>\n",
              "  </thead>\n",
              "  <tbody>\n",
              "    <tr>\n",
              "      <th>1월</th>\n",
              "      <td>12.14</td>\n",
              "    </tr>\n",
              "    <tr>\n",
              "      <th>2월</th>\n",
              "      <td>42.60</td>\n",
              "    </tr>\n",
              "    <tr>\n",
              "      <th>3월</th>\n",
              "      <td>34.40</td>\n",
              "    </tr>\n",
              "    <tr>\n",
              "      <th>4월</th>\n",
              "      <td>35.29</td>\n",
              "    </tr>\n",
              "    <tr>\n",
              "      <th>5월</th>\n",
              "      <td>30.96</td>\n",
              "    </tr>\n",
              "    <tr>\n",
              "      <th>6월</th>\n",
              "      <td>57.12</td>\n",
              "    </tr>\n",
              "    <tr>\n",
              "      <th>7월</th>\n",
              "      <td>37.84</td>\n",
              "    </tr>\n",
              "    <tr>\n",
              "      <th>8월</th>\n",
              "      <td>42.49</td>\n",
              "    </tr>\n",
              "    <tr>\n",
              "      <th>9월</th>\n",
              "      <td>31.38</td>\n",
              "    </tr>\n",
              "  </tbody>\n",
              "</table>\n",
              "</div>"
            ],
            "text/plain": [
              "    value\n",
              "1월  12.14\n",
              "2월  42.60\n",
              "3월  34.40\n",
              "4월  35.29\n",
              "5월  30.96\n",
              "6월  57.12\n",
              "7월  37.84\n",
              "8월  42.49\n",
              "9월  31.38"
            ]
          },
          "execution_count": 30,
          "metadata": {},
          "output_type": "execute_result"
        }
      ],
      "source": [
        "df_t = df_silver.T\n",
        "df_t"
      ]
    },
    {
      "cell_type": "code",
      "execution_count": null,
      "id": "7d7b68ae",
      "metadata": {
        "id": "7d7b68ae",
        "outputId": "2a7f97a0-9a25-4d62-9412-c32dd38697c9"
      },
      "outputs": [
        {
          "data": {
            "text/html": [
              "<div>\n",
              "<style scoped>\n",
              "    .dataframe tbody tr th:only-of-type {\n",
              "        vertical-align: middle;\n",
              "    }\n",
              "\n",
              "    .dataframe tbody tr th {\n",
              "        vertical-align: top;\n",
              "    }\n",
              "\n",
              "    .dataframe thead th {\n",
              "        text-align: right;\n",
              "    }\n",
              "</style>\n",
              "<table border=\"1\" class=\"dataframe\">\n",
              "  <thead>\n",
              "    <tr style=\"text-align: right;\">\n",
              "      <th></th>\n",
              "      <th>value</th>\n",
              "      <th>3m</th>\n",
              "    </tr>\n",
              "  </thead>\n",
              "  <tbody>\n",
              "    <tr>\n",
              "      <th>1월</th>\n",
              "      <td>12.14</td>\n",
              "      <td>0.000000</td>\n",
              "    </tr>\n",
              "    <tr>\n",
              "      <th>2월</th>\n",
              "      <td>42.60</td>\n",
              "      <td>0.000000</td>\n",
              "    </tr>\n",
              "    <tr>\n",
              "      <th>3월</th>\n",
              "      <td>34.40</td>\n",
              "      <td>29.713333</td>\n",
              "    </tr>\n",
              "    <tr>\n",
              "      <th>4월</th>\n",
              "      <td>35.29</td>\n",
              "      <td>37.430000</td>\n",
              "    </tr>\n",
              "    <tr>\n",
              "      <th>5월</th>\n",
              "      <td>30.96</td>\n",
              "      <td>33.550000</td>\n",
              "    </tr>\n",
              "    <tr>\n",
              "      <th>6월</th>\n",
              "      <td>57.12</td>\n",
              "      <td>41.123333</td>\n",
              "    </tr>\n",
              "    <tr>\n",
              "      <th>7월</th>\n",
              "      <td>37.84</td>\n",
              "      <td>41.973333</td>\n",
              "    </tr>\n",
              "    <tr>\n",
              "      <th>8월</th>\n",
              "      <td>42.49</td>\n",
              "      <td>45.816667</td>\n",
              "    </tr>\n",
              "    <tr>\n",
              "      <th>9월</th>\n",
              "      <td>31.38</td>\n",
              "      <td>37.236667</td>\n",
              "    </tr>\n",
              "  </tbody>\n",
              "</table>\n",
              "</div>"
            ],
            "text/plain": [
              "    value         3m\n",
              "1월  12.14   0.000000\n",
              "2월  42.60   0.000000\n",
              "3월  34.40  29.713333\n",
              "4월  35.29  37.430000\n",
              "5월  30.96  33.550000\n",
              "6월  57.12  41.123333\n",
              "7월  37.84  41.973333\n",
              "8월  42.49  45.816667\n",
              "9월  31.38  37.236667"
            ]
          },
          "execution_count": 31,
          "metadata": {},
          "output_type": "execute_result"
        }
      ],
      "source": [
        "df_t['3m'] = df_t.rolling(3).mean()\n",
        "df_t['3m'] = df_t['3m'].fillna(0)\n",
        "df_t"
      ]
    },
    {
      "cell_type": "code",
      "execution_count": null,
      "id": "221df7a1",
      "metadata": {
        "id": "221df7a1",
        "outputId": "9ff12f50-3bb2-47eb-e53f-0161cea28474"
      },
      "outputs": [
        {
          "name": "stdout",
          "output_type": "stream",
          "text": [
            "AppleMyungjo\n"
          ]
        }
      ],
      "source": [
        "# 폰트 적용 (Windows)\n",
        "import matplotlib\n",
        "import matplotlib.font_manager as fm\n",
        "\n",
        "# # fm.get_fontconfig_fonts()\n",
        "# font_location='/System/Library/Fonts/Supplemental/AppleMyungjo.ttf'\n",
        "# font_name=fm.FontProperties(fname=font_location).get_name()\n",
        "# print(font_name)\n",
        "# matplotlib.rc('font', family=font_name)"
      ]
    },
    {
      "cell_type": "code",
      "execution_count": null,
      "id": "17d0b577",
      "metadata": {
        "id": "17d0b577"
      },
      "outputs": [],
      "source": [
        "# 폰트 찾기\n",
        "import matplotlib.font_manager as fm\n",
        "font_list = fm.findSystemFonts(fontpaths=None, fontext='ttf')\n",
        "\n",
        "for i, fon in enumerate(font_list):\n",
        "    # 명조체 찾기\n",
        "    if 'myun' in fon.lower():\n",
        "        print(fon)"
      ]
    },
    {
      "cell_type": "code",
      "execution_count": null,
      "id": "fb5b82cf",
      "metadata": {
        "id": "fb5b82cf",
        "outputId": "a4d053c2-a2fc-475c-e81c-7f99ccee4ddb"
      },
      "outputs": [
        {
          "name": "stdout",
          "output_type": "stream",
          "text": [
            "['AppleMyungjo']\n"
          ]
        },
        {
          "data": {
            "image/png": "[encoded data removed]",
            "text/plain": [
              "<Figure size 640x480 with 1 Axes>"
            ]
          },
          "metadata": {},
          "output_type": "display_data"
        }
      ],
      "source": [
        "# 폰트 적용 (mac os)\n",
        "import matplotlib.pyplot as plt\n",
        "plt.rc('font', family='AppleMyungjo')\n",
        "\n",
        "print(plt.rcParams['font.family'])\n",
        "# plt.plot(df_t['value'])\n",
        "plt.scatter(df_t['value'].index, df_t['value'])\n",
        "plt.plot(df_t['3m'][2:], c='red')\n",
        "plt.show()"
      ]
    },
    {
      "cell_type": "markdown",
      "id": "a976e876",
      "metadata": {
        "id": "a976e876"
      },
      "source": [
        "- 2. 1월 대비 9월의 은의 가격은 몇 % 올랐는가? 소수점 두 번째 자리에서 반올림"
      ]
    },
    {
      "cell_type": "code",
      "execution_count": null,
      "id": "ac37ad9a",
      "metadata": {
        "id": "ac37ad9a",
        "outputId": "f3e09e5b-0e5e-444b-f405-dc3e5f27eb91"
      },
      "outputs": [
        {
          "name": "stdout",
          "output_type": "stream",
          "text": [
            "1월:12.14, 9월:31.38\n",
            "1월 대비 9월 은의 가격은 158.48 % 상승하였다.\n"
          ]
        }
      ],
      "source": [
        "import numpy as np\n",
        "m1 = df_t.loc['1월', 'value']\n",
        "m9 = df_t.loc['9월', 'value']\n",
        "rt = (m9/m1) -1\n",
        "print(f'1월:{m1}, 9월:{m9}')\n",
        "print(f'1월 대비 9월 은의 가격은 {round(rt*100, 2)} % 상승하였다.')"
      ]
    },
    {
      "cell_type": "markdown",
      "id": "85085224",
      "metadata": {
        "id": "85085224"
      },
      "source": [
        "### 25회.\n",
        "\n",
        "1개년 50억원, 2개년 60억원, 3개년 70억원의 예산을 가지고 NPV(순현재가치)가 가장 높아지는 안을 제시하시오"
      ]
    },
    {
      "cell_type": "code",
      "execution_count": null,
      "id": "d74e9009",
      "metadata": {
        "scrolled": true,
        "id": "d74e9009",
        "outputId": "0e773e07-a2d8-40fb-e41c-bbf57f423e2f"
      },
      "outputs": [
        {
          "data": {
            "text/html": [
              "<div>\n",
              "<style scoped>\n",
              "    .dataframe tbody tr th:only-of-type {\n",
              "        vertical-align: middle;\n",
              "    }\n",
              "\n",
              "    .dataframe tbody tr th {\n",
              "        vertical-align: top;\n",
              "    }\n",
              "\n",
              "    .dataframe thead th {\n",
              "        text-align: right;\n",
              "    }\n",
              "</style>\n",
              "<table border=\"1\" class=\"dataframe\">\n",
              "  <thead>\n",
              "    <tr style=\"text-align: right;\">\n",
              "      <th></th>\n",
              "      <th>1y</th>\n",
              "      <th>2y</th>\n",
              "      <th>3y</th>\n",
              "    </tr>\n",
              "  </thead>\n",
              "  <tbody>\n",
              "    <tr>\n",
              "      <th>1안</th>\n",
              "      <td>10</td>\n",
              "      <td>20</td>\n",
              "      <td>15</td>\n",
              "    </tr>\n",
              "    <tr>\n",
              "      <th>2안</th>\n",
              "      <td>15</td>\n",
              "      <td>14</td>\n",
              "      <td>19</td>\n",
              "    </tr>\n",
              "    <tr>\n",
              "      <th>3안</th>\n",
              "      <td>12</td>\n",
              "      <td>11</td>\n",
              "      <td>30</td>\n",
              "    </tr>\n",
              "    <tr>\n",
              "      <th>4안</th>\n",
              "      <td>13</td>\n",
              "      <td>25</td>\n",
              "      <td>20</td>\n",
              "    </tr>\n",
              "    <tr>\n",
              "      <th>5안</th>\n",
              "      <td>16</td>\n",
              "      <td>30</td>\n",
              "      <td>24</td>\n",
              "    </tr>\n",
              "  </tbody>\n",
              "</table>\n",
              "</div>"
            ],
            "text/plain": [
              "    1y  2y  3y\n",
              "1안  10  20  15\n",
              "2안  15  14  19\n",
              "3안  12  11  30\n",
              "4안  13  25  20\n",
              "5안  16  30  24"
            ]
          },
          "execution_count": 2,
          "metadata": {},
          "output_type": "execute_result"
        }
      ],
      "source": [
        "# 문제 주어진 데이터\n",
        "import pandas as pd\n",
        "df_npv = pd.DataFrame({'1y':[10, 15, 12, 13, 16],\n",
        "                      '2y':[20, 14, 11, 25, 30],\n",
        "                      '3y':[15, 19, 30, 20, 24]})\n",
        "df_npv.index=['1안', '2안', '3안', '4안', '5안']\n",
        "df_npv"
      ]
    },
    {
      "cell_type": "code",
      "execution_count": null,
      "id": "d93eade8",
      "metadata": {
        "id": "d93eade8",
        "outputId": "d44e654a-20ef-4955-e7d8-f2b06bdbacef"
      },
      "outputs": [
        {
          "data": {
            "text/html": [
              "<div>\n",
              "<style scoped>\n",
              "    .dataframe tbody tr th:only-of-type {\n",
              "        vertical-align: middle;\n",
              "    }\n",
              "\n",
              "    .dataframe tbody tr th {\n",
              "        vertical-align: top;\n",
              "    }\n",
              "\n",
              "    .dataframe thead th {\n",
              "        text-align: right;\n",
              "    }\n",
              "</style>\n",
              "<table border=\"1\" class=\"dataframe\">\n",
              "  <thead>\n",
              "    <tr style=\"text-align: right;\">\n",
              "      <th></th>\n",
              "      <th>1y</th>\n",
              "      <th>2y</th>\n",
              "      <th>3y</th>\n",
              "      <th>total</th>\n",
              "    </tr>\n",
              "  </thead>\n",
              "  <tbody>\n",
              "    <tr>\n",
              "      <th>1안</th>\n",
              "      <td>10</td>\n",
              "      <td>20</td>\n",
              "      <td>15</td>\n",
              "      <td>45</td>\n",
              "    </tr>\n",
              "    <tr>\n",
              "      <th>2안</th>\n",
              "      <td>15</td>\n",
              "      <td>14</td>\n",
              "      <td>19</td>\n",
              "      <td>48</td>\n",
              "    </tr>\n",
              "    <tr>\n",
              "      <th>3안</th>\n",
              "      <td>12</td>\n",
              "      <td>11</td>\n",
              "      <td>30</td>\n",
              "      <td>53</td>\n",
              "    </tr>\n",
              "    <tr>\n",
              "      <th>4안</th>\n",
              "      <td>13</td>\n",
              "      <td>25</td>\n",
              "      <td>20</td>\n",
              "      <td>58</td>\n",
              "    </tr>\n",
              "    <tr>\n",
              "      <th>5안</th>\n",
              "      <td>16</td>\n",
              "      <td>30</td>\n",
              "      <td>24</td>\n",
              "      <td>70</td>\n",
              "    </tr>\n",
              "  </tbody>\n",
              "</table>\n",
              "</div>"
            ],
            "text/plain": [
              "    1y  2y  3y  total\n",
              "1안  10  20  15     45\n",
              "2안  15  14  19     48\n",
              "3안  12  11  30     53\n",
              "4안  13  25  20     58\n",
              "5안  16  30  24     70"
            ]
          },
          "execution_count": 3,
          "metadata": {},
          "output_type": "execute_result"
        }
      ],
      "source": [
        "df_npv['total'] = df_npv.sum(axis=1)\n",
        "df_npv"
      ]
    },
    {
      "cell_type": "code",
      "execution_count": null,
      "id": "9d6c7be1",
      "metadata": {
        "id": "9d6c7be1",
        "outputId": "8ae50d97-9bd1-4f08-8701-d0b0b480de4e"
      },
      "outputs": [
        {
          "name": "stdout",
          "output_type": "stream",
          "text": [
            "Welcome to the CBC MILP Solver \n",
            "Version: 2.10.3 \n",
            "Build Date: Dec 15 2019 \n",
            "\n",
            "command line - /opt/homebrew/lib/python3.9/site-packages/pulp/apis/../solverdir/cbc/osx/64/cbc /var/folders/r7/x_smy14j7xjfkgms9f93wp0r0000gn/T/b600aee4a94a4b9cb6cad29e15406ef4-pulp.mps max branch printingOptions all solution /var/folders/r7/x_smy14j7xjfkgms9f93wp0r0000gn/T/b600aee4a94a4b9cb6cad29e15406ef4-pulp.sol (default strategy 1)\n",
            "At line 2 NAME          MODEL\n",
            "At line 3 ROWS\n",
            "At line 8 COLUMNS\n",
            "At line 39 RHS\n",
            "At line 43 BOUNDS\n",
            "At line 49 ENDATA\n",
            "Problem MODEL has 3 rows, 5 columns and 15 elements\n",
            "Coin0008I MODEL read with 0 errors\n",
            "Continuous objective value is 173.526 - 0.00 seconds\n",
            "Cgl0004I processed model has 3 rows, 5 columns (5 integer (5 of which binary)) and 15 elements\n",
            "Cutoff increment increased from 1e-05 to 0.9999\n",
            "Cbc0038I Initial state - 2 integers unsatisfied sum - 0.675472\n",
            "Cbc0038I Pass   1: suminf.    0.10000 (1) obj. -165.7 iterations 1\n",
            "Cbc0038I Solution found of -118\n",
            "Cbc0038I Before mini branch and bound, 3 integers at bound fixed and 0 continuous\n",
            "Cbc0038I Full problem 3 rows 5 columns, reduced to 0 rows 0 columns\n",
            "Cbc0038I Mini branch and bound did not improve solution (0.00 seconds)\n",
            "Cbc0038I Round again with cutoff of -124.453\n",
            "Cbc0038I Pass   2: suminf.    0.10000 (1) obj. -165.7 iterations 0\n",
            "Cbc0038I Pass   3: suminf.    0.11125 (1) obj. -124.453 iterations 2\n",
            "Cbc0038I Pass   4: suminf.    0.30000 (1) obj. -155 iterations 2\n",
            "Cbc0038I Pass   5: suminf.    0.26361 (1) obj. -124.453 iterations 1\n",
            "Cbc0038I Pass   6: suminf.    0.26361 (1) obj. -124.453 iterations 0\n",
            "Cbc0038I Pass   7: suminf.    0.00000 (0) obj. -159 iterations 2\n",
            "Cbc0038I Solution found of -159\n",
            "Cbc0038I Before mini branch and bound, 2 integers at bound fixed and 0 continuous\n",
            "Cbc0038I Full problem 3 rows 5 columns, reduced to 3 rows 3 columns\n",
            "Cbc0038I Mini branch and bound did not improve solution (0.01 seconds)\n",
            "Cbc0038I Round again with cutoff of -162.705\n",
            "Cbc0038I Pass   8: suminf.    0.10000 (1) obj. -165.7 iterations 0\n",
            "Cbc0038I Pass   9: suminf.    0.75748 (2) obj. -162.705 iterations 2\n",
            "Cbc0038I Pass  10: suminf.    0.68526 (2) obj. -162.705 iterations 1\n",
            "Cbc0038I Pass  11: suminf.    0.09309 (2) obj. -162.705 iterations 1\n",
            "Cbc0038I Pass  12: suminf.    0.09309 (2) obj. -162.705 iterations 0\n",
            "Cbc0038I Pass  13: suminf.    0.09309 (2) obj. -162.705 iterations 0\n",
            "Cbc0038I Pass  14: suminf.    0.55849 (2) obj. -173.023 iterations 3\n",
            "Cbc0038I Pass  15: suminf.    0.58526 (2) obj. -162.705 iterations 2\n",
            "Cbc0038I Pass  16: suminf.    0.58526 (2) obj. -162.705 iterations 0\n",
            "Cbc0038I Pass  17: suminf.    0.23865 (1) obj. -162.705 iterations 1\n",
            "Cbc0038I Pass  18: suminf.    0.67925 (2) obj. -173.264 iterations 2\n",
            "Cbc0038I Pass  19: suminf.    0.03333 (1) obj. -165.667 iterations 2\n",
            "Cbc0038I Pass  20: suminf.    0.07564 (1) obj. -162.705 iterations 1\n",
            "Cbc0038I Pass  21: suminf.    0.03333 (1) obj. -165.667 iterations 1\n",
            "Cbc0038I Pass  22: suminf.    0.03333 (1) obj. -165.667 iterations 0\n",
            "Cbc0038I Pass  23: suminf.    0.67925 (2) obj. -173.264 iterations 2\n",
            "Cbc0038I Pass  24: suminf.    0.58526 (2) obj. -162.705 iterations 1\n",
            "Cbc0038I Pass  25: suminf.    0.58526 (2) obj. -162.705 iterations 0\n",
            "Cbc0038I Pass  26: suminf.    0.23865 (1) obj. -162.705 iterations 1\n",
            "Cbc0038I Pass  27: suminf.    0.67925 (2) obj. -173.264 iterations 2\n",
            "Cbc0038I Pass  28: suminf.    0.55849 (2) obj. -173.023 iterations 1\n",
            "Cbc0038I Pass  29: suminf.    0.55849 (2) obj. -173.023 iterations 0\n",
            "Cbc0038I Pass  30: suminf.    0.58526 (2) obj. -162.705 iterations 2\n",
            "Cbc0038I Pass  31: suminf.    0.58526 (2) obj. -162.705 iterations 0\n",
            "Cbc0038I Pass  32: suminf.    0.23865 (1) obj. -162.705 iterations 1\n",
            "Cbc0038I Pass  33: suminf.    0.67925 (2) obj. -173.264 iterations 2\n",
            "Cbc0038I Pass  34: suminf.    0.67925 (2) obj. -173.264 iterations 0\n",
            "Cbc0038I Pass  35: suminf.    0.67925 (2) obj. -173.264 iterations 0\n",
            "Cbc0038I Pass  36: suminf.    0.55849 (2) obj. -173.023 iterations 1\n",
            "Cbc0038I Pass  37: suminf.    0.55849 (2) obj. -173.023 iterations 0\n",
            "Cbc0038I No solution found this major pass\n",
            "Cbc0038I Before mini branch and bound, 0 integers at bound fixed and 0 continuous\n",
            "Cbc0038I Full problem 3 rows 5 columns, reduced to 3 rows 5 columns\n",
            "Cbc0038I Mini branch and bound did not improve solution (0.01 seconds)\n",
            "Cbc0038I After 0.01 seconds - Feasibility pump exiting with objective of -159 - took 0.00 seconds\n",
            "Cbc0012I Integer solution of -159 found by feasibility pump after 0 iterations and 0 nodes (0.01 seconds)\n",
            "Cbc0038I Full problem 3 rows 5 columns, reduced to 3 rows 3 columns\n",
            "Cbc0006I The LP relaxation is infeasible or too expensive\n",
            "Cbc0013I At root node, 0 cuts changed objective from -173.52642 to -173.52642 in 1 passes\n",
            "Cbc0014I Cut generator 0 (Probing) - 1 row cuts average 0.0 elements, 2 column cuts (2 active)  in 0.000 seconds - new frequency is 1\n",
            "Cbc0014I Cut generator 1 (Gomory) - 0 row cuts average 0.0 elements, 0 column cuts (0 active)  in 0.000 seconds - new frequency is -100\n",
            "Cbc0014I Cut generator 2 (Knapsack) - 0 row cuts average 0.0 elements, 0 column cuts (0 active)  in 0.000 seconds - new frequency is -100\n",
            "Cbc0014I Cut generator 3 (Clique) - 0 row cuts average 0.0 elements, 0 column cuts (0 active)  in 0.000 seconds - new frequency is -100\n",
            "Cbc0014I Cut generator 4 (MixedIntegerRounding2) - 0 row cuts average 0.0 elements, 0 column cuts (0 active)  in 0.000 seconds - new frequency is -100\n",
            "Cbc0014I Cut generator 5 (FlowCover) - 0 row cuts average 0.0 elements, 0 column cuts (0 active)  in 0.000 seconds - new frequency is -100\n",
            "Cbc0014I Cut generator 6 (TwoMirCuts) - 0 row cuts average 0.0 elements, 0 column cuts (0 active)  in 0.000 seconds - new frequency is -100\n",
            "Cbc0014I Cut generator 7 (ZeroHalf) - 0 row cuts average 0.0 elements, 0 column cuts (0 active)  in 0.000 seconds - new frequency is -100\n",
            "Cbc0001I Search completed - best objective -159, took 0 iterations and 0 nodes (0.01 seconds)\n",
            "Cbc0035I Maximum depth 0, 0 variables fixed on reduced cost\n",
            "Cuts at root node changed objective from -173.526 to -173.526\n",
            "Probing was tried 1 times and created 3 cuts of which 0 were active after adding rounds of cuts (0.000 seconds)\n",
            "Gomory was tried 0 times and created 0 cuts of which 0 were active after adding rounds of cuts (0.000 seconds)\n",
            "Knapsack was tried 0 times and created 0 cuts of which 0 were active after adding rounds of cuts (0.000 seconds)\n",
            "Clique was tried 0 times and created 0 cuts of which 0 were active after adding rounds of cuts (0.000 seconds)\n",
            "MixedIntegerRounding2 was tried 0 times and created 0 cuts of which 0 were active after adding rounds of cuts (0.000 seconds)\n",
            "FlowCover was tried 0 times and created 0 cuts of which 0 were active after adding rounds of cuts (0.000 seconds)\n",
            "TwoMirCuts was tried 0 times and created 0 cuts of which 0 were active after adding rounds of cuts (0.000 seconds)\n",
            "ZeroHalf was tried 0 times and created 0 cuts of which 0 were active after adding rounds of cuts (0.000 seconds)\n",
            "\n",
            "Result - Optimal solution found\n",
            "\n",
            "Objective value:                159.00000000\n",
            "Enumerated nodes:               0\n",
            "Total iterations:               0\n",
            "Time (CPU seconds):             0.01\n",
            "Time (Wallclock seconds):       0.01\n",
            "\n",
            "Option for printingOptions changed from normal to all\n",
            "Total time (CPU seconds):       0.01   (Wallclock seconds):       0.01\n",
            "\n",
            "\n",
            "Optimal Solution\n",
            "a1 = 0\n",
            "a2 = 1\n",
            "a3 = 1\n",
            "a4 = 1\n",
            "a5 = 0\n",
            "Maximum profilt : 159\n",
            "\n"
          ]
        }
      ],
      "source": [
        "import pulp\n",
        "import warnings\n",
        "warnings.filterwarnings(action='ignore')\n",
        "\n",
        "prob = pulp.LpProblem('Profit Max', pulp.LpMaximize)\n",
        "\n",
        "a1 = pulp.LpVariable('a1', lowBound=0, upBound=1, cat='Integer')\n",
        "a2 = pulp.LpVariable('a2', lowBound=0, upBound=1, cat='Integer')\n",
        "a3 = pulp.LpVariable('a3', lowBound=0, upBound=1, cat='Integer')\n",
        "a4 = pulp.LpVariable('a4', lowBound=0, upBound=1, cat='Integer')\n",
        "a5 = pulp.LpVariable('a5', lowBound=0, upBound=1, cat='Integer')\n",
        "\n",
        "# 목적함수 정의\n",
        "prob += 45 * a1 + 48 * a2 + 53 * a3 + 58 *a4 + 70 * a5\n",
        "\n",
        "# 부등식 (제약조건) 정의\n",
        "prob += 10*a1 + 15*a2 + 12*a3 + 13*a4 + 16*a5 <= 50\n",
        "prob += 20*a1 + 14*a2 + 11*a3 + 25*a4 + 30*a5 <= 60\n",
        "prob += 15*a1 + 19*a2 + 30*a3 + 20*a4 + 24*a5 <= 70\n",
        "\n",
        "# 문제풀기\n",
        "prob.solve()\n",
        "\n",
        "# 결과출력\n",
        "print(f'''\n",
        "Optimal Solution\n",
        "a1 = {int(a1.value())}\n",
        "a2 = {int(a2.value())}\n",
        "a3 = {int(a3.value())}\n",
        "a4 = {int(a4.value())}\n",
        "a5 = {int(a5.value())}\n",
        "Maximum profilt : {int(prob.objective.value())}\n",
        "''')"
      ]
    },
    {
      "cell_type": "code",
      "execution_count": null,
      "id": "4d2ed0df",
      "metadata": {
        "id": "4d2ed0df"
      },
      "outputs": [],
      "source": []
    },
    {
      "cell_type": "code",
      "execution_count": null,
      "id": "b1e570b0",
      "metadata": {
        "id": "b1e570b0"
      },
      "outputs": [],
      "source": []
    },
    {
      "cell_type": "code",
      "execution_count": null,
      "id": "2b701fd9",
      "metadata": {
        "id": "2b701fd9"
      },
      "outputs": [],
      "source": []
    }
  ],
  "metadata": {
    "kernelspec": {
      "display_name": "Python 3 (ipykernel)",
      "language": "python",
      "name": "python3"
    },
    "language_info": {
      "codemirror_mode": {
        "name": "ipython",
        "version": 3
      },
      "file_extension": ".py",
      "mimetype": "text/x-python",
      "name": "python",
      "nbconvert_exporter": "python",
      "pygments_lexer": "ipython3",
      "version": "3.9.8"
    },
    "colab": {
      "provenance": [],
      "include_colab_link": true
    }
  },
  "nbformat": 4,
  "nbformat_minor": 5
}