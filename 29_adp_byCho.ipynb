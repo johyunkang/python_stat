{
  "cells": [
    {
      "cell_type": "markdown",
      "metadata": {
        "id": "view-in-github",
        "colab_type": "text"
      },
      "source": [
        "<a href=\"https://colab.research.google.com/github/johyunkang/python_stat/blob/main/29_adp_byCho.ipynb\" target=\"_parent\"><img src=\"https://colab.research.google.com/assets/colab-badge.svg\" alt=\"Open In Colab\"/></a>"
      ]
    },
    {
      "cell_type": "markdown",
      "id": "1e530f30",
      "metadata": {
        "id": "1e530f30"
      },
      "source": [
        "# 29회 ADP 복원"
      ]
    },
    {
      "cell_type": "markdown",
      "id": "d0c9251b",
      "metadata": {
        "id": "d0c9251b"
      },
      "source": [
        "# 기계학습 (60점)"
      ]
    },
    {
      "cell_type": "code",
      "execution_count": null,
      "id": "e049709c",
      "metadata": {
        "id": "e049709c"
      },
      "outputs": [],
      "source": [
        "import numpy as np\n",
        "import pandas as pd\n",
        "import matplotlib.pyplot as plt\n",
        "import seaborn as sns\n",
        "import warnings\n",
        "warnings.filterwarnings('ignore')"
      ]
    },
    {
      "cell_type": "code",
      "execution_count": null,
      "id": "0f654c78",
      "metadata": {
        "id": "0f654c78"
      },
      "outputs": [],
      "source": [
        "pd.set_option('display.max_rows', 500)\n",
        "pd.set_option('display.max_columns', 500)\n",
        "pd.set_option('display.width', 500)"
      ]
    },
    {
      "cell_type": "code",
      "execution_count": null,
      "id": "e589eb95",
      "metadata": {
        "id": "e589eb95"
      },
      "outputs": [],
      "source": [
        "# import pandas as pd\n",
        "# #matplotlib 패키지 한글 깨짐 처리 시작\n",
        "# import matplotlib.pyplot as plt\n",
        "# import platform\n",
        "# if platform.system() == 'Darwin': #맥\n",
        "#         plt.rc('font', family='AppleGothic')\n",
        "# elif platform.system() == 'Windows': #윈도우\n",
        "#         plt.rc('font', family='Malgun Gothic')\n",
        "# elif platform.system() == 'Linux': #리눅스 (구글 콜랩)\n",
        "# #         !wget \"https://www.wfonts.com/download/data/2016/06/13/malgun-gothic/malgun.ttf\"\n",
        "# #         !mv malgun.ttf /usr/share/fonts/truetype/\n",
        "# #         import matplotlib.font_manager as fm\n",
        "# #         fm._rebuild()# ._rebuild()\n",
        "# #         plt.rc('font', family='Malgun Gothic')\n",
        "# #         plt.rc('font', family='malgun')\n",
        "# plt.rcParams['axes.unicode_minus'] = False #한글 폰트 사용시 마이너스 폰트 깨짐 해결"
      ]
    },
    {
      "cell_type": "code",
      "execution_count": null,
      "id": "1a0ef3c3",
      "metadata": {
        "id": "1a0ef3c3"
      },
      "outputs": [],
      "source": [
        "import pandas as pd\n",
        "#matplotlib 패키지 한글 깨짐 처리 시작\n",
        "import matplotlib.pyplot as plt\n",
        "import platform\n",
        "if platform.system() == 'Darwin': #맥\n",
        "        plt.rc('font', family='AppleGothic')\n",
        "elif platform.system() == 'Windows': #윈도우\n",
        "        plt.rc('font', family='Malgun Gothic')\n",
        "elif platform.system() == 'Linux': #리눅스 (구글 콜랩)\n",
        "#         !wget \"https://www.wfonts.com/download/data/2016/06/13/malgun-gothic/malgun.ttf\"\n",
        "#         command = \"sudo -S mv malgun.ttf /usr/share/fonts/truetype/\"\n",
        "#         pwd = 'dlqoffb1!'\n",
        "#         import os\n",
        "#         os.system('echo %s | %s' % (pwd, command))\n",
        "\n",
        "        import matplotlib.font_manager as fm\n",
        "        fe = fm.FontEntry(\n",
        "                fname=r'/usr/share/fonts/truetype/malgun.ttf', # ttf 파일이 저장되어 있는 경로\n",
        "                name='Malgun Gothic')                        # 이 폰트의 원하는 이름 설정\n",
        "        fm.fontManager.ttflist.insert(0, fe)\n",
        "        plt.rcParams.update({'font.size': 18, 'font.family': 'Malgun Gothic'})\n",
        "plt.rcParams['axes.unicode_minus'] = False #한글 폰트 사용시 마이너스 폰트 깨짐 해결"
      ]
    },
    {
      "cell_type": "markdown",
      "id": "435ce658",
      "metadata": {
        "id": "435ce658"
      },
      "source": [
        "## 데이터 설명\n",
        "- 데이터 출처 : https://www.data.go.kr/data/15094266/fileData.do 후처리\n",
        "- 데이터 링크 : https://raw.githubusercontent.com/Datamanim/datarepo/main/adp/29/p1.csv\n",
        "- 데이터 설명 : 대구도시공사_빅데이터_영구임대아파트 입주자 퇴거여부 데이터, 고유번호를 가진 계약자와 특정 아파트에 대해 매년 퇴거여부를 기록한 데이터"
      ]
    },
    {
      "cell_type": "markdown",
      "id": "c9373a22",
      "metadata": {
        "id": "c9373a22"
      },
      "source": [
        "## 1-1  계약자고유번호를 기준으로 거주연도 별 여러개의 데이터가 쌓여 있다. 각 계약자고유번호에 대해 가장 최신의 거주연도 행만 남겨라."
      ]
    },
    {
      "cell_type": "code",
      "execution_count": null,
      "id": "1b842c72",
      "metadata": {
        "id": "1b842c72"
      },
      "outputs": [],
      "source": []
    },
    {
      "cell_type": "markdown",
      "id": "4bd74ff9",
      "metadata": {
        "id": "4bd74ff9"
      },
      "source": [
        "## 1-2 결측치 처리"
      ]
    },
    {
      "cell_type": "code",
      "execution_count": null,
      "id": "733a7abd",
      "metadata": {
        "id": "733a7abd"
      },
      "outputs": [],
      "source": []
    },
    {
      "cell_type": "markdown",
      "id": "0265da78",
      "metadata": {
        "id": "0265da78"
      },
      "source": [
        "## 1-3 이상치 처리"
      ]
    },
    {
      "cell_type": "code",
      "execution_count": null,
      "id": "768c566e",
      "metadata": {
        "id": "768c566e"
      },
      "outputs": [],
      "source": []
    },
    {
      "cell_type": "markdown",
      "id": "36befdb1",
      "metadata": {
        "id": "36befdb1"
      },
      "source": [
        "## 2-1 재계약 횟수의 중앙값을 기준으로 중앙값보다 크거나 같으면 '높음', 작으면 '낮음' 으로 재계약 횟수 이분 변수를 구성하시오."
      ]
    },
    {
      "cell_type": "code",
      "execution_count": null,
      "id": "1fa874f8",
      "metadata": {
        "id": "1fa874f8"
      },
      "outputs": [],
      "source": []
    },
    {
      "cell_type": "markdown",
      "id": "0b465a8e",
      "metadata": {
        "id": "0b465a8e"
      },
      "source": [
        "## 2-2 차원축소의 필요성을 논하고, 필요에 따라 차원을 축소하고 불필요하다면 그 근거를 논하시오."
      ]
    },
    {
      "cell_type": "code",
      "execution_count": null,
      "id": "444a894e",
      "metadata": {
        "id": "444a894e"
      },
      "outputs": [],
      "source": []
    },
    {
      "cell_type": "markdown",
      "id": "a50e03d7",
      "metadata": {
        "id": "a50e03d7"
      },
      "source": [
        "## 3-1 재계약 횟수 이분변수를 기준으로 세그먼트를 구분하고 각 세그먼트의 특징을 분석하시오."
      ]
    },
    {
      "cell_type": "code",
      "execution_count": null,
      "id": "06d865b5",
      "metadata": {
        "id": "06d865b5"
      },
      "outputs": [],
      "source": []
    },
    {
      "cell_type": "markdown",
      "id": "7c145d8f",
      "metadata": {
        "id": "7c145d8f"
      },
      "source": [
        "## 3-2. 재계약횟수 변수를 종속변수로 하는 회귀 분석을 두 가지 이상의 방법론을 통해 수행하고 최종 모델을 결정하시오. 재계약횟수 이분변수를 종속변수로 하는 분류 분석을 두가지 이상의 방법론을 통해 수행하고 최종 모델을 결정하시오."
      ]
    },
    {
      "cell_type": "code",
      "execution_count": null,
      "id": "2349d2be",
      "metadata": {
        "id": "2349d2be"
      },
      "outputs": [],
      "source": []
    },
    {
      "cell_type": "markdown",
      "id": "0384e775",
      "metadata": {
        "id": "0384e775"
      },
      "source": [
        "## 3-3 최종 채택한 모델에서 각각 유의하게 작용하는 변수를 확인 하고 설명하시오"
      ]
    },
    {
      "cell_type": "code",
      "execution_count": null,
      "id": "f8475a63",
      "metadata": {
        "id": "f8475a63"
      },
      "outputs": [],
      "source": []
    },
    {
      "cell_type": "markdown",
      "id": "c8f2a882",
      "metadata": {
        "id": "c8f2a882"
      },
      "source": [
        "## 3-4 해당 데이터 분석결과로 얻을 수 있는 점 제시"
      ]
    },
    {
      "cell_type": "code",
      "execution_count": null,
      "id": "d661049f",
      "metadata": {
        "id": "d661049f"
      },
      "outputs": [],
      "source": []
    },
    {
      "cell_type": "markdown",
      "id": "c684b36a",
      "metadata": {
        "id": "c684b36a"
      },
      "source": [
        "## 데이터 설명\n",
        "- 데이터 출처 : https://www.kaggle.com/datasets/pschale/mlb-pitch-data-20152018 데이터를 후처리\n",
        "- 데이터 링크 : https://raw.githubusercontent.com/Datamanim/datarepo/main/adp/29/p2_.csv\n",
        "- 데이터 설명 :\n",
        "\n",
        "A 야구구단의 시합 결과중 일부를 나타낸다.    \n",
        "각 행은 하나의 경기를 의미(game_id)하며 9회차(= 9이닝) 동안 1번타자, 2번타자의 출루 정보를 의미한다.     \n",
        "각 컬럼에 대한 설명은 아래 이미지와 같으며, value값의 index는 이미지의 '수치 의미' 열을 통해 확인 할 수 있다.\n"
      ]
    },
    {
      "cell_type": "markdown",
      "id": "dbd91d8b",
      "metadata": {
        "id": "dbd91d8b"
      },
      "source": [
        "<img src=\"https://github.com/Datamanim/datarepo/blob/main/adp/29/p1_img.png?raw=true\" width=\"500\" height=\"600\">"
      ]
    },
    {
      "cell_type": "markdown",
      "id": "1bc6f69c",
      "metadata": {
        "id": "1bc6f69c"
      },
      "source": [
        "## 4-1 각 회차별로 1번 타자의 출루 (1,2,3루타와 사사구(볼넷, 몸에맞는공))가 있는 경우에 대해 득점이 발생 했는지 확인하고자 한다. 이를 위한 전처리를 수행하라. (단, 첫 번째 혹은 두 번째 타자가 홈런을 친 경우 해당 회차 데이터는 제외한다.)     \n",
        "\n",
        "조건1 : 득점여부를 범주형 종속변수로 한다. (1점이상 득점 :1, 무득점 :0)     \n",
        "조건2 : 각 회차 2번 타자의 데이터는 원핫 인코딩한다.    \n",
        "조건3 : 학습에 적절하지 않은 데이터는 제외한다.    "
      ]
    },
    {
      "cell_type": "code",
      "execution_count": null,
      "id": "a4ca3fd4",
      "metadata": {
        "id": "a4ca3fd4"
      },
      "outputs": [],
      "source": []
    },
    {
      "cell_type": "markdown",
      "id": "d95f4e52",
      "metadata": {
        "id": "d95f4e52"
      },
      "source": [
        "## 4-2 4-1 데이터에 대해 Logistic Regression을 적용하고 2번타자의 희생번트 여부에 대한 회귀 계수 검정을 하라"
      ]
    },
    {
      "cell_type": "code",
      "execution_count": null,
      "id": "41d1ca9f",
      "metadata": {
        "id": "41d1ca9f"
      },
      "outputs": [],
      "source": []
    },
    {
      "cell_type": "markdown",
      "id": "ced79c7b",
      "metadata": {
        "id": "ced79c7b"
      },
      "source": [
        "## 4-3 SMOTE (random_state =0 지정)를 적용하여 data imbalance를 해결하라"
      ]
    },
    {
      "cell_type": "code",
      "execution_count": null,
      "id": "28708ace",
      "metadata": {
        "id": "28708ace"
      },
      "outputs": [],
      "source": []
    },
    {
      "cell_type": "markdown",
      "id": "0b20a303",
      "metadata": {
        "id": "0b20a303"
      },
      "source": [
        "## 4-4 4-3 구성 데이터에 Logistic Regression을 적용하고 결과를 분석하라"
      ]
    },
    {
      "cell_type": "code",
      "execution_count": null,
      "id": "16520555",
      "metadata": {
        "id": "16520555"
      },
      "outputs": [],
      "source": []
    },
    {
      "cell_type": "markdown",
      "id": "9b6327dc",
      "metadata": {
        "id": "9b6327dc"
      },
      "source": [
        "## 4-5 4-3 구성 데이터에 XGB 적용하고 결과를 분석하라"
      ]
    },
    {
      "cell_type": "code",
      "execution_count": null,
      "id": "c91fbb35",
      "metadata": {
        "id": "c91fbb35"
      },
      "outputs": [],
      "source": []
    },
    {
      "cell_type": "markdown",
      "id": "526e7015",
      "metadata": {
        "id": "526e7015"
      },
      "source": [
        "# 통계 (40점)"
      ]
    },
    {
      "cell_type": "markdown",
      "id": "862751b7",
      "metadata": {
        "id": "862751b7"
      },
      "source": [
        "## 5. 제품 A의 불량률은 0.03이다. 25개의 제품을 뽑았을 때 3개가 불량일 확률을 구하시오. (소수점 다섯 째 자리에서 반올림)"
      ]
    },
    {
      "cell_type": "code",
      "execution_count": null,
      "id": "93c5952b",
      "metadata": {
        "id": "93c5952b",
        "outputId": "ff8b2d40-46cd-4f39-f9a0-9790b6b05165"
      },
      "outputs": [
        {
          "name": "stdout",
          "output_type": "stream",
          "text": [
            "이항분포. \n",
            "3% 확률의 베르누이 시행을 25회 반복할 때 일어나는 성공횟수 3회\n",
            "답: 0.0318\n"
          ]
        }
      ],
      "source": [
        "n = 25\n",
        "p = 0.03\n",
        "k = 3\n",
        "\n",
        "import math\n",
        "combination = math.comb(n, k)\n",
        "\n",
        "ans = combination * (p**k) * ((1-p)**(n-k))\n",
        "print(f'''이항분포.\n",
        "3% 확률의 베르누이 시행을 25회 반복할 때 일어나는 성공횟수 3회\n",
        "답: {round(ans, 4)}''') # 5째자리에서 반올림 하여 4째자리까지 표시"
      ]
    },
    {
      "cell_type": "markdown",
      "id": "884a2cee",
      "metadata": {
        "id": "884a2cee"
      },
      "source": [
        "## 6. C사 생산 제품 1000개 중 양품이 600개, D사 생산 제품 500개 중 양품이 200개 이다. 두 회사의 양품률에 차이가 있는지 검정하여라."
      ]
    },
    {
      "cell_type": "code",
      "execution_count": null,
      "id": "3485041e",
      "metadata": {
        "id": "3485041e",
        "outputId": "c9a4aa64-5f21-4df8-e4cb-b2431beb7ce7"
      },
      "outputs": [
        {
          "name": "stdout",
          "output_type": "stream",
          "text": [
            "\n",
            "- 귀무가설: 두 회사의 양품률에는 차이가 없다.\n",
            "- 대립가설: 두 회사의 양품률에는 차이가 있다.\n",
            "\n",
            "답: 유의수준 0.05 하에서 P-Value가 0.0 이기에 \n",
            "두 회사의 양품률에는 차이가 있다. (귀무가설 기각)\n"
          ]
        }
      ],
      "source": [
        "cn = 1000\n",
        "ca = 600\n",
        "dn = 500\n",
        "da = 200\n",
        "\n",
        "from scipy import stats\n",
        "data6 = [[ca, cn-ca], [da, dn-da]]\n",
        "# print(data6)\n",
        "chi2_stat, pval, dof, exp = stats.chi2_contingency(data6, correction=False)\n",
        "print(f'''\n",
        "- 귀무가설: 두 회사의 양품률에는 차이가 없다.\n",
        "- 대립가설: 두 회사의 양품률에는 차이가 있다.''')\n",
        "alpha = 0.05\n",
        "print(f'\\n답: 유의수준 0.05 하에서 P-Value가 {round(pval, 4)} 이기에 ')\n",
        "if pval > alpha :\n",
        "    print(f'두 회사의 양품률에는 차이가 없다. (귀무가설 기각 못 함)')\n",
        "else :\n",
        "    print(f'두 회사의 양품률에는 차이가 있다. (귀무가설 기각)')\n"
      ]
    },
    {
      "cell_type": "markdown",
      "id": "c7a58e3e",
      "metadata": {
        "id": "c7a58e3e"
      },
      "source": [
        "## 7. 아래 데이터는 a,b,c,d 네 차종 각각 5회 실험 시 범퍼 파손 정도 이다. (단, 각 모집단은 정규분포를 따르며 모집단 간 등분산성을 가정한다.)"
      ]
    },
    {
      "cell_type": "markdown",
      "id": "f8b5ffa3",
      "metadata": {
        "id": "f8b5ffa3"
      },
      "source": [
        "dataurl : https://raw.githubusercontent.com/Datamanim/datarepo/main/adp/29/p7.csv"
      ]
    },
    {
      "cell_type": "code",
      "execution_count": null,
      "id": "03eee7e5",
      "metadata": {
        "scrolled": false,
        "id": "03eee7e5",
        "outputId": "a4a5d496-0167-4fe4-be0f-65617315710d"
      },
      "outputs": [
        {
          "data": {
            "text/html": [
              "<div>\n",
              "<style scoped>\n",
              "    .dataframe tbody tr th:only-of-type {\n",
              "        vertical-align: middle;\n",
              "    }\n",
              "\n",
              "    .dataframe tbody tr th {\n",
              "        vertical-align: top;\n",
              "    }\n",
              "\n",
              "    .dataframe thead th {\n",
              "        text-align: right;\n",
              "    }\n",
              "</style>\n",
              "<table border=\"1\" class=\"dataframe\">\n",
              "  <thead>\n",
              "    <tr style=\"text-align: right;\">\n",
              "      <th></th>\n",
              "      <th>name</th>\n",
              "      <th>ratio</th>\n",
              "    </tr>\n",
              "  </thead>\n",
              "  <tbody>\n",
              "    <tr>\n",
              "      <th>0</th>\n",
              "      <td>A</td>\n",
              "      <td>10.993428</td>\n",
              "    </tr>\n",
              "    <tr>\n",
              "      <th>1</th>\n",
              "      <td>A</td>\n",
              "      <td>9.723471</td>\n",
              "    </tr>\n",
              "    <tr>\n",
              "      <th>2</th>\n",
              "      <td>A</td>\n",
              "      <td>11.295377</td>\n",
              "    </tr>\n",
              "  </tbody>\n",
              "</table>\n",
              "</div>"
            ],
            "text/plain": [
              "  name      ratio\n",
              "0    A  10.993428\n",
              "1    A   9.723471\n",
              "2    A  11.295377"
            ]
          },
          "metadata": {},
          "output_type": "display_data"
        }
      ],
      "source": [
        "df7 = pd.read_csv('https://raw.githubusercontent.com/Datamanim/datarepo/main/adp/29/p7.csv')\n",
        "display(df7.head(3))"
      ]
    },
    {
      "cell_type": "markdown",
      "id": "3036536d",
      "metadata": {
        "id": "3036536d"
      },
      "source": [
        "### 7-1. 각 차종 별 범퍼 파손의 정도에 차이가 유의한지 검정하라."
      ]
    },
    {
      "cell_type": "code",
      "execution_count": null,
      "id": "7471afc5",
      "metadata": {
        "id": "7471afc5",
        "outputId": "7e9165da-42bc-4d18-bb15-f4a60d907d4b"
      },
      "outputs": [
        {
          "data": {
            "text/html": [
              "<table class=\"simpletable\">\n",
              "<caption>OLS Regression Results</caption>\n",
              "<tr>\n",
              "  <th>Dep. Variable:</th>          <td>ratio</td>      <th>  R-squared:         </th> <td>   0.824</td>\n",
              "</tr>\n",
              "<tr>\n",
              "  <th>Model:</th>                   <td>OLS</td>       <th>  Adj. R-squared:    </th> <td>   0.791</td>\n",
              "</tr>\n",
              "<tr>\n",
              "  <th>Method:</th>             <td>Least Squares</td>  <th>  F-statistic:       </th> <td>   24.98</td>\n",
              "</tr>\n",
              "<tr>\n",
              "  <th>Date:</th>             <td>Mon, 14 Aug 2023</td> <th>  Prob (F-statistic):</th> <td>2.82e-06</td>\n",
              "</tr>\n",
              "<tr>\n",
              "  <th>Time:</th>                 <td>12:55:28</td>     <th>  Log-Likelihood:    </th> <td> -37.643</td>\n",
              "</tr>\n",
              "<tr>\n",
              "  <th>No. Observations:</th>      <td>    20</td>      <th>  AIC:               </th> <td>   83.29</td>\n",
              "</tr>\n",
              "<tr>\n",
              "  <th>Df Residuals:</th>          <td>    16</td>      <th>  BIC:               </th> <td>   87.27</td>\n",
              "</tr>\n",
              "<tr>\n",
              "  <th>Df Model:</th>              <td>     3</td>      <th>                     </th>     <td> </td>   \n",
              "</tr>\n",
              "<tr>\n",
              "  <th>Covariance Type:</th>      <td>nonrobust</td>    <th>                     </th>     <td> </td>   \n",
              "</tr>\n",
              "</table>\n",
              "<table class=\"simpletable\">\n",
              "<tr>\n",
              "      <td></td>         <th>coef</th>     <th>std err</th>      <th>t</th>      <th>P>|t|</th>  <th>[0.025</th>    <th>0.975]</th>  \n",
              "</tr>\n",
              "<tr>\n",
              "  <th>Intercept</th> <td>   10.9180</td> <td>    0.795</td> <td>   13.741</td> <td> 0.000</td> <td>    9.234</td> <td>   12.602</td>\n",
              "</tr>\n",
              "<tr>\n",
              "  <th>name[T.B]</th> <td>    5.3934</td> <td>    1.124</td> <td>    4.800</td> <td> 0.000</td> <td>    3.011</td> <td>    7.775</td>\n",
              "</tr>\n",
              "<tr>\n",
              "  <th>name[T.C]</th> <td>   -4.2156</td> <td>    1.124</td> <td>   -3.752</td> <td> 0.002</td> <td>   -6.598</td> <td>   -1.834</td>\n",
              "</tr>\n",
              "<tr>\n",
              "  <th>name[T.D]</th> <td>   -0.7086</td> <td>    1.124</td> <td>   -0.631</td> <td> 0.537</td> <td>   -3.091</td> <td>    1.674</td>\n",
              "</tr>\n",
              "</table>\n",
              "<table class=\"simpletable\">\n",
              "<tr>\n",
              "  <th>Omnibus:</th>       <td> 0.695</td> <th>  Durbin-Watson:     </th> <td>   2.300</td>\n",
              "</tr>\n",
              "<tr>\n",
              "  <th>Prob(Omnibus):</th> <td> 0.706</td> <th>  Jarque-Bera (JB):  </th> <td>   0.720</td>\n",
              "</tr>\n",
              "<tr>\n",
              "  <th>Skew:</th>          <td> 0.356</td> <th>  Prob(JB):          </th> <td>   0.698</td>\n",
              "</tr>\n",
              "<tr>\n",
              "  <th>Kurtosis:</th>      <td> 2.403</td> <th>  Cond. No.          </th> <td>    4.79</td>\n",
              "</tr>\n",
              "</table><br/><br/>Notes:<br/>[1] Standard Errors assume that the covariance matrix of the errors is correctly specified."
            ],
            "text/plain": [
              "<class 'statsmodels.iolib.summary.Summary'>\n",
              "\"\"\"\n",
              "                            OLS Regression Results                            \n",
              "==============================================================================\n",
              "Dep. Variable:                  ratio   R-squared:                       0.824\n",
              "Model:                            OLS   Adj. R-squared:                  0.791\n",
              "Method:                 Least Squares   F-statistic:                     24.98\n",
              "Date:                Mon, 14 Aug 2023   Prob (F-statistic):           2.82e-06\n",
              "Time:                        12:55:28   Log-Likelihood:                -37.643\n",
              "No. Observations:                  20   AIC:                             83.29\n",
              "Df Residuals:                      16   BIC:                             87.27\n",
              "Df Model:                           3                                         \n",
              "Covariance Type:            nonrobust                                         \n",
              "==============================================================================\n",
              "                 coef    std err          t      P>|t|      [0.025      0.975]\n",
              "------------------------------------------------------------------------------\n",
              "Intercept     10.9180      0.795     13.741      0.000       9.234      12.602\n",
              "name[T.B]      5.3934      1.124      4.800      0.000       3.011       7.775\n",
              "name[T.C]     -4.2156      1.124     -3.752      0.002      -6.598      -1.834\n",
              "name[T.D]     -0.7086      1.124     -0.631      0.537      -3.091       1.674\n",
              "==============================================================================\n",
              "Omnibus:                        0.695   Durbin-Watson:                   2.300\n",
              "Prob(Omnibus):                  0.706   Jarque-Bera (JB):                0.720\n",
              "Skew:                           0.356   Prob(JB):                        0.698\n",
              "Kurtosis:                       2.403   Cond. No.                         4.79\n",
              "==============================================================================\n",
              "\n",
              "Notes:\n",
              "[1] Standard Errors assume that the covariance matrix of the errors is correctly specified.\n",
              "\"\"\""
            ]
          },
          "metadata": {},
          "output_type": "display_data"
        },
        {
          "data": {
            "text/html": [
              "<div>\n",
              "<style scoped>\n",
              "    .dataframe tbody tr th:only-of-type {\n",
              "        vertical-align: middle;\n",
              "    }\n",
              "\n",
              "    .dataframe tbody tr th {\n",
              "        vertical-align: top;\n",
              "    }\n",
              "\n",
              "    .dataframe thead th {\n",
              "        text-align: right;\n",
              "    }\n",
              "</style>\n",
              "<table border=\"1\" class=\"dataframe\">\n",
              "  <thead>\n",
              "    <tr style=\"text-align: right;\">\n",
              "      <th></th>\n",
              "      <th>df</th>\n",
              "      <th>sum_sq</th>\n",
              "      <th>mean_sq</th>\n",
              "      <th>F</th>\n",
              "      <th>PR(&gt;F)</th>\n",
              "    </tr>\n",
              "  </thead>\n",
              "  <tbody>\n",
              "    <tr>\n",
              "      <th>name</th>\n",
              "      <td>3.0</td>\n",
              "      <td>236.534027</td>\n",
              "      <td>78.844676</td>\n",
              "      <td>24.976953</td>\n",
              "      <td>0.000003</td>\n",
              "    </tr>\n",
              "    <tr>\n",
              "      <th>Residual</th>\n",
              "      <td>16.0</td>\n",
              "      <td>50.507154</td>\n",
              "      <td>3.156697</td>\n",
              "      <td>NaN</td>\n",
              "      <td>NaN</td>\n",
              "    </tr>\n",
              "  </tbody>\n",
              "</table>\n",
              "</div>"
            ],
            "text/plain": [
              "            df      sum_sq    mean_sq          F    PR(>F)\n",
              "name       3.0  236.534027  78.844676  24.976953  0.000003\n",
              "Residual  16.0   50.507154   3.156697        NaN       NaN"
            ]
          },
          "metadata": {},
          "output_type": "display_data"
        }
      ],
      "source": [
        "import statsmodels.formula.api as smf\n",
        "import statsmodels.api as sm\n",
        "\n",
        "fitted_model = smf.ols('ratio ~ name', data=df7).fit()\n",
        "display(fitted_model.summary())\n",
        "table = sm.stats.anova_lm(fitted_model)\n",
        "display(table)"
      ]
    },
    {
      "cell_type": "markdown",
      "id": "750be63a",
      "metadata": {
        "id": "750be63a"
      },
      "source": [
        "- 귀무가설(H0): 각 차종별 범퍼 파손의 정도에 차이가 없다.\n",
        "- 대립가설(H1): 각 차종별 범퍼 파손의 정도에 차이가 있다.\n",
        "\n",
        "\n",
        "- **답: P-Value 가 0.000003로서 유의수준 0.05보다 작기에 귀무가설을 기각하고 대립가설을 채택한다. 즉, 차종별 범퍼 파손의 정도에 차이가 유의하다**"
      ]
    },
    {
      "cell_type": "markdown",
      "id": "85e74e58",
      "metadata": {
        "id": "85e74e58"
      },
      "source": [
        "### 7-2 귀무가설을 채택한다면 그 의미를 해석하고, 귀무가설을 기각하였다면 사후분석을 시행하라."
      ]
    },
    {
      "cell_type": "code",
      "execution_count": null,
      "id": "a65bb322",
      "metadata": {
        "id": "a65bb322",
        "outputId": "c2f71081-2d81-4859-d96a-9ad8ab5fd109"
      },
      "outputs": [
        {
          "name": "stdout",
          "output_type": "stream",
          "text": [
            "사후분석 결과\n",
            "  Multiple Comparison of Means - Tukey HSD, FWER=0.05 \n",
            "=====================================================\n",
            "group1 group2 meandiff p-adj   lower    upper  reject\n",
            "-----------------------------------------------------\n",
            "     A      B   5.3934  0.001   2.1785  8.6083   True\n",
            "     A      C  -4.2156 0.0085  -7.4305 -1.0007   True\n",
            "     A      D  -0.7086 0.9207  -3.9235  2.5063  False\n",
            "     B      C   -9.609    0.0 -12.8239 -6.3941   True\n",
            "     B      D   -6.102 0.0003  -9.3169 -2.8871   True\n",
            "     C      D    3.507 0.0302   0.2921  6.7219   True\n",
            "-----------------------------------------------------\n"
          ]
        },
        {
          "data": {
            "image/png": "[encoded data removed]",
            "text/plain": [
              "<Figure size 1000x600 with 1 Axes>"
            ]
          },
          "metadata": {},
          "output_type": "display_data"
        }
      ],
      "source": [
        "from statsmodels.stats.multicomp import MultiComparison\n",
        "\n",
        "\n",
        "mc = MultiComparison(df7['ratio'], df7['name'])\n",
        "result = mc.tukeyhsd(alpha=0.05)\n",
        "print('사후분석 결과\\n', result)\n",
        "\n",
        "fig = result.plot_simultaneous()\n",
        "plt.title('차종별 범퍼 파손 정도')\n",
        "plt.show()"
      ]
    },
    {
      "cell_type": "code",
      "execution_count": null,
      "id": "eeea9fff",
      "metadata": {
        "id": "eeea9fff",
        "outputId": "615013f9-fa69-4814-936f-02f9640593a4"
      },
      "outputs": [
        {
          "name": "stdout",
          "output_type": "stream",
          "text": [
            " Multiple Comparison of Means - Tukey HSD, FWER=0.05 \n",
            "=====================================================\n",
            "group1 group2 meandiff p-adj   lower    upper  reject\n",
            "-----------------------------------------------------\n",
            "     A      B   5.3934  0.001   2.1785  8.6083   True\n",
            "     A      C  -4.2156 0.0085  -7.4305 -1.0007   True\n",
            "     A      D  -0.7086 0.9207  -3.9235  2.5063  False\n",
            "     B      C   -9.609    0.0 -12.8239 -6.3941   True\n",
            "     B      D   -6.102 0.0003  -9.3169 -2.8871   True\n",
            "     C      D    3.507 0.0302   0.2921  6.7219   True\n",
            "-----------------------------------------------------\n"
          ]
        },
        {
          "data": {
            "text/plain": [
              "Text(0.5, 1.0, '차종별 범퍼 파손 정도')"
            ]
          },
          "execution_count": 19,
          "metadata": {},
          "output_type": "execute_result"
        },
        {
          "data": {
            "image/png": "[encoded data removed]",
            "text/plain": [
              "<Figure size 1000x600 with 1 Axes>"
            ]
          },
          "metadata": {},
          "output_type": "display_data"
        }
      ],
      "source": [
        "from statsmodels.stats.multicomp import pairwise_tukeyhsd\n",
        "\n",
        "posthoc = pairwise_tukeyhsd(df7.ratio, df7.name, alpha=0.05)\n",
        "print(posthoc)\n",
        "fig = posthoc.plot_simultaneous()\n",
        "plt.title('차종별 범퍼 파손 정도')"
      ]
    },
    {
      "cell_type": "markdown",
      "id": "54cfd86e",
      "metadata": {
        "id": "54cfd86e"
      },
      "source": [
        "- 사후분석 결과 A, D 차종의 p-adj 값이 0.9207 로 유의하지 않아, 범퍼 파손 정도에 차이가 없다고 판단이 가능하나, 나머지 결과는 각 차종 간 범퍼 파손 정도에 차이가 있다고 할 수 있다.\n",
        "\n",
        "- 시각화 한 그래프는 X축은 파손정도, Y축은 차종이다.\n",
        "- A와 D 차종의 파손정도는 거의 같은 파손정도를 보이지만, 나머지와는 파손정도가 구분되게 표현되는 것을 확인할 수 있다."
      ]
    },
    {
      "cell_type": "markdown",
      "id": "5d94251d",
      "metadata": {
        "id": "5d94251d"
      },
      "source": [
        "## 8. L1,L2,L3 세 개의 생산라인에서 각각 13%, 37%, 50%를 생산하며 각각 1.1% , 2.1%, 3.3% 불량률을 갖는다. 불량 제품이 나왔을 때 L1 라인에서 생산되었을 확률을 구하시오. (소수점 둘째자리에서 반올림)"
      ]
    },
    {
      "cell_type": "code",
      "execution_count": null,
      "id": "f8795812",
      "metadata": {
        "id": "f8795812",
        "outputId": "c040315c-7ec2-430f-903c-2b5a8a569733"
      },
      "outputs": [
        {
          "name": "stdout",
          "output_type": "stream",
          "text": [
            "답: 5.6%\n"
          ]
        }
      ],
      "source": [
        "p1 = 0.13\n",
        "p2 = 0.37\n",
        "p3 = 0.5\n",
        "\n",
        "p1_f = 0.011\n",
        "p2_f = 0.021\n",
        "p3_f = 0.033\n",
        "\n",
        "ans = (p1 * p1_f) / ((p1*p1_f) + (p2*p2_f) + (p3*p3_f))\n",
        "print(f'답: {round(ans * 100, 1)}%') # 소수점 둘째자리에서 반올림"
      ]
    },
    {
      "cell_type": "markdown",
      "id": "eb0bbed2",
      "metadata": {
        "id": "eb0bbed2"
      },
      "source": [
        "- 베이즈 정리를 이용하는 문제이며  답은 5.6% 이다"
      ]
    },
    {
      "cell_type": "markdown",
      "id": "3d6834a0",
      "metadata": {
        "id": "3d6834a0"
      },
      "source": [
        "created by datamanim [web-link](https://www.datamanim.com)"
      ]
    }
  ],
  "metadata": {
    "kernelspec": {
      "display_name": "Python 3 (ipykernel)",
      "language": "python",
      "name": "python3"
    },
    "language_info": {
      "codemirror_mode": {
        "name": "ipython",
        "version": 3
      },
      "file_extension": ".py",
      "mimetype": "text/x-python",
      "name": "python",
      "nbconvert_exporter": "python",
      "pygments_lexer": "ipython3",
      "version": "3.10.6"
    },
    "colab": {
      "provenance": [],
      "include_colab_link": true
    }
  },
  "nbformat": 4,
  "nbformat_minor": 5
}