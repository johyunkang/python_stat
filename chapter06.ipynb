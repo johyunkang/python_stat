{
  "nbformat": 4,
  "nbformat_minor": 0,
  "metadata": {
    "colab": {
      "provenance": [],
      "collapsed_sections": [],
      "toc_visible": true,
      "authorship_tag": "ABX9TyOkyJzekglA+WsCGHkBS1aC",
      "include_colab_link": true
    },
    "kernelspec": {
      "name": "python3",
      "display_name": "Python 3"
    },
    "language_info": {
      "name": "python"
    }
  },
  "cells": [
    {
      "cell_type": "markdown",
      "metadata": {
        "id": "view-in-github",
        "colab_type": "text"
      },
      "source": [
        "<a href=\"https://colab.research.google.com/github/johyunkang/python_stat/blob/main/chapter06.ipynb\" target=\"_parent\"><img src=\"https://colab.research.google.com/assets/colab-badge.svg\" alt=\"Open In Colab\"/></a>"
      ]
    },
    {
      "cell_type": "markdown",
      "source": [
        "# Chapter 06 대표적인 이산형 확률분포"
      ],
      "metadata": {
        "id": "iYhls5DrEgr0"
      }
    },
    {
      "cell_type": "code",
      "execution_count": 1,
      "metadata": {
        "colab": {
          "base_uri": "https://localhost:8080/",
          "height": 35
        },
        "id": "D7xP3bjoEdab",
        "outputId": "214649f6-94c5-4cf8-c0f1-91731d9402f1"
      },
      "outputs": [
        {
          "output_type": "execute_result",
          "data": {
            "text/plain": [
              "'%.3f'"
            ],
            "application/vnd.google.colaboratory.intrinsic+json": {
              "type": "string"
            }
          },
          "metadata": {},
          "execution_count": 1
        }
      ],
      "source": [
        "import numpy as np\n",
        "import matplotlib.pyplot as plt\n",
        "from scipy import stats\n",
        "\n",
        "%matplotlib inline\n",
        "%precision 3\n"
      ]
    },
    {
      "cell_type": "markdown",
      "source": [],
      "metadata": {
        "id": "bGDrM78qE4qu"
      }
    },
    {
      "cell_type": "code",
      "source": [
        "# 아래로 사용할 함수들 미리 정의\n",
        "\n",
        "# 그래프에서 선의 종류\n",
        "linestyles = ['-', '--', ':']\n",
        "\n",
        "# 평균(기댓값)에 대한 함수\n",
        "def Expect(X, g=lambda x: x) :\n",
        "    x_set, f = X\n",
        "    return np.sum([g(x_k) * f(x_k) for x_k in x_set])\n",
        "\n",
        "# 분산에 대한 함수\n",
        "def Vari(X, g=lambda x: x) :\n",
        "    x_set, f = X\n",
        "    mean = Expect(X, g)\n",
        "    return np.sum([(g(x_k) - mean)**2 * f(x_k) for x_k in x_set])"
      ],
      "metadata": {
        "id": "Mxn3S2zYE5GR"
      },
      "execution_count": 2,
      "outputs": []
    },
    {
      "cell_type": "code",
      "source": [
        "# 함수 미리 정의\n",
        "\n",
        "# 확률변수를 인수로 가지며, 그 확률변수가 확률의 성질을 만족하는지 확인\n",
        "# 기댓값과 분산을 계산하여 반환\n",
        "def check_prob(X) :\n",
        "    print('param X:', X)\n",
        "    x_set, f = X\n",
        "    print('x_set:', x_set, ', f:', f)\n",
        "    prob = np.array([f(x_k) for x_k in x_set])\n",
        "    assert np.all(prob >= 0), '[ERROR] minus probability'\n",
        "    prob_sum = np.round(np.sum(prob), 6)\n",
        "    assert prob_sum == 1, f'[ERROR] sum of probability is {prob_sum}'\n",
        "    print(f'expected value {Expect(X):.4}')\n",
        "    print(f'variance {(Vari(X)):.4}')\n",
        "\n",
        "\n",
        "# 확률변수를 인수로 가지고, 그 확률변수의 확률함수와 기댓값을 그리기 위한 함수   \n",
        "def plot_prob(X) :\n",
        "    x_set, f = X\n",
        "    prob = np.array([f(x_k) for x_k in x_set])\n",
        "\n",
        "    fig = plt.figure(figsize=(10, 6))\n",
        "    ax = fig.add_subplot(111)\n",
        "    ax.bar(x_set, prob, label = 'prob')\n",
        "    ax.vlines(Expect(X), 0, 1, label='mean')\n",
        "    ax.set_xticks(np.append(x_set, Expect(X)))\n",
        "    ax.set_ylim(0, prob.max() * 1.2)\n",
        "    ax.legend()\n",
        "\n",
        "    plt.show()\n",
        "    "
      ],
      "metadata": {
        "id": "Qf98F1T_VEG4"
      },
      "execution_count": 3,
      "outputs": []
    },
    {
      "cell_type": "markdown",
      "source": [
        "### 6.1 베르누이 분포\n",
        "- 가장 이상적인 이산형 확률분포\n",
        "- 확률변수가 취할 수 있는 값이 0과 1밖에 없는 분포\n",
        "- 베르누이 시행을 하여 1이 나오면 성공, 0이 나오면 실패라고 함\n",
        "- 확률변수가 취할 수 있는 값이 두 가지 밖에 없고, 합이 1이라는 성질\n",
        "- 어느 한쪽의 확률이 정해지면, 다른 한쪽도 자동적으로 정해짐\n",
        "- 1이 나오는 확률을 p, 0이 나오는 확률을 1-p 로 함"
      ],
      "metadata": {
        "id": "vGzNc-pCgLSh"
      }
    },
    {
      "cell_type": "markdown",
      "source": [
        "![bern](https://user-images.githubusercontent.com/291782/198064186-72ba43e1-b92a-462f-9c4d-6c97b39d99c8.png)\n",
        "\n",
        "- 위 함수가 복잡해 보이지만, 1을 대입하면 p가 반환, 0을 대입하면 1-p가 반환됨"
      ],
      "metadata": {
        "id": "pCwYkHUS1vgX"
      }
    },
    {
      "cell_type": "markdown",
      "source": [
        "- 동전을 던져 앞면이 나올 확률\n",
        "\n",
        "앞면이 나오면 1, 뒷면이 나오면 0으로 하는 확률변수 X 는 Bern(1/2)을 따름\n",
        "\n",
        "$P(X=1) = (\\dfrac{1} {2})^1 \\times (1 - \\dfrac {1} {2})^{(1-1)} = \\dfrac {1} {2} $\n",
        "\n",
        "\n",
        "- 주사위를 한 번 굴려 6이 나오지 않을 확률\n",
        "\n",
        "6이 나오면 1, 그 외의 숫자가 나오면 0은 Bern(1/6)을 따름\n",
        "\n",
        "주사위를 굴려 6이 나오지 않을 확률은\n",
        "\n",
        "$P(X=0) = (\\dfrac {1}{6})^0 \\times (1 - \\dfrac {1} {6})^{(1-0)} = \\dfrac {5} {6}$\n"
      ],
      "metadata": {
        "id": "xOboXmkO1Z_Y"
      }
    },
    {
      "cell_type": "markdown",
      "source": [
        "![bern-expect-var](https://user-images.githubusercontent.com/291782/198065962-fecf7362-2a35-4f87-99c3-6786aef9edfe.png)"
      ],
      "metadata": {
        "id": "0wSlNzFw3dHB"
      }
    },
    {
      "cell_type": "code",
      "source": [
        "# 베르누이 분포\n",
        "def Bern(p) :\n",
        "    x_set = np.array([0, 1])\n",
        "    def f(x) :\n",
        "        if x in x_set :\n",
        "            return p ** x * (1 - p) ** (1-x)\n",
        "        else :\n",
        "            return 0\n",
        "    return x_set, f"
      ],
      "metadata": {
        "id": "_G6DxRaEe4je"
      },
      "execution_count": 4,
      "outputs": []
    },
    {
      "cell_type": "code",
      "source": [
        "p = 0.3\n",
        "X = Bern(p)\n",
        "x_set, f = Bern(10)\n",
        "print('x_set:', x_set, ', f:', f)\n",
        "# 기댓값과 분산 : 기댓값 0.3, 분산은 0.3 * 0.7 = 0.21\n",
        "check_prob(X)"
      ],
      "metadata": {
        "colab": {
          "base_uri": "https://localhost:8080/"
        },
        "id": "mjEaleVPeyNW",
        "outputId": "2a96e388-1a0d-4fe8-a2c1-c0bde852d7d8"
      },
      "execution_count": 5,
      "outputs": [
        {
          "output_type": "stream",
          "name": "stdout",
          "text": [
            "x_set: [0 1] , f: <function Bern.<locals>.f at 0x7f99b1ecf170>\n",
            "param X: (array([0, 1]), <function Bern.<locals>.f at 0x7f99b1ecf3b0>)\n",
            "x_set: [0 1] , f: <function Bern.<locals>.f at 0x7f99b1ecf3b0>\n",
            "expected value 0.3\n",
            "variance 0.21\n"
          ]
        }
      ]
    },
    {
      "cell_type": "code",
      "source": [
        "check_prob(X)"
      ],
      "metadata": {
        "colab": {
          "base_uri": "https://localhost:8080/"
        },
        "id": "7RtBVonEgCGs",
        "outputId": "486bd69f-0def-43eb-9a36-e63f812ca50e"
      },
      "execution_count": 6,
      "outputs": [
        {
          "output_type": "stream",
          "name": "stdout",
          "text": [
            "param X: (array([0, 1]), <function Bern.<locals>.f at 0x7f99b1ecf3b0>)\n",
            "x_set: [0 1] , f: <function Bern.<locals>.f at 0x7f99b1ecf3b0>\n",
            "expected value 0.3\n",
            "variance 0.21\n"
          ]
        }
      ]
    },
    {
      "cell_type": "code",
      "source": [
        "plot_prob(X)\n",
        "# 중앙의 세로선이 확률변수 X의 기댓값을 나타냄"
      ],
      "metadata": {
        "colab": {
          "base_uri": "https://localhost:8080/",
          "height": 374
        },
        "id": "_8taQkhOgFm_",
        "outputId": "414a0416-3e9e-4736-c0eb-8242f9d22a8c"
      },
      "execution_count": 7,
      "outputs": [
        {
          "output_type": "display_data",
          "data": {
            "text/plain": [
              "<Figure size 720x432 with 1 Axes>"
            ],
            "image/png": "[encoded data removed]"
          },
          "metadata": {
            "needs_background": "light"
          }
        }
      ]
    },
    {
      "cell_type": "markdown",
      "source": [
        "`scipy.stats`를 사용해 구현\n",
        "\n",
        "`scipy.stats`에는 베르누이 분포를 따르는 확률변수를 생성할 수 있는 `bernoulli` 함수가 있음"
      ],
      "metadata": {
        "id": "tWS0ivuC6Yav"
      }
    },
    {
      "cell_type": "code",
      "source": [
        "rv = stats.bernoulli(p) # p = 0.3, rv (Random Variable, 확률변수)\n",
        "print('pmf:', rv.pmf(0), rv.pmf(1))"
      ],
      "metadata": {
        "colab": {
          "base_uri": "https://localhost:8080/"
        },
        "id": "KRzjWGne-SFT",
        "outputId": "fbac1666-c062-4cc8-82c7-0b028fb55904"
      },
      "execution_count": 8,
      "outputs": [
        {
          "output_type": "stream",
          "name": "stdout",
          "text": [
            "pmf: 0.7 0.3\n"
          ]
        }
      ]
    },
    {
      "cell_type": "markdown",
      "source": [
        "- pmf 메서드는 인수로 리스트를 넘길 수 있음\n",
        "- 리스트의 각 요소에 대한 확률이 저장된 Numpy 의 array 가 반환됨"
      ],
      "metadata": {
        "id": "2CEou5jn-l50"
      }
    },
    {
      "cell_type": "code",
      "source": [
        "print('pmf:', rv.pmf([0, 1]))\n",
        "\n",
        "# cdf 메서드를 사용하면 누적밀도함수를 계산할 수 있음\n",
        "print('cdf:', rv.cdf([0, 1]))\n",
        "\n",
        "# mean 을 이용하여 기댓값, var 메서드를 이용하여 분산을 계산 가능\n",
        "print('mean:', rv.mean(), ', var:', rv.var())"
      ],
      "metadata": {
        "colab": {
          "base_uri": "https://localhost:8080/"
        },
        "id": "4Fpyokcv-zGt",
        "outputId": "f6da3780-dbe8-4513-ee7c-fe85bd72f834"
      },
      "execution_count": 9,
      "outputs": [
        {
          "output_type": "stream",
          "name": "stdout",
          "text": [
            "pmf: [0.7 0.3]\n",
            "cdf: [0.7 1. ]\n",
            "mean: 0.3 , var: 0.21\n"
          ]
        }
      ]
    },
    {
      "cell_type": "markdown",
      "source": [
        "#### 베르누이 분포의 정리\n",
        "- 파라미터 : p\n",
        "- 취할 수 있는 값 : {0, 1}\n",
        "- 확률함수 : $p^x(1-p)^{(1-x)}$\n",
        "- 기댓값 : p\n",
        "- 분산 : p(1-p)\n",
        "- scipy.stats : bernoulli(p)"
      ],
      "metadata": {
        "id": "DmIsRbf6_S03"
      }
    },
    {
      "cell_type": "markdown",
      "source": [
        "### 6.2 이항분포 (binomial distribution)\n",
        "성공확률이 p인 베르누이 시행을 n 번 했을 때의 성공 횟수가 따르는 분포\n",
        "\n",
        "이항분포의 파라미터에는 성공확률인 p와 시행 횟수인 n \n",
        "\n",
        "p는 0 &le; p &le; 1, n은 1 이상인 정수\n",
        "\n",
        "이 책에서는 Bin(n, p)로 표기\n"
      ],
      "metadata": {
        "id": "TeqCisn1_p4T"
      }
    },
    {
      "cell_type": "markdown",
      "source": [
        "![bin](https://user-images.githubusercontent.com/291782/198075433-9f04022b-71f5-44e8-bcbe-4b5514e5f4b3.png)\n",
        "\n",
        "- 기호 $_nC_x$ 는 **콤비네이션**이라고 부르며, n개라는 서로 다른 것들 중에서 x개를 고를 수 있는 조합의 수를 나타냄\n",
        "\n",
        "- $_nC_x = \\dfrac {n!} {x!(n-x)!}$\n",
        "\n",
        "- 예) 6명의 학생 중 2명을 고르는 조합은, $_6C_2 = \\dfrac {6!} {2! (6-2)! } = 15$ 가 되어 15가지로 계산할 수 있음"
      ],
      "metadata": {
        "id": "kIP7dJdEAceU"
      }
    },
    {
      "cell_type": "markdown",
      "source": [
        "*동전을 10번 던져 앞면이 3번 나올 확률*\n",
        " - p = $\\dfrac {1}{2}$\n",
        " - 10번 했을 때의 성공횟수, Bin(10, 1/2)\n",
        " - 10번 던져 앞면이 3번 나올 확률은\n",
        " - $P(X=3) = _10C_3(\\dfrac {1} {2})^3 (1-\\dfrac{1}{2})^{(10-3)} = \\dfrac {15} {128}$"
      ],
      "metadata": {
        "id": "34T_yyMUBmw9"
      }
    },
    {
      "cell_type": "markdown",
      "source": [
        "*주사위를 4번 굴려 6이 나올 확률*\n",
        "\n",
        "- 이것은 p = 1/6 인 베르누이 시행을 4번 했을 때의 성공 횟수로 볼 수 있기 때문에 $Bin(4, \\dfrac {1} {6})$을 따릅니다.\n",
        "- 그러므로 주사위를 4번 던져 6이 한 번도 나오지 않는 확률은\n",
        "\n",
        "$P(X=0) = _4C_0(\\dfrac{1}{6})^0(1-\\dfrac{1}{6})^{(4-0)} = \\dfrac {625} {1296}$\n",
        "\n",
        "로 구할 수 있음"
      ],
      "metadata": {
        "id": "2AK0lUDOC89l"
      }
    },
    {
      "cell_type": "markdown",
      "source": [
        "p. 154 (이항분포의 기댓값과 분산) 부터"
      ],
      "metadata": {
        "id": "oePpLf-rF54L"
      }
    }
  ]
}