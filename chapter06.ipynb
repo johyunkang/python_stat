{
  "nbformat": 4,
  "nbformat_minor": 0,
  "metadata": {
    "colab": {
      "provenance": [],
      "collapsed_sections": [],
      "authorship_tag": "ABX9TyMEajrZqDYI/zLIPjXRRM2G",
      "include_colab_link": true
    },
    "kernelspec": {
      "name": "python3",
      "display_name": "Python 3"
    },
    "language_info": {
      "name": "python"
    }
  },
  "cells": [
    {
      "cell_type": "markdown",
      "metadata": {
        "id": "view-in-github",
        "colab_type": "text"
      },
      "source": [
        "<a href=\"https://colab.research.google.com/github/johyunkang/python_stat/blob/main/chapter06.ipynb\" target=\"_parent\"><img src=\"https://colab.research.google.com/assets/colab-badge.svg\" alt=\"Open In Colab\"/></a>"
      ]
    },
    {
      "cell_type": "markdown",
      "source": [
        "# Chapter 06 대표적인 이산형 확률분포"
      ],
      "metadata": {
        "id": "iYhls5DrEgr0"
      }
    },
    {
      "cell_type": "code",
      "execution_count": 1,
      "metadata": {
        "colab": {
          "base_uri": "https://localhost:8080/",
          "height": 35
        },
        "id": "D7xP3bjoEdab",
        "outputId": "f9edbb8a-7cab-4233-84fa-149fc124d101"
      },
      "outputs": [
        {
          "output_type": "execute_result",
          "data": {
            "text/plain": [
              "'%.3f'"
            ],
            "application/vnd.google.colaboratory.intrinsic+json": {
              "type": "string"
            }
          },
          "metadata": {},
          "execution_count": 1
        }
      ],
      "source": [
        "import numpy as np\n",
        "import matplotlib.pyplot as plt\n",
        "from scipy import stats\n",
        "\n",
        "%matplotlib inline\n",
        "%precision 3\n"
      ]
    },
    {
      "cell_type": "markdown",
      "source": [],
      "metadata": {
        "id": "bGDrM78qE4qu"
      }
    },
    {
      "cell_type": "code",
      "source": [
        "# 아래로 사용할 함수들 미리 정의\n",
        "\n",
        "# 그래프에서 선의 종류\n",
        "linestyles = ['-', '--', ':']\n",
        "\n",
        "# 평균(기댓값)에 대한 함수\n",
        "def Expect(X, g=lambda x: x) :\n",
        "    x_set, f = X\n",
        "    return np.sum([g(x_k) * f(x_k) for x_k in x_set])\n",
        "\n",
        "# 분산에 대한 함수\n",
        "def Vari(X, g=lambda x: x) :\n",
        "    x_set, f = X\n",
        "    mean = Expect(X, g)\n",
        "    return np.sum([(g(x_k) - mean)**2 * f(x_k) for x_k in x_set])"
      ],
      "metadata": {
        "id": "Mxn3S2zYE5GR"
      },
      "execution_count": 3,
      "outputs": []
    }
  ]
}