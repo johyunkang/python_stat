{
  "nbformat": 4,
  "nbformat_minor": 0,
  "metadata": {
    "colab": {
      "provenance": [],
      "collapsed_sections": [],
      "toc_visible": true,
      "authorship_tag": "ABX9TyMFv+Gj+fzcbCHS+VK59T5u",
      "include_colab_link": true
    },
    "kernelspec": {
      "name": "python3",
      "display_name": "Python 3"
    },
    "language_info": {
      "name": "python"
    }
  },
  "cells": [
    {
      "cell_type": "markdown",
      "metadata": {
        "id": "view-in-github",
        "colab_type": "text"
      },
      "source": [
        "<a href=\"https://colab.research.google.com/github/johyunkang/python_stat/blob/main/chapter06.ipynb\" target=\"_parent\"><img src=\"https://colab.research.google.com/assets/colab-badge.svg\" alt=\"Open In Colab\"/></a>"
      ]
    },
    {
      "cell_type": "markdown",
      "source": [
        "# Chapter 06 대표적인 이산형 확률분포"
      ],
      "metadata": {
        "id": "iYhls5DrEgr0"
      }
    },
    {
      "cell_type": "code",
      "execution_count": 1,
      "metadata": {
        "colab": {
          "base_uri": "https://localhost:8080/",
          "height": 35
        },
        "id": "D7xP3bjoEdab",
        "outputId": "d5eadc25-b218-4054-bd91-6d54371b6e48"
      },
      "outputs": [
        {
          "output_type": "execute_result",
          "data": {
            "text/plain": [
              "'%.3f'"
            ],
            "application/vnd.google.colaboratory.intrinsic+json": {
              "type": "string"
            }
          },
          "metadata": {},
          "execution_count": 1
        }
      ],
      "source": [
        "import numpy as np\n",
        "import matplotlib.pyplot as plt\n",
        "from scipy import stats\n",
        "\n",
        "%matplotlib inline\n",
        "%precision 3\n"
      ]
    },
    {
      "cell_type": "markdown",
      "source": [],
      "metadata": {
        "id": "bGDrM78qE4qu"
      }
    },
    {
      "cell_type": "code",
      "source": [
        "# 아래로 사용할 함수들 미리 정의\n",
        "\n",
        "# 그래프에서 선의 종류\n",
        "linestyles = ['-', '--', ':']\n",
        "\n",
        "# 평균(기댓값)에 대한 함수\n",
        "def Expect(X, g=lambda x: x) :\n",
        "    x_set, f = X\n",
        "    return np.sum([g(x_k) * f(x_k) for x_k in x_set])\n",
        "\n",
        "# 분산에 대한 함수\n",
        "def Vari(X, g=lambda x: x) :\n",
        "    x_set, f = X\n",
        "    mean = Expect(X, g)\n",
        "    return np.sum([(g(x_k) - mean)**2 * f(x_k) for x_k in x_set])"
      ],
      "metadata": {
        "id": "Mxn3S2zYE5GR"
      },
      "execution_count": 2,
      "outputs": []
    },
    {
      "cell_type": "code",
      "source": [
        "# 함수 미리 정의\n",
        "\n",
        "# 확률변수를 인수로 가지며, 그 확률변수가 확률의 성질을 만족하는지 확인\n",
        "# 기댓값과 분산을 계산하여 반환\n",
        "def check_prob(X) :\n",
        "    # print('param X:', X)\n",
        "    x_set, f = X\n",
        "    # print('x_set:', x_set, ', f:', f)\n",
        "    prob = np.array([f(x_k) for x_k in x_set])\n",
        "    assert np.all(prob >= 0), '[ERROR] minus probability'\n",
        "    prob_sum = np.round(np.sum(prob), 6)\n",
        "    assert prob_sum == 1, f'[ERROR] sum of probability is {prob_sum}'\n",
        "    print(f'expected value {Expect(X):.4}')\n",
        "    print(f'variance {(Vari(X)):.4}')\n",
        "\n",
        "\n",
        "# 확률변수를 인수로 가지고, 그 확률변수의 확률함수와 기댓값을 그리기 위한 함수   \n",
        "def plot_prob(X) :\n",
        "    x_set, f = X\n",
        "    prob = np.array([f(x_k) for x_k in x_set])\n",
        "\n",
        "    fig = plt.figure(figsize=(10, 6))\n",
        "    ax = fig.add_subplot(111)\n",
        "    ax.bar(x_set, prob, label = 'prob')\n",
        "    ax.vlines(Expect(X), 0, 1, label='mean')\n",
        "    ax.set_xticks(np.append(x_set, Expect(X)))\n",
        "    ax.set_ylim(0, prob.max() * 1.2)\n",
        "    ax.legend()\n",
        "\n",
        "    plt.show()\n",
        "    "
      ],
      "metadata": {
        "id": "Qf98F1T_VEG4"
      },
      "execution_count": 24,
      "outputs": []
    },
    {
      "cell_type": "markdown",
      "source": [
        "### 6.1 베르누이 분포\n",
        "- 가장 이상적인 이산형 확률분포\n",
        "- 확률변수가 취할 수 있는 값이 0과 1밖에 없는 분포\n",
        "- 베르누이 시행을 하여 1이 나오면 성공, 0이 나오면 실패라고 함\n",
        "- 확률변수가 취할 수 있는 값이 두 가지 밖에 없고, 합이 1이라는 성질\n",
        "- 어느 한쪽의 확률이 정해지면, 다른 한쪽도 자동적으로 정해짐\n",
        "- 1이 나오는 확률을 p, 0이 나오는 확률을 1-p 로 함"
      ],
      "metadata": {
        "id": "vGzNc-pCgLSh"
      }
    },
    {
      "cell_type": "markdown",
      "source": [
        "![bern](https://user-images.githubusercontent.com/291782/198064186-72ba43e1-b92a-462f-9c4d-6c97b39d99c8.png)\n",
        "\n",
        "- 위 함수가 복잡해 보이지만, 1을 대입하면 p가 반환, 0을 대입하면 1-p가 반환됨"
      ],
      "metadata": {
        "id": "pCwYkHUS1vgX"
      }
    },
    {
      "cell_type": "markdown",
      "source": [
        "- 동전을 던져 앞면이 나올 확률\n",
        "\n",
        "앞면이 나오면 1, 뒷면이 나오면 0으로 하는 확률변수 X 는 Bern(1/2)을 따름\n",
        "\n",
        "$P(X=1) = (\\dfrac{1} {2})^1 \\times (1 - \\dfrac {1} {2})^{(1-1)} = \\dfrac {1} {2} $\n",
        "\n",
        "\n",
        "- 주사위를 한 번 굴려 6이 나오지 않을 확률\n",
        "\n",
        "6이 나오면 1, 그 외의 숫자가 나오면 0은 Bern(1/6)을 따름\n",
        "\n",
        "주사위를 굴려 6이 나오지 않을 확률은\n",
        "\n",
        "$P(X=0) = (\\dfrac {1}{6})^0 \\times (1 - \\dfrac {1} {6})^{(1-0)} = \\dfrac {5} {6}$\n"
      ],
      "metadata": {
        "id": "xOboXmkO1Z_Y"
      }
    },
    {
      "cell_type": "markdown",
      "source": [
        "![bern-expect-var](https://user-images.githubusercontent.com/291782/198065962-fecf7362-2a35-4f87-99c3-6786aef9edfe.png)"
      ],
      "metadata": {
        "id": "0wSlNzFw3dHB"
      }
    },
    {
      "cell_type": "code",
      "source": [
        "# 베르누이 분포\n",
        "def Bern(p) :\n",
        "    x_set = np.array([0, 1])\n",
        "    def f(x) :\n",
        "        if x in x_set :\n",
        "            return p ** x * (1 - p) ** (1-x)\n",
        "        else :\n",
        "            return 0\n",
        "    return x_set, f"
      ],
      "metadata": {
        "id": "_G6DxRaEe4je"
      },
      "execution_count": 4,
      "outputs": []
    },
    {
      "cell_type": "code",
      "source": [
        "p = 0.3\n",
        "X = Bern(p)\n",
        "x_set, f = Bern(10)\n",
        "print('x_set:', x_set, ', f:', f)\n",
        "# 기댓값과 분산 : 기댓값 0.3, 분산은 0.3 * 0.7 = 0.21\n",
        "check_prob(X)"
      ],
      "metadata": {
        "colab": {
          "base_uri": "https://localhost:8080/"
        },
        "id": "mjEaleVPeyNW",
        "outputId": "c016405e-d41c-4896-e4cf-7fd391ca0161"
      },
      "execution_count": 5,
      "outputs": [
        {
          "output_type": "stream",
          "name": "stdout",
          "text": [
            "x_set: [0 1] , f: <function Bern.<locals>.f at 0x7f42229a0dd0>\n",
            "param X: (array([0, 1]), <function Bern.<locals>.f at 0x7f42229a07a0>)\n",
            "x_set: [0 1] , f: <function Bern.<locals>.f at 0x7f42229a07a0>\n",
            "expected value 0.3\n",
            "variance 0.21\n"
          ]
        }
      ]
    },
    {
      "cell_type": "code",
      "source": [
        "check_prob(X)"
      ],
      "metadata": {
        "colab": {
          "base_uri": "https://localhost:8080/"
        },
        "id": "7RtBVonEgCGs",
        "outputId": "3e812bee-7038-4afb-d64e-e1724ccc4e32"
      },
      "execution_count": 6,
      "outputs": [
        {
          "output_type": "stream",
          "name": "stdout",
          "text": [
            "param X: (array([0, 1]), <function Bern.<locals>.f at 0x7f42229a07a0>)\n",
            "x_set: [0 1] , f: <function Bern.<locals>.f at 0x7f42229a07a0>\n",
            "expected value 0.3\n",
            "variance 0.21\n"
          ]
        }
      ]
    },
    {
      "cell_type": "code",
      "source": [
        "plot_prob(X)\n",
        "# 중앙의 세로선이 확률변수 X의 기댓값을 나타냄"
      ],
      "metadata": {
        "colab": {
          "base_uri": "https://localhost:8080/",
          "height": 374
        },
        "id": "_8taQkhOgFm_",
        "outputId": "c468647f-6af8-4934-e13f-d6c58fe4ff22"
      },
      "execution_count": 7,
      "outputs": [
        {
          "output_type": "display_data",
          "data": {
            "text/plain": [
              "<Figure size 720x432 with 1 Axes>"
            ],
            "image/png": "[encoded data removed]"
          },
          "metadata": {
            "needs_background": "light"
          }
        }
      ]
    },
    {
      "cell_type": "markdown",
      "source": [
        "`scipy.stats`를 사용해 구현\n",
        "\n",
        "`scipy.stats`에는 베르누이 분포를 따르는 확률변수를 생성할 수 있는 `bernoulli` 함수가 있음"
      ],
      "metadata": {
        "id": "tWS0ivuC6Yav"
      }
    },
    {
      "cell_type": "code",
      "source": [
        "rv = stats.bernoulli(p) # p = 0.3, rv (Random Variable, 확률변수)\n",
        "print('pmf:', rv.pmf(0), rv.pmf(1))"
      ],
      "metadata": {
        "colab": {
          "base_uri": "https://localhost:8080/"
        },
        "id": "KRzjWGne-SFT",
        "outputId": "f3edec46-bef1-4960-d1bc-c5234141d79f"
      },
      "execution_count": 8,
      "outputs": [
        {
          "output_type": "stream",
          "name": "stdout",
          "text": [
            "pmf: 0.7 0.3\n"
          ]
        }
      ]
    },
    {
      "cell_type": "markdown",
      "source": [
        "- pmf 메서드는 인수로 리스트를 넘길 수 있음\n",
        "- 리스트의 각 요소에 대한 확률이 저장된 Numpy 의 array 가 반환됨"
      ],
      "metadata": {
        "id": "2CEou5jn-l50"
      }
    },
    {
      "cell_type": "code",
      "source": [
        "print('pmf:', rv.pmf([0, 1]))\n",
        "\n",
        "# cdf 메서드를 사용하면 누적밀도함수를 계산할 수 있음\n",
        "print('cdf:', rv.cdf([0, 1]))\n",
        "\n",
        "# mean 을 이용하여 기댓값, var 메서드를 이용하여 분산을 계산 가능\n",
        "print('mean:', rv.mean(), ', var:', rv.var())"
      ],
      "metadata": {
        "colab": {
          "base_uri": "https://localhost:8080/"
        },
        "id": "4Fpyokcv-zGt",
        "outputId": "852e749e-5092-4bf1-df6c-88297bc81b29"
      },
      "execution_count": 9,
      "outputs": [
        {
          "output_type": "stream",
          "name": "stdout",
          "text": [
            "pmf: [0.7 0.3]\n",
            "cdf: [0.7 1. ]\n",
            "mean: 0.3 , var: 0.21\n"
          ]
        }
      ]
    },
    {
      "cell_type": "markdown",
      "source": [
        "#### 베르누이 분포의 정리\n",
        "- 파라미터 : p\n",
        "- 취할 수 있는 값 : {0, 1}\n",
        "- 확률함수 : $p^x(1-p)^{(1-x)}$\n",
        "- 기댓값 : p\n",
        "- 분산 : p(1-p)\n",
        "- scipy.stats : bernoulli(p)"
      ],
      "metadata": {
        "id": "DmIsRbf6_S03"
      }
    },
    {
      "cell_type": "markdown",
      "source": [
        "### 6.2 이항분포 (binomial distribution)\n",
        "성공확률이 p인 베르누이 시행을 n 번 했을 때의 성공 횟수가 따르는 분포\n",
        "\n",
        "이항분포의 파라미터에는 성공확률인 p와 시행 횟수인 n \n",
        "\n",
        "p는 0 &le; p &le; 1, n은 1 이상인 정수\n",
        "\n",
        "이 책에서는 Bin(n, p)로 표기\n"
      ],
      "metadata": {
        "id": "TeqCisn1_p4T"
      }
    },
    {
      "cell_type": "markdown",
      "source": [
        "![bin](https://user-images.githubusercontent.com/291782/198075433-9f04022b-71f5-44e8-bcbe-4b5514e5f4b3.png)\n",
        "\n",
        "- 기호 $_nC_x$ 는 **콤비네이션**이라고 부르며, n개라는 서로 다른 것들 중에서 x개를 고를 수 있는 조합의 수를 나타냄\n",
        "\n",
        "- $_nC_x = \\dfrac {n!} {x!(n-x)!}$\n",
        "\n",
        "- 예) 6명의 학생 중 2명을 고르는 조합은, $_6C_2 = \\dfrac {6!} {2! (6-2)! } = 15$ 가 되어 15가지로 계산할 수 있음"
      ],
      "metadata": {
        "id": "kIP7dJdEAceU"
      }
    },
    {
      "cell_type": "markdown",
      "source": [
        "*동전을 10번 던져 앞면이 3번 나올 확률*\n",
        " - p = $\\dfrac {1}{2}$\n",
        " - 10번 했을 때의 성공횟수, Bin(10, 1/2)\n",
        " - 10번 던져 앞면이 3번 나올 확률은\n",
        " - $P(X=3) = _10C_3(\\dfrac {1} {2})^3 (1-\\dfrac{1}{2})^{(10-3)} = \\dfrac {15} {128}$"
      ],
      "metadata": {
        "id": "34T_yyMUBmw9"
      }
    },
    {
      "cell_type": "markdown",
      "source": [
        "*주사위를 4번 굴려 6이 나올 확률*\n",
        "\n",
        "- 이것은 p = 1/6 인 베르누이 시행을 4번 했을 때의 성공 횟수로 볼 수 있기 때문에 $Bin(4, \\dfrac {1} {6})$을 따릅니다.\n",
        "- 그러므로 주사위를 4번 던져 6이 한 번도 나오지 않는 확률은\n",
        "\n",
        "$P(X=0) = _4C_0(\\dfrac{1}{6})^0(1-\\dfrac{1}{6})^{(4-0)} = \\dfrac {625} {1296}$\n",
        "\n",
        "로 구할 수 있음"
      ],
      "metadata": {
        "id": "2AK0lUDOC89l"
      }
    },
    {
      "cell_type": "markdown",
      "source": [
        "*이항분포의 기댓값과 분산*\n",
        "- X ~ Bin(n, p) 라고 할 때\n",
        "\n",
        "$E(X) = np,  V(X) = np(1-p)$\n",
        "\n",
        "\n",
        "\n",
        "- 이항분포를 Numpy로 구현\n"
      ],
      "metadata": {
        "id": "oePpLf-rF54L"
      }
    },
    {
      "cell_type": "code",
      "source": [
        "from scipy.special import comb\n",
        "\n",
        "def Bin(n, p) :\n",
        "    x_set = np.arange(n+1)\n",
        "    def f(x) :\n",
        "        if x in x_set :\n",
        "            return comb(n, x) * p**x * (1-p) ** (n-x)\n",
        "        else :\n",
        "            return 0\n",
        "    return x_set, f\n"
      ],
      "metadata": {
        "id": "gdkhDrtlOP47"
      },
      "execution_count": 10,
      "outputs": []
    },
    {
      "cell_type": "markdown",
      "source": [
        "- Bin(10, 0.3)을 따르는 확률변수 X를 작성"
      ],
      "metadata": {
        "id": "6XX3tZScOi4l"
      }
    },
    {
      "cell_type": "code",
      "source": [
        "n = 10\n",
        "p = 0.3\n",
        "X = Bin(n , p)"
      ],
      "metadata": {
        "id": "nTHot9qzOm6H"
      },
      "execution_count": 11,
      "outputs": []
    },
    {
      "cell_type": "markdown",
      "source": [
        "- 기댓값은 10 * 0.3 = 3, 분산은 10 * 0.3 * 0.7 = 2.1"
      ],
      "metadata": {
        "id": "mO6fVjpLOtxT"
      }
    },
    {
      "cell_type": "code",
      "source": [
        "check_prob(X)"
      ],
      "metadata": {
        "colab": {
          "base_uri": "https://localhost:8080/"
        },
        "id": "95Ds0RhRO1-l",
        "outputId": "c4d95da1-b401-499c-8fac-a8e9a1f595b1"
      },
      "execution_count": 12,
      "outputs": [
        {
          "output_type": "stream",
          "name": "stdout",
          "text": [
            "param X: (array([ 0,  1,  2,  3,  4,  5,  6,  7,  8,  9, 10]), <function Bin.<locals>.f at 0x7f42127160e0>)\n",
            "x_set: [ 0  1  2  3  4  5  6  7  8  9 10] , f: <function Bin.<locals>.f at 0x7f42127160e0>\n",
            "expected value 3.0\n",
            "variance 2.1\n"
          ]
        }
      ]
    },
    {
      "cell_type": "markdown",
      "source": [
        "- 그래프를 그려보자. 이항분포는 기댓값이 정상이 되는 산 모양의 분포를 이룸"
      ],
      "metadata": {
        "id": "rUufTl6BO-M7"
      }
    },
    {
      "cell_type": "code",
      "source": [
        "plot_prob(X)"
      ],
      "metadata": {
        "colab": {
          "base_uri": "https://localhost:8080/",
          "height": 374
        },
        "id": "wzbL--wlPBwo",
        "outputId": "d2e36659-964a-46e7-a8db-a87fdd7f349b"
      },
      "execution_count": 13,
      "outputs": [
        {
          "output_type": "display_data",
          "data": {
            "text/plain": [
              "<Figure size 720x432 with 1 Axes>"
            ],
            "image/png": "[encoded data removed]"
          },
          "metadata": {
            "needs_background": "light"
          }
        }
      ]
    },
    {
      "cell_type": "markdown",
      "source": [
        "- scipy.stats 에서 이항분포의 확률변수는 *binom* 함수로 생성 가능\n",
        "- n 을 10으로 고정하고, p를 0.3, 0.5, 0.7로 변화시켜 이항분포가 어떠한 형태가 되는 지 살펴보자"
      ],
      "metadata": {
        "id": "PQjf524LPVPp"
      }
    },
    {
      "cell_type": "code",
      "source": [
        "fig = plt.figure(figsize=(10, 6))\n",
        "ax = fig.add_subplot(111)\n",
        "\n",
        "x_set = np.arange(n+1)\n",
        "for p, ls in zip([0.3, 0.5, 0.7], linestyles) :\n",
        "    print('p', p)\n",
        "    rv = stats.binom(n, p)\n",
        "    ax.plot(x_set, rv.pmf(x_set),\n",
        "            label=f'p:{p}', ls=ls, color='gray')\n",
        "    ax.set_xticks(x_set)\n",
        "    ax.legend()\n",
        "\n",
        "plt.show()"
      ],
      "metadata": {
        "colab": {
          "base_uri": "https://localhost:8080/",
          "height": 428
        },
        "id": "SHjmBocBPhy8",
        "outputId": "4baff3e3-6dac-452d-9fc6-aa12ecade08c"
      },
      "execution_count": 14,
      "outputs": [
        {
          "output_type": "stream",
          "name": "stdout",
          "text": [
            "p 0.3\n",
            "p 0.5\n",
            "p 0.7\n"
          ]
        },
        {
          "output_type": "display_data",
          "data": {
            "text/plain": [
              "<Figure size 720x432 with 1 Axes>"
            ],
            "image/png": "[encoded data removed]"
          },
          "metadata": {
            "needs_background": "light"
          }
        }
      ]
    },
    {
      "cell_type": "markdown",
      "source": [
        "#### 이항분포 정리한 결과는 다음과 같음\n",
        "- 파라미터 : n, p\n",
        "- 취할 수 있는 값 : {0, 1, ..., n}\n",
        "- 확률함수 : $_nC_xp^x(1-p)^{(1-x)}$\n",
        "- 기댓값 : np\n",
        "- 분산 : np(1 - p)\n",
        "- scipy.stats : binom(n, p)"
      ],
      "metadata": {
        "id": "UXWkxD_aQ0rP"
      }
    },
    {
      "cell_type": "markdown",
      "source": [
        "### 6.3 기하분포\n",
        "\n",
        "기하분포 (geometric distribution)는 베르누이 시행에서 처음 성공할 때까지 반복한 시행 횟수가 따르는 분포."
      ],
      "metadata": {
        "id": "zYtpiNkhRWHC"
      }
    },
    {
      "cell_type": "markdown",
      "source": [
        "![geometric](https://user-images.githubusercontent.com/291782/198838811-eb64ce96-3aab-40ae-8459-e0e986e391b0.png)"
      ],
      "metadata": {
        "id": "EntzWDQ6R0pa"
      }
    },
    {
      "cell_type": "markdown",
      "source": [
        "- 앞면이 나올 때까지 동전을 던지는 횟수\n",
        "\n",
        "이것은 p=1/2 인 베르누이 시행이 처음 성공할 때까지 시행한 횟수가 되기 때문에 $Ge(\\dfrac {1} {2})$ 을 따름\n",
        "\n",
        "그러므로 동전을 다섯 번째 던져 처음으로 앞면이 나오는 확률은 \n",
        "\n",
        "$P(X=5) = (1-\\dfrac {1} {2})^4 \\times \\dfrac {1} {2} = \\dfrac {1} {32}$\n",
        "\n",
        "\n",
        "- 6이 나올 때까지 주사위를 굴린 횟수\n",
        "\n",
        "p=1/6인 베르누이 시행이 처음 성공할 때까지 시행한 횟수가 되기 때문에 Ge(1/6)을 따름\n",
        "\n",
        "그러므로 주사위를 세번째 굴려 처음으로 6이 나올 확률은\n",
        "\n",
        "$P(X=3) = (1 - \\dfrac{1}{6})^2 \\times \\dfrac {1} {6} = \\dfrac {25} {216}$\n",
        "\n",
        "- 기하분포의 기댓값과 분산\n",
        "\n",
        "X ~ Ge(p) 라고 할 때\n",
        "\n",
        "$ E(X) = \\dfrac {1} {p},  V(X) = \\dfrac {(1-p)} {p^2}$\n"
      ],
      "metadata": {
        "id": "5PftLBhMR2nK"
      }
    },
    {
      "cell_type": "markdown",
      "source": [
        "#### 기하분포를 Numpy로 구현\n",
        "- 기하분포가 취하는 값은 1 이상의 정수 전부이지만, 구현의 편의상 x_set을 1 이상 29 이하인 정수로 함"
      ],
      "metadata": {
        "id": "ZCnbgkO4Ts6K"
      }
    },
    {
      "cell_type": "code",
      "source": [
        "def Ge(p) :\n",
        "    x_set = np.arange(1, 30)\n",
        "    def f(x) :\n",
        "        if x in x_set :\n",
        "            return p * (1-p) **(x-1)\n",
        "        else :\n",
        "            return 0\n",
        "    return x_set, f"
      ],
      "metadata": {
        "id": "1_TDu2a6UCjR"
      },
      "execution_count": 15,
      "outputs": []
    },
    {
      "cell_type": "code",
      "source": [
        "# 여기서 확률변수 X는 Ge(1/2)를 따르는 것으로 함\n",
        "p = 0.5\n",
        "X = Ge(p)"
      ],
      "metadata": {
        "id": "azSCflRSUPdY"
      },
      "execution_count": 16,
      "outputs": []
    },
    {
      "cell_type": "code",
      "source": [
        "# 기댓값은 1 / (1/2) = 2, 분산은 (1 - (1/2)) / (1/2)^2 = 2\n",
        "check_prob(X)"
      ],
      "metadata": {
        "colab": {
          "base_uri": "https://localhost:8080/"
        },
        "id": "AgPh3Y5bUWfz",
        "outputId": "2666cab0-7e65-4b0e-eb81-4266363b42f1"
      },
      "execution_count": 17,
      "outputs": [
        {
          "output_type": "stream",
          "name": "stdout",
          "text": [
            "param X: (array([ 1,  2,  3,  4,  5,  6,  7,  8,  9, 10, 11, 12, 13, 14, 15, 16, 17,\n",
            "       18, 19, 20, 21, 22, 23, 24, 25, 26, 27, 28, 29]), <function Ge.<locals>.f at 0x7f4212636f80>)\n",
            "x_set: [ 1  2  3  4  5  6  7  8  9 10 11 12 13 14 15 16 17 18 19 20 21 22 23 24\n",
            " 25 26 27 28 29] , f: <function Ge.<locals>.f at 0x7f4212636f80>\n",
            "expected value 2.0\n",
            "variance 2.0\n"
          ]
        }
      ]
    },
    {
      "cell_type": "code",
      "source": [
        "# 확률변수의 값이 커질수록 확률은 지수적으로 감소함\n",
        "# 11 이상인 값을 취하는 확률은 거의 0이 되므로 그래프에서는 확인할 수 없음\n",
        "plot_prob(X)"
      ],
      "metadata": {
        "colab": {
          "base_uri": "https://localhost:8080/",
          "height": 378
        },
        "id": "7VoRZhmAUovR",
        "outputId": "725bb93b-ac9b-473a-f496-1b452653b4e6"
      },
      "execution_count": 18,
      "outputs": [
        {
          "output_type": "display_data",
          "data": {
            "text/plain": [
              "<Figure size 720x432 with 1 Axes>"
            ],
            "image/png": "[encoded data removed]"
          },
          "metadata": {
            "needs_background": "light"
          }
        }
      ]
    },
    {
      "cell_type": "markdown",
      "source": [
        "#### 기하분포를 scipy.stats로 구현 (geom)\n",
        "- 파라미터 p가 0.2, 0.5, 0.8일 때의 기하분포를 그려보자\n",
        "- 여기서는 x_set을 1이상 14이하인 정수로 제한"
      ],
      "metadata": {
        "id": "lsBCHZIYU5Sc"
      }
    },
    {
      "cell_type": "code",
      "source": [
        "fig = plt.figure(figsize=(10, 6))\n",
        "ax = fig.add_subplot(111)\n",
        "\n",
        "linestyles = ['-', '--', ':']\n",
        "\n",
        "\n",
        "p_arr = [0.2, 0.5, 0.8]\n",
        "\n",
        "x_set = np.arange(1, 15)\n",
        "for p, ls in zip(p_arr, linestyles) :\n",
        "    rv = stats.geom(p)\n",
        "    ax.plot(x_set, rv.pmf(x_set), \n",
        "            label=f'p:{p}', ls=ls, color='gray')\n",
        "    ax.set_xticks(x_set)\n",
        "    ax.legend()\n",
        "\n",
        "plt.show()"
      ],
      "metadata": {
        "colab": {
          "base_uri": "https://localhost:8080/",
          "height": 374
        },
        "id": "tcEdVck7VIxU",
        "outputId": "97143df1-e394-4dde-e5da-03103f7ae1f8"
      },
      "execution_count": 19,
      "outputs": [
        {
          "output_type": "display_data",
          "data": {
            "text/plain": [
              "<Figure size 720x432 with 1 Axes>"
            ],
            "image/png": "[encoded data removed]"
          },
          "metadata": {
            "needs_background": "light"
          }
        }
      ]
    },
    {
      "cell_type": "markdown",
      "source": [
        "- 파라미터 p가 값이 커질수록 지수적으로 감소하는 분포가 되는 것을 확인 가능\n",
        "\n",
        "**기하분포를 정리하면 다음과 같음**\n",
        "- 파라미터 : p\n",
        "- 취할 수 있는 값 : {1, 2, 3, ...}\n",
        "- 확률함수 : $(1-p)^{(x-1)}p$\n",
        "- 기댓값 : $\\dfrac {1} {p}$\n",
        "- 분산 : $\\dfrac {(1-p)} {p^2}$\n",
        "- scipy.stats : geom(p)"
      ],
      "metadata": {
        "id": "bu_a9keQXChl"
      }
    },
    {
      "cell_type": "markdown",
      "source": [
        "### 6.4 포아송분포\n",
        "- 포아송 분포(Poisson distribution)는 임의의 사건이 단위 시간당 발생하는 건수가 따르는 확률분포\n",
        "- 발생하는 건수의 확률분포이므로, 확률변수가 취할 수 있는 값은 (0, 1, 2, ...) 가 됨\n",
        "- 포아송 분포의 파라미터는 &lambda;로 나타내고, &lambda; 는 양의 실수\n",
        "- 이 책에서는 파라미터 &lambda; 인 포아송분포를 Poi(&lambda;)라고 표기"
      ],
      "metadata": {
        "id": "n7irEc2jXuwD"
      }
    },
    {
      "cell_type": "markdown",
      "source": [
        "![poisson](https://user-images.githubusercontent.com/291782/198886199-52a70e96-d80f-4a2e-8c06-993d141dd85b.png)"
      ],
      "metadata": {
        "id": "uIz7PCJPcrhR"
      }
    },
    {
      "cell_type": "markdown",
      "source": [
        "- 하루에 평균 2건의 교통사고가 발생하는 지역에서, 하루 교통사고 발생 건수\n",
        "\n",
        "    하루당 발생하는 교통사고의 발생건수는 Poi(2)를 따름\n",
        "    그러므로 이 지역에서 하루에 교통사고가 한 건도 일어나지 않을 확률은\n",
        "\n",
        "    \n",
        "$P(X=0)= \\dfrac{2^0}{0!} \\dot{} e^{-2} = 0.135$ \n",
        "\n",
        "\n",
        "- 한 시간에 평균 10번 액세스하는 사이트에 대한 한 시간당 액세스 건수\n",
        " \n",
        "한 시간당 사이트에 대한 액세스 건수는 Poi(10)을 따름.\n",
        "\n",
        "그러므로 이 사이트에서 한 시간에 정확하게 액세스가 15건 발생하는 확률은\n",
        "\n",
        "$ P(X=15) = \\dfrac {10^{15}} {15!} \\dot{} e^{-10} = 0.035 $\n",
        "\n",
        "\n",
        "- **포아송 분포의 기댓값과 분산은 모두 &lambda;가 됨**. 기댓값과 분산이 같은 것은 포아송 분포의 특징"
      ],
      "metadata": {
        "id": "p3HwGTcFc_b3"
      }
    },
    {
      "cell_type": "markdown",
      "source": [
        "- 포아송 분포를 Numpy로 구현\n",
        "- 팩토리얼은 x! 은 `scipy.special` 의 `factorial`을 사용"
      ],
      "metadata": {
        "id": "QYOnncpNe21t"
      }
    },
    {
      "cell_type": "code",
      "source": [
        "from scipy.special import factorial\n",
        "\n",
        "def Poi(lam) :\n",
        "    x_set = np.arange(20)\n",
        "    def f(x) :\n",
        "        if x in x_set :\n",
        "            return np.power(lam, x) / factorial(x) * np.exp(-lam)\n",
        "        else :\n",
        "            return 0\n",
        "    return x_set, f"
      ],
      "metadata": {
        "id": "GWBo-cPCfEqa"
      },
      "execution_count": 21,
      "outputs": []
    },
    {
      "cell_type": "markdown",
      "source": [
        "- 여기서 확률변수는 Poi(3)을 따르는 것으로 함"
      ],
      "metadata": {
        "id": "CmxoL0htfUDg"
      }
    },
    {
      "cell_type": "code",
      "source": [
        "lam = 3\n",
        "X = Poi(lam)\n",
        "check_prob(X)"
      ],
      "metadata": {
        "colab": {
          "base_uri": "https://localhost:8080/"
        },
        "id": "fYJ0NIj0fXHK",
        "outputId": "64fa6ac6-e357-4c21-96b3-179bc4ab9d64"
      },
      "execution_count": 25,
      "outputs": [
        {
          "output_type": "stream",
          "name": "stdout",
          "text": [
            "expected value 3.0\n",
            "variance 3.0\n"
          ]
        }
      ]
    },
    {
      "cell_type": "code",
      "source": [
        "plot_prob(X)"
      ],
      "metadata": {
        "colab": {
          "base_uri": "https://localhost:8080/",
          "height": 374
        },
        "id": "Ht9TXBkdfqh8",
        "outputId": "d2bb72bb-7003-44a7-e3b7-6bb12e875a30"
      },
      "execution_count": 26,
      "outputs": [
        {
          "output_type": "display_data",
          "data": {
            "text/plain": [
              "<Figure size 720x432 with 1 Axes>"
            ],
            "image/png": "[encoded data removed]"
          },
          "metadata": {
            "needs_background": "light"
          }
        }
      ]
    },
    {
      "cell_type": "markdown",
      "source": [
        "- `scipy.stats`에서 포아송분포는 `poisson` 함수로 생성 가능\n",
        "- 파라미터 &lambda;를 3, 5, 8로 구현"
      ],
      "metadata": {
        "id": "sBPT9U5NfwCe"
      }
    },
    {
      "cell_type": "code",
      "source": [
        "fig = plt.figure(figsize=(10, 6))\n",
        "ax = fig.add_subplot(111)\n",
        "\n",
        "x_set = np.arange(20)\n",
        "for lam, ls in zip([3, 5, 8], linestyles) :\n",
        "    rv = stats.poisson(lam)\n",
        "    ax.plot(x_set, rv.pmf(x_set), \n",
        "            label=f'lambda:{lam}', ls=ls, color='gray')\n",
        "ax.set_xticks(x_set)\n",
        "ax.legend()\n",
        "\n",
        "plt.show()"
      ],
      "metadata": {
        "colab": {
          "base_uri": "https://localhost:8080/",
          "height": 374
        },
        "id": "cnNllvEUf5I7",
        "outputId": "cb1aa057-bb46-40f7-dc1a-df097ffcb5bb"
      },
      "execution_count": 28,
      "outputs": [
        {
          "output_type": "display_data",
          "data": {
            "text/plain": [
              "<Figure size 720x432 with 1 Axes>"
            ],
            "image/png": "[encoded data removed]"
          },
          "metadata": {
            "needs_background": "light"
          }
        }
      ]
    },
    {
      "cell_type": "markdown",
      "source": [
        "- 어떤 파라미터라도 분포의 정상에는 &lambda;가 있고, &lambda;가 커질수록 경사면이 더욱 완만해지는 것을 확인할 수 있음\n",
        "\n",
        "- 포아송 분포 정리\n",
        "- 파라미터 : &lambda; (lambda)\n",
        "- 취할수 있는 값 : {0, 1, 2, ...}\n",
        "- 확률함수 : $ \\dfrac {\\lambda^x} {x!} \\dot {} e^{-\\lambda}$\n",
        "- 기댓값 : &lambda;\n",
        "- 분산 : &lambda;\n",
        "- scipy.stats : poisson(&lambda;)"
      ],
      "metadata": {
        "id": "kBpEqc9ugfRA"
      }
    }
  ]
}