{
  "nbformat": 4,
  "nbformat_minor": 0,
  "metadata": {
    "colab": {
      "provenance": [],
      "authorship_tag": "ABX9TyOHiGilF79GyvMkSugqaq34",
      "include_colab_link": true
    },
    "kernelspec": {
      "name": "python3",
      "display_name": "Python 3"
    },
    "language_info": {
      "name": "python"
    }
  },
  "cells": [
    {
      "cell_type": "markdown",
      "metadata": {
        "id": "view-in-github",
        "colab_type": "text"
      },
      "source": [
        "<a href=\"https://colab.research.google.com/github/johyunkang/python_stat/blob/main/chapter11.ipynb\" target=\"_parent\"><img src=\"https://colab.research.google.com/assets/colab-badge.svg\" alt=\"Open In Colab\"/></a>"
      ]
    },
    {
      "cell_type": "markdown",
      "source": [
        "# Chapter 11 통계적 가설 검정"
      ],
      "metadata": {
        "id": "zjsbJ9XPVJVg"
      }
    },
    {
      "cell_type": "markdown",
      "source": [
        "## 11.1 통계적 가설검정"
      ],
      "metadata": {
        "id": "t73BJd2xVN8F"
      }
    },
    {
      "cell_type": "code",
      "execution_count": null,
      "metadata": {
        "id": "s0u3UtkNU_SR"
      },
      "outputs": [],
      "source": [
        "from scipy import stats\n",
        "import pandas as pd\n",
        "\n",
        "df = pd.read_csv('감자튀김.csv')\n",
        "sample = np.array(df['무게'])\n",
        "\n",
        "\n",
        "rv = stats.norm(130, np.sqrt(9/14)) # 감튀 평균:130, 분산:9, 표본: 14개\n",
        "print(rv.isf(0.95)) # isf (Inverse Survival Function) : 임곗값 산출\n",
        "> -1.645\n",
        "\n",
        "potato_mean = np.mean(sample)\n",
        "print(potato_mean)\n",
        "> 128.451\n",
        "\n",
        "Z = (potato_mean - 130) / np.sqrt(9/14) # 검정통계량 값 Z 를 구함\n",
        "print(Z)\n",
        "> -1.932\n",
        "\n",
        "# p-value 는 누적분포함수(cdf)를 이용해 산출 가능\n",
        "p-val = rv.cdf(Z)\n",
        "print(p-val)\n",
        "> 0.027\n",
        "\n",
        "# p-value 가 유의수준(a) 0.05 보다 작으므로 귀무가설을 기각한다.\n"
      ]
    },
    {
      "cell_type": "markdown",
      "source": [
        "$Z = \\dfrac{(\\bar{X} - 130)} { \\sqrt{\\dfrac{9} {14}}}$"
      ],
      "metadata": {
        "id": "F4c7GF7rVTlV"
      }
    },
    {
      "cell_type": "markdown",
      "source": [
        "p-value 를 기준으로 수행하는 가설검정의 흐름"
      ],
      "metadata": {
        "id": "VoHpbr73Vd8p"
      }
    }
  ]
}