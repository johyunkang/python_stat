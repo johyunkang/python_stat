{
  "nbformat": 4,
  "nbformat_minor": 0,
  "metadata": {
    "colab": {
      "provenance": [],
      "mount_file_id": "1x0_4wKGjmrSpTX_gEwkfnkqMiNUo8S5m",
      "authorship_tag": "ABX9TyN1w9FdDp9wryGmJ1BIW1fA",
      "include_colab_link": true
    },
    "kernelspec": {
      "name": "python3",
      "display_name": "Python 3"
    },
    "language_info": {
      "name": "python"
    }
  },
  "cells": [
    {
      "cell_type": "markdown",
      "metadata": {
        "id": "view-in-github",
        "colab_type": "text"
      },
      "source": [
        "<a href=\"https://colab.research.google.com/github/johyunkang/python_stat/blob/main/chapter11.ipynb\" target=\"_parent\"><img src=\"https://colab.research.google.com/assets/colab-badge.svg\" alt=\"Open In Colab\"/></a>"
      ]
    },
    {
      "cell_type": "markdown",
      "source": [
        "# Chapter 11 통계적 가설 검정"
      ],
      "metadata": {
        "id": "zjsbJ9XPVJVg"
      }
    },
    {
      "cell_type": "markdown",
      "source": [
        "## 11.1 통계적 가설검정"
      ],
      "metadata": {
        "id": "t73BJd2xVN8F"
      }
    },
    {
      "cell_type": "code",
      "execution_count": 1,
      "metadata": {
        "id": "s0u3UtkNU_SR",
        "colab": {
          "base_uri": "https://localhost:8080/"
        },
        "outputId": "a4a51dd1-77fc-46ef-d266-fd7525546614"
      },
      "outputs": [
        {
          "output_type": "stream",
          "name": "stdout",
          "text": [
            "임곗값: -1.6448536269514722\n",
            "감자샘플 평균 무게: 128.4507142857143\n",
            "검정통계량(Z): -1.932298779026813\n",
            "p_value: 0.026661319523126635\n"
          ]
        }
      ],
      "source": [
        "from scipy import stats\n",
        "import pandas as pd\n",
        "import numpy as np\n",
        "\n",
        "# df = pd.read_csv('감자튀김.csv')\n",
        "# sample = np.array(df['무게'])\n",
        "\n",
        "potato_sample = [122.02, 131.73, 130.6, 131.82, 132.05, 126.12, 124.43,\n",
        "          132.89, 122.79, 129.95, 126.14, 134.45, 127.64, 125.68]\n",
        "\n",
        "mu = 130\n",
        "var = 9\n",
        "n = 14\n",
        "# rv = stats.norm(130, np.sqrt(9/14)) # 감튀 평균:130, 분산:9, 표본: 14개\n",
        "rv = stats.norm(mu, np.sqrt(var/n)) # 감튀 평균:130, 분산:9, 표본: 14개\n",
        "\n",
        "alpha = 0.05\n",
        "rv = stats.norm()\n",
        "print('임곗값:', rv.isf(1 - alpha)) # isf (Inverse Survival Function) : 임곗값 산출\n",
        "# > -1.645\n",
        "\n",
        "potato_mean = np.mean(potato_sample)\n",
        "print('감자샘플 평균 무게:', potato_mean)\n",
        "# > 128.451\n",
        "\n",
        "Z = (potato_mean - mu) / np.sqrt(var/n) # 검정통계량 값 Z 를 구함\n",
        "print('검정통계량(Z):', Z)\n",
        "# > -1.932\n",
        "\n",
        "# p-value 는 누적분포함수(cdf)를 이용해 산출 가능\n",
        "p_val = rv.cdf(Z)\n",
        "print('p_value:', p_val)\n",
        "# > 0.027\n",
        "\n",
        "# p-value 가 유의수준(a) 0.05 보다 작으므로 귀무가설을 기각한다.\n"
      ]
    },
    {
      "cell_type": "markdown",
      "source": [
        "$Z = \\dfrac{(\\bar{X} - 130)} { \\sqrt{\\dfrac{9} {14}}}$"
      ],
      "metadata": {
        "id": "F4c7GF7rVTlV"
      }
    },
    {
      "cell_type": "markdown",
      "source": [
        "p-value 를 기준으로 수행하는 가설검정의 흐름"
      ],
      "metadata": {
        "id": "VoHpbr73Vd8p"
      }
    },
    {
      "cell_type": "markdown",
      "source": [
        "## 11.2 기본적인 가설검정"
      ],
      "metadata": {
        "id": "XrX-mGYakIyw"
      }
    },
    {
      "cell_type": "markdown",
      "source": [
        "### 11.2.1 정규분포의 모평균에 대한 검정 : 모분산을 알고 있는 경"
      ],
      "metadata": {
        "id": "f6mrxsHvkslG"
      }
    },
    {
      "cell_type": "markdown",
      "source": [
        "모평균에 대한 검정이란 **모평균이 어떤 값 $\\mu_0$이 아니라고 주장**하기 위한 검정\n",
        "\n",
        "\n",
        "검정통계량으로 Z를 사용 (양측검정)\n",
        "\n",
        "$Z = \\dfrac {(\\bar{X} - \\mu_0)} {\\sqrt{\\dfrac {\\sigma^2} {n}}} $\n",
        "\n",
        "- 귀무가설을 기각 : $Z < z_{1 - \\alpha / 2} \\quad or \\quad z_{a/2} < Z$\n",
        "- 귀무가설을 채택 : $z_{1-\\alpha/2} \\leq  Z \\leq z_{\\alpha/2}$\n",
        "\n",
        "\n",
        "위 식을 아래 파이썬으로 구현"
      ],
      "metadata": {
        "id": "5-GjYRf-kwze"
      }
    },
    {
      "cell_type": "code",
      "source": [
        "def potato_mean_test(sample, mean0, p_var, alpha=0.05) :\n",
        "    import numpy as np\n",
        "    from scipy import stats\n",
        "\n",
        "    s_mean = np.mean(sample)\n",
        "    n = len(sample)\n",
        "    rv = stats.norm()\n",
        "    interval = rv.interval(1 - alpha)\n",
        "\n",
        "    z = (s_mean - mean0) / np.sqrt(p_var / n)\n",
        "\n",
        "    if interval[0] <= z <= interval[1] :\n",
        "        print(f'유의수준 {alpha:.3f}에서 귀무가설을 채택')\n",
        "    else :\n",
        "        print(f'유의수준 {alpha:.3f}에서 귀무가설을 기각')\n",
        "    \n",
        "    if z < 0 :\n",
        "        p_value = rv.cdf(z) * 2 # 양측검정이라 * 2 해줌\n",
        "    else :\n",
        "        p_value = (1- rv.cdf(z)) * 2 # 양측검정이라 * 2 해줌\n",
        "\n",
        "    print(f'p-value는 {p_value:.3f} 입니다.')"
      ],
      "metadata": {
        "id": "7zPKA1ShnhEe"
      },
      "execution_count": 2,
      "outputs": []
    },
    {
      "cell_type": "code",
      "source": [
        "potato_sample = [122.02, 131.73, 130.6, 131.82, 132.05, 126.12, 124.43,\n",
        "          132.89, 122.79, 129.95, 126.14, 134.45, 127.64, 125.68]\n",
        "\n",
        "mu = 130\n",
        "var = 9\n",
        "potato_mean_test(potato_sample, mu, var)"
      ],
      "metadata": {
        "colab": {
          "base_uri": "https://localhost:8080/"
        },
        "id": "Os5kDiYMkLk_",
        "outputId": "06dc12ca-b21f-4af4-f009-59ff9d9c7336"
      },
      "execution_count": 3,
      "outputs": [
        {
          "output_type": "stream",
          "name": "stdout",
          "text": [
            "유의수준 0.050에서 귀무가설을 채택\n",
            "p-value는 0.053 입니다.\n"
          ]
        }
      ]
    },
    {
      "cell_type": "markdown",
      "source": [
        "### 11.2.2 정규분포의 모분산에 대한 검정"
      ],
      "metadata": {
        "id": "-E136uT7qqsT"
      }
    },
    {
      "cell_type": "markdown",
      "source": [
        "모분산에 대한 검정은 **모분산이 어떤 값 $\\sigma_0^2$ 이 아닌 것을 주장하기 위한 검정**입니다.\n",
        "\n",
        "$N(\\mu, \\sigma^2)$ 이라고 함. 모분산 $\\sigma^2$에 관한 유의수준 $\\alpha$의 양측검정\n",
        "\n",
        "- 귀무가설 : $\\sigma^2 = \\sigma_0^2$\n",
        "- 대림가설 : $\\sigma^2 \\neq \\sigma_0^2$\n",
        "\n",
        "검정통계량으로 $Y = \\dfrac {(n-1)s^2} {\\sigma_0^2}$ 을 사용\n",
        "\n",
        "- 귀무가설을 채택 : $X_{1-\\alpha/2}^2(n-1)  \\leq Y \\leq X_{\\alpha/2}^2 (n-1)$\n",
        "- 귀무가설을 기각 : $Y \\lt X_{1-\\alpha/2}^2(n-1) \\quad or \\quad X_{\\alpha/2}^2 (n-1) \\lt Y$"
      ],
      "metadata": {
        "id": "IC0P5wVXq2M7"
      }
    },
    {
      "cell_type": "code",
      "source": [
        "def potato_var_test(sample, var0, alpha=0.05) :\n",
        "    import numpy as np\n",
        "    from scipy import stats\n",
        "\n",
        "    u_var = np.var(sample, ddof=1) # ddof=1 : 불편분산 (n-1 사용), ddof=0 : 표본분산 (n 사용)\n",
        "    n = len(sample)\n",
        "    rv = stats.chi2(df=n-1)\n",
        "    interval = rv.interval(1 - alpha)\n",
        "\n",
        "    y = (n - 1) * u_var / var0\n",
        "\n",
        "    if interval[0] <= y <= interval[1] :\n",
        "        print(f'유의수준 {alpha:.3f}에서 귀무가설을 채택합니다')\n",
        "    else :\n",
        "        print(f'유의수준 {alpha:.3f}에서 귀무가설을 기각합니다')\n",
        "    \n",
        "    if y < rv.isf(0.5) : # isf (Inverse Survival Function)\n",
        "        p = rv.cdf(y) * 2 # 양측검정이라 * 2 \n",
        "    else :\n",
        "        p = (1 - rv.cdf(y)) * 2 # 양측검정이라 * 2\n",
        "    \n",
        "    print(f'p-value는 {p:.3f} 입니다.')\n",
        "    print('Interval 값은 :', interval)\n",
        "    print('검정통계량 Y : ', y)"
      ],
      "metadata": {
        "id": "Gjv2gkiNquQL"
      },
      "execution_count": 4,
      "outputs": []
    },
    {
      "cell_type": "code",
      "source": [
        "potato_var_test(potato_sample, var)"
      ],
      "metadata": {
        "colab": {
          "base_uri": "https://localhost:8080/"
        },
        "id": "Hq5mK4YBvDDR",
        "outputId": "af2ed6bc-5c4d-44f0-8ea2-af50e35b0532"
      },
      "execution_count": 5,
      "outputs": [
        {
          "output_type": "stream",
          "name": "stdout",
          "text": [
            "유의수준 0.050에서 귀무가설을 채택합니다\n",
            "p-value는 0.085 입니다.\n",
            "Interval 값은 : (5.008750511810331, 24.735604884931547)\n",
            "검정통계량 Y :  22.921810317460263\n"
          ]
        }
      ]
    },
    {
      "cell_type": "markdown",
      "source": [
        "### 11.2.3 정규분포의 모평균에 대한 검정 : 모분산을 모르는 경우"
      ],
      "metadata": {
        "id": "I34r6DCpvvQ3"
      }
    },
    {
      "cell_type": "markdown",
      "source": [
        "**모분산을 알지 못하는 상황**에서 정규분포의 모평균에 대한 검정을 **1표본 t검정 (1-sample t-test)**이라고 부르고, **t 검정통계랑** 이라고 하는\n",
        "\n",
        " $t = \\dfrac {(\\bar{X} - \\mu_0)} {\\sqrt{\\dfrac {s^2} {n}}}$ \n",
        " \n",
        " 을 검정통계량으로 사용함\n",
        "\n",
        "이 t 검정통계량은 자유도가 n-1 인 t분포를 따름\n",
        "\n",
        "모평균 &mu;에 관한 유의수준 &alpha;의 **양측검정**\n",
        "\n",
        "- 귀무가설 : $\\mu = \\mu_0$\n",
        "- 대림가설 : $\\mu \\neq \\mu_0$\n",
        "\n",
        "검정통계량으로 $t = \\dfrac {(\\bar{X} - \\mu_0)} {\\sqrt{\\dfrac {s^2} {n}}}$ 를 사용하여 \n",
        "\n",
        "- 귀무가설 기각 : $t < t_{1- a/2}(n-1) \\quad OR \\quad t_{a/2} \\lt t $\n",
        "- 귀무가설 채택 : $t_{1-a/2}(n-1) \\quad \\le \\quad t \\quad \\le \\quad t_{a/2}(n-1)$\n",
        "\n",
        "\n",
        "\n",
        "\n",
        "위 식을 아래 함수 형식으로 구현\n",
        "\n"
      ],
      "metadata": {
        "id": "iHZj87bSvzhx"
      }
    },
    {
      "cell_type": "code",
      "source": [
        "def potato_t_test(sample, mean0, alpha=0.05) :\n",
        "    import numpy as np\n",
        "    from scipy import stats\n",
        "\n",
        "    s_mean = np.mean(sample)\n",
        "    u_var = np.var(sample, ddof=1) # ddof=1 : 불편분산 (n-1 사용), ddof=0 : 표본분산 (n 사용)\n",
        "    n = len(sample)\n",
        "    rv = stats.t(df=n-1)\n",
        "    interval = rv.interval(1 - alpha)\n",
        "\n",
        "    t = (s_mean - mean0) / np.sqrt(u_var / n)\n",
        "\n",
        "    if interval[0] <= t <= interval[1] :\n",
        "        print(f't 값이 {t:.3f} 이기에 유의수준 {alpha}에서 귀무가설을 채택')\n",
        "    else :\n",
        "        print(f't 값이 {t:.3f} 이기에 유의수준 {alpha}에서 귀무가설을 기각')\n",
        "    print('\\nInterval:', interval)\n",
        "\n",
        "    if t < 0 :\n",
        "        p = rv.cdf(t) * 2 # 양측검정이기에 * 2\n",
        "    else :\n",
        "        p = (1 - rv.cdf(t)) * 2\n",
        "    \n",
        "    print(f'p-value 는 {p:.4f} 입니다.')\n",
        "\n",
        "\n",
        "potato_t_test(potato_sample, 130, 0.01)"
      ],
      "metadata": {
        "colab": {
          "base_uri": "https://localhost:8080/"
        },
        "id": "IDzdSV6cxd8A",
        "outputId": "1a2714d3-ebd8-428a-b309-feed2b0eaa4c"
      },
      "execution_count": 6,
      "outputs": [
        {
          "output_type": "stream",
          "name": "stdout",
          "text": [
            "t 값이 -1.455 이기에 유의수준 0.01에서 귀무가설을 채택\n",
            "\n",
            "Interval: (-3.012275838207184, 3.012275838207184)\n",
            "p-value 는 0.1693 입니다.\n"
          ]
        }
      ]
    },
    {
      "cell_type": "markdown",
      "source": [
        "1표본 t 검정은 `scipy.stats`에서 `ttest_1samp` 함수로 구현되어 있고\n",
        "\n",
        "반환값은 `t검정통계량`과 `p-value` 입니다."
      ],
      "metadata": {
        "id": "zbzkCZmPzO3N"
      }
    },
    {
      "cell_type": "code",
      "source": [
        "t, p_val = stats.ttest_1samp(potato_sample, 130, alternative='two-sided')\n",
        "print('검정통계량 t:', t)\n",
        "print('p-value:', p_val)\n",
        "# print('df는 ', df, ' 입니다.')\n",
        "stats.ttest_1samp(potato_sample, 130, alternative='two-sided')"
      ],
      "metadata": {
        "colab": {
          "base_uri": "https://localhost:8080/"
        },
        "id": "SdoKyfYBzZbe",
        "outputId": "b6ca8fb5-7d0b-4add-e9cf-f7f8de613c2c"
      },
      "execution_count": 7,
      "outputs": [
        {
          "output_type": "stream",
          "name": "stdout",
          "text": [
            "검정통계량 t: -1.4551960206404198\n",
            "p-value: 0.16933464230414275\n"
          ]
        },
        {
          "output_type": "execute_result",
          "data": {
            "text/plain": [
              "Ttest_1sampResult(statistic=-1.4551960206404198, pvalue=0.16933464230414275)"
            ]
          },
          "metadata": {},
          "execution_count": 7
        }
      ]
    },
    {
      "cell_type": "markdown",
      "source": [
        "위 `ttest_1samp` 의 파라미터 중 `alternative` 옵션에 관해서 알아보자\n",
        "- two_sided : 양측검정에 사용. 표본의 기본 분포의 평균이 모평균과 다릅니다.\n",
        "- less : 표본의 기본 분포의 평균이 모집단 평균보다 작습니다.\n",
        "- greater : 표본의 기본 분포의 평균이 모집단 평균보다 큽니다.\n",
        "\n"
      ],
      "metadata": {
        "id": "pPz6-EHb0r21"
      }
    },
    {
      "cell_type": "markdown",
      "source": [
        "## 11.3 2표본 문제에 관한 가설검정"
      ],
      "metadata": {
        "id": "-_KTuXkM2oNB"
      }
    },
    {
      "cell_type": "markdown",
      "source": [
        "**2표본 문제(two sample problem)** \n",
        "\n",
        "**평균값 차이에 대한 검정**을 아래와 같은 형태로 진행한다.\n",
        "\n",
        "\n",
        "\n",
        "|          | 정규분포를 가정할 수 있음 | 정규분포를 가정할 수 없음 |\n",
        "| -------- | ------------------------- | ------------------------- |\n",
        "| 대응표본 | 대응비교 t 검정           | 윌콕슨의 부호순위검정     |\n",
        "| 독립표본 | 독립비교 t 검정           | 만.위트니의 U 검정        |\n",
        "\n",
        "\n",
        "\n",
        "- 대응표본 : 두 데이터에서 서로 대응하는 동일한 개체에 대해 각각 다른 조건으로 측정한 것을 말함\n",
        "    - 예) 피검자에게 약을 투여하기 전후에 측정한 혈압\n",
        "- 독립표본 : 두 데이터에서 개체가 다른 데이터로 되어 있는 독립표본\n",
        "    - 예) A조 학생의 시험 점수와 B조 학생의 시험 점수는 서로 다른 학생의 시험 점수를 비교하는데 쓰이므로 독립표본"
      ],
      "metadata": {
        "id": "EsFVsfw92vzF"
      }
    },
    {
      "cell_type": "markdown",
      "source": [
        "### 11.3.1 대응비교 t 검정\n",
        "\n",
        "대응비교 t 검정 (paired t-test) : 대응하는 데이터가 있고, 정규분포를 가정할 수 있는 경우의 **평균값 차이에 대한 검정**"
      ],
      "metadata": {
        "id": "iG71ASVBHZ9m"
      }
    },
    {
      "cell_type": "markdown",
      "source": [
        "\n",
        "샘플\n",
        "> A학생은 친구 20명에게 1주일간 근력 운동을 하게 하고, 운동 전후에 집중력을 측정하는 테스트를 받게 했음. 근력운동이 집중력 테스트에 유의한 차이를 내는지 확인?"
      ],
      "metadata": {
        "id": "_jhYoGVvIIPa"
      }
    },
    {
      "cell_type": "code",
      "source": [
        "import pandas as pd\n",
        "\n",
        "FILE_PATH = '/content/drive/MyDrive/Colab Notebooks/누구나파이썬통계분석/data/ch11_training_rel.csv'\n",
        "df = pd.read_csv(FILE_PATH)\n",
        "print('shape:', df.shape)\n",
        "display(df.head())"
      ],
      "metadata": {
        "colab": {
          "base_uri": "https://localhost:8080/",
          "height": 224
        },
        "id": "Rl2mw0iNIYs0",
        "outputId": "94689cec-9a77-4493-b551-9698d6b02aa7"
      },
      "execution_count": 8,
      "outputs": [
        {
          "output_type": "stream",
          "name": "stdout",
          "text": [
            "shape: (20, 2)\n"
          ]
        },
        {
          "output_type": "display_data",
          "data": {
            "text/plain": [
              "    전   후\n",
              "0  59  41\n",
              "1  52  63\n",
              "2  55  68\n",
              "3  61  59\n",
              "4  59  84"
            ],
            "text/html": [
              "\n",
              "  <div id=\"df-15efbc99-6dbc-4fd4-bfca-98dc6b38c737\">\n",
              "    <div class=\"colab-df-container\">\n",
              "      <div>\n",
              "<style scoped>\n",
              "    .dataframe tbody tr th:only-of-type {\n",
              "        vertical-align: middle;\n",
              "    }\n",
              "\n",
              "    .dataframe tbody tr th {\n",
              "        vertical-align: top;\n",
              "    }\n",
              "\n",
              "    .dataframe thead th {\n",
              "        text-align: right;\n",
              "    }\n",
              "</style>\n",
              "<table border=\"1\" class=\"dataframe\">\n",
              "  <thead>\n",
              "    <tr style=\"text-align: right;\">\n",
              "      <th></th>\n",
              "      <th>전</th>\n",
              "      <th>후</th>\n",
              "    </tr>\n",
              "  </thead>\n",
              "  <tbody>\n",
              "    <tr>\n",
              "      <th>0</th>\n",
              "      <td>59</td>\n",
              "      <td>41</td>\n",
              "    </tr>\n",
              "    <tr>\n",
              "      <th>1</th>\n",
              "      <td>52</td>\n",
              "      <td>63</td>\n",
              "    </tr>\n",
              "    <tr>\n",
              "      <th>2</th>\n",
              "      <td>55</td>\n",
              "      <td>68</td>\n",
              "    </tr>\n",
              "    <tr>\n",
              "      <th>3</th>\n",
              "      <td>61</td>\n",
              "      <td>59</td>\n",
              "    </tr>\n",
              "    <tr>\n",
              "      <th>4</th>\n",
              "      <td>59</td>\n",
              "      <td>84</td>\n",
              "    </tr>\n",
              "  </tbody>\n",
              "</table>\n",
              "</div>\n",
              "      <button class=\"colab-df-convert\" onclick=\"convertToInteractive('df-15efbc99-6dbc-4fd4-bfca-98dc6b38c737')\"\n",
              "              title=\"Convert this dataframe to an interactive table.\"\n",
              "              style=\"display:none;\">\n",
              "        \n",
              "  <svg xmlns=\"http://www.w3.org/2000/svg\" height=\"24px\"viewBox=\"0 0 24 24\"\n",
              "       width=\"24px\">\n",
              "    <path d=\"M0 0h24v24H0V0z\" fill=\"none\"/>\n",
              "    <path d=\"M18.56 5.44l.94 2.06.94-2.06 2.06-.94-2.06-.94-.94-2.06-.94 2.06-2.06.94zm-11 1L8.5 8.5l.94-2.06 2.06-.94-2.06-.94L8.5 2.5l-.94 2.06-2.06.94zm10 10l.94 2.06.94-2.06 2.06-.94-2.06-.94-.94-2.06-.94 2.06-2.06.94z\"/><path d=\"M17.41 7.96l-1.37-1.37c-.4-.4-.92-.59-1.43-.59-.52 0-1.04.2-1.43.59L10.3 9.45l-7.72 7.72c-.78.78-.78 2.05 0 2.83L4 21.41c.39.39.9.59 1.41.59.51 0 1.02-.2 1.41-.59l7.78-7.78 2.81-2.81c.8-.78.8-2.07 0-2.86zM5.41 20L4 18.59l7.72-7.72 1.47 1.35L5.41 20z\"/>\n",
              "  </svg>\n",
              "      </button>\n",
              "      \n",
              "  <style>\n",
              "    .colab-df-container {\n",
              "      display:flex;\n",
              "      flex-wrap:wrap;\n",
              "      gap: 12px;\n",
              "    }\n",
              "\n",
              "    .colab-df-convert {\n",
              "      background-color: #E8F0FE;\n",
              "      border: none;\n",
              "      border-radius: 50%;\n",
              "      cursor: pointer;\n",
              "      display: none;\n",
              "      fill: #1967D2;\n",
              "      height: 32px;\n",
              "      padding: 0 0 0 0;\n",
              "      width: 32px;\n",
              "    }\n",
              "\n",
              "    .colab-df-convert:hover {\n",
              "      background-color: #E2EBFA;\n",
              "      box-shadow: 0px 1px 2px rgba(60, 64, 67, 0.3), 0px 1px 3px 1px rgba(60, 64, 67, 0.15);\n",
              "      fill: #174EA6;\n",
              "    }\n",
              "\n",
              "    [theme=dark] .colab-df-convert {\n",
              "      background-color: #3B4455;\n",
              "      fill: #D2E3FC;\n",
              "    }\n",
              "\n",
              "    [theme=dark] .colab-df-convert:hover {\n",
              "      background-color: #434B5C;\n",
              "      box-shadow: 0px 1px 3px 1px rgba(0, 0, 0, 0.15);\n",
              "      filter: drop-shadow(0px 1px 2px rgba(0, 0, 0, 0.3));\n",
              "      fill: #FFFFFF;\n",
              "    }\n",
              "  </style>\n",
              "\n",
              "      <script>\n",
              "        const buttonEl =\n",
              "          document.querySelector('#df-15efbc99-6dbc-4fd4-bfca-98dc6b38c737 button.colab-df-convert');\n",
              "        buttonEl.style.display =\n",
              "          google.colab.kernel.accessAllowed ? 'block' : 'none';\n",
              "\n",
              "        async function convertToInteractive(key) {\n",
              "          const element = document.querySelector('#df-15efbc99-6dbc-4fd4-bfca-98dc6b38c737');\n",
              "          const dataTable =\n",
              "            await google.colab.kernel.invokeFunction('convertToInteractive',\n",
              "                                                     [key], {});\n",
              "          if (!dataTable) return;\n",
              "\n",
              "          const docLinkHtml = 'Like what you see? Visit the ' +\n",
              "            '<a target=\"_blank\" href=https://colab.research.google.com/notebooks/data_table.ipynb>data table notebook</a>'\n",
              "            + ' to learn more about interactive tables.';\n",
              "          element.innerHTML = '';\n",
              "          dataTable['output_type'] = 'display_data';\n",
              "          await google.colab.output.renderOutput(dataTable, element);\n",
              "          const docLink = document.createElement('div');\n",
              "          docLink.innerHTML = docLinkHtml;\n",
              "          element.appendChild(docLink);\n",
              "        }\n",
              "      </script>\n",
              "    </div>\n",
              "  </div>\n",
              "  "
            ]
          },
          "metadata": {}
        }
      ]
    },
    {
      "cell_type": "markdown",
      "source": [
        "근력운동이 집중력을 향상시키는 효과 여부는\n",
        "\n",
        "근력운동 전후의 집중력테스트 평균점수를 비교하면 됨\n",
        "\n",
        "- 귀무가설 : $\\mu_{after} - \\mu_{before} = 0$\n",
        "- 대립가설 : $\\mu_{after} - \\mu_{before} \\neq 0$"
      ],
      "metadata": {
        "id": "SZMgE9j3JB7K"
      }
    },
    {
      "cell_type": "code",
      "source": [
        "df['차'] = df['후'] - df['전']\n",
        "display(df.head())"
      ],
      "metadata": {
        "colab": {
          "base_uri": "https://localhost:8080/",
          "height": 206
        },
        "id": "Ud6qNLfCJTZy",
        "outputId": "3dac318a-4150-425a-c196-e9b95b947a4e"
      },
      "execution_count": 9,
      "outputs": [
        {
          "output_type": "display_data",
          "data": {
            "text/plain": [
              "    전   후   차\n",
              "0  59  41 -18\n",
              "1  52  63  11\n",
              "2  55  68  13\n",
              "3  61  59  -2\n",
              "4  59  84  25"
            ],
            "text/html": [
              "\n",
              "  <div id=\"df-d39cb4c8-bdfa-4dc0-a6dd-3dd377e33b36\">\n",
              "    <div class=\"colab-df-container\">\n",
              "      <div>\n",
              "<style scoped>\n",
              "    .dataframe tbody tr th:only-of-type {\n",
              "        vertical-align: middle;\n",
              "    }\n",
              "\n",
              "    .dataframe tbody tr th {\n",
              "        vertical-align: top;\n",
              "    }\n",
              "\n",
              "    .dataframe thead th {\n",
              "        text-align: right;\n",
              "    }\n",
              "</style>\n",
              "<table border=\"1\" class=\"dataframe\">\n",
              "  <thead>\n",
              "    <tr style=\"text-align: right;\">\n",
              "      <th></th>\n",
              "      <th>전</th>\n",
              "      <th>후</th>\n",
              "      <th>차</th>\n",
              "    </tr>\n",
              "  </thead>\n",
              "  <tbody>\n",
              "    <tr>\n",
              "      <th>0</th>\n",
              "      <td>59</td>\n",
              "      <td>41</td>\n",
              "      <td>-18</td>\n",
              "    </tr>\n",
              "    <tr>\n",
              "      <th>1</th>\n",
              "      <td>52</td>\n",
              "      <td>63</td>\n",
              "      <td>11</td>\n",
              "    </tr>\n",
              "    <tr>\n",
              "      <th>2</th>\n",
              "      <td>55</td>\n",
              "      <td>68</td>\n",
              "      <td>13</td>\n",
              "    </tr>\n",
              "    <tr>\n",
              "      <th>3</th>\n",
              "      <td>61</td>\n",
              "      <td>59</td>\n",
              "      <td>-2</td>\n",
              "    </tr>\n",
              "    <tr>\n",
              "      <th>4</th>\n",
              "      <td>59</td>\n",
              "      <td>84</td>\n",
              "      <td>25</td>\n",
              "    </tr>\n",
              "  </tbody>\n",
              "</table>\n",
              "</div>\n",
              "      <button class=\"colab-df-convert\" onclick=\"convertToInteractive('df-d39cb4c8-bdfa-4dc0-a6dd-3dd377e33b36')\"\n",
              "              title=\"Convert this dataframe to an interactive table.\"\n",
              "              style=\"display:none;\">\n",
              "        \n",
              "  <svg xmlns=\"http://www.w3.org/2000/svg\" height=\"24px\"viewBox=\"0 0 24 24\"\n",
              "       width=\"24px\">\n",
              "    <path d=\"M0 0h24v24H0V0z\" fill=\"none\"/>\n",
              "    <path d=\"M18.56 5.44l.94 2.06.94-2.06 2.06-.94-2.06-.94-.94-2.06-.94 2.06-2.06.94zm-11 1L8.5 8.5l.94-2.06 2.06-.94-2.06-.94L8.5 2.5l-.94 2.06-2.06.94zm10 10l.94 2.06.94-2.06 2.06-.94-2.06-.94-.94-2.06-.94 2.06-2.06.94z\"/><path d=\"M17.41 7.96l-1.37-1.37c-.4-.4-.92-.59-1.43-.59-.52 0-1.04.2-1.43.59L10.3 9.45l-7.72 7.72c-.78.78-.78 2.05 0 2.83L4 21.41c.39.39.9.59 1.41.59.51 0 1.02-.2 1.41-.59l7.78-7.78 2.81-2.81c.8-.78.8-2.07 0-2.86zM5.41 20L4 18.59l7.72-7.72 1.47 1.35L5.41 20z\"/>\n",
              "  </svg>\n",
              "      </button>\n",
              "      \n",
              "  <style>\n",
              "    .colab-df-container {\n",
              "      display:flex;\n",
              "      flex-wrap:wrap;\n",
              "      gap: 12px;\n",
              "    }\n",
              "\n",
              "    .colab-df-convert {\n",
              "      background-color: #E8F0FE;\n",
              "      border: none;\n",
              "      border-radius: 50%;\n",
              "      cursor: pointer;\n",
              "      display: none;\n",
              "      fill: #1967D2;\n",
              "      height: 32px;\n",
              "      padding: 0 0 0 0;\n",
              "      width: 32px;\n",
              "    }\n",
              "\n",
              "    .colab-df-convert:hover {\n",
              "      background-color: #E2EBFA;\n",
              "      box-shadow: 0px 1px 2px rgba(60, 64, 67, 0.3), 0px 1px 3px 1px rgba(60, 64, 67, 0.15);\n",
              "      fill: #174EA6;\n",
              "    }\n",
              "\n",
              "    [theme=dark] .colab-df-convert {\n",
              "      background-color: #3B4455;\n",
              "      fill: #D2E3FC;\n",
              "    }\n",
              "\n",
              "    [theme=dark] .colab-df-convert:hover {\n",
              "      background-color: #434B5C;\n",
              "      box-shadow: 0px 1px 3px 1px rgba(0, 0, 0, 0.15);\n",
              "      filter: drop-shadow(0px 1px 2px rgba(0, 0, 0, 0.3));\n",
              "      fill: #FFFFFF;\n",
              "    }\n",
              "  </style>\n",
              "\n",
              "      <script>\n",
              "        const buttonEl =\n",
              "          document.querySelector('#df-d39cb4c8-bdfa-4dc0-a6dd-3dd377e33b36 button.colab-df-convert');\n",
              "        buttonEl.style.display =\n",
              "          google.colab.kernel.accessAllowed ? 'block' : 'none';\n",
              "\n",
              "        async function convertToInteractive(key) {\n",
              "          const element = document.querySelector('#df-d39cb4c8-bdfa-4dc0-a6dd-3dd377e33b36');\n",
              "          const dataTable =\n",
              "            await google.colab.kernel.invokeFunction('convertToInteractive',\n",
              "                                                     [key], {});\n",
              "          if (!dataTable) return;\n",
              "\n",
              "          const docLinkHtml = 'Like what you see? Visit the ' +\n",
              "            '<a target=\"_blank\" href=https://colab.research.google.com/notebooks/data_table.ipynb>data table notebook</a>'\n",
              "            + ' to learn more about interactive tables.';\n",
              "          element.innerHTML = '';\n",
              "          dataTable['output_type'] = 'display_data';\n",
              "          await google.colab.output.renderOutput(dataTable, element);\n",
              "          const docLink = document.createElement('div');\n",
              "          docLink.innerHTML = docLinkHtml;\n",
              "          element.appendChild(docLink);\n",
              "        }\n",
              "      </script>\n",
              "    </div>\n",
              "  </div>\n",
              "  "
            ]
          },
          "metadata": {}
        }
      ]
    },
    {
      "cell_type": "markdown",
      "source": [
        "근력운동이 집중력 테스트에 끼치는 영향이 없다면, 그 차이는 임의로 분산되어 평균이 0인 분포가 될 것임.\n",
        "\n",
        "- 귀무가설 : $\\mu_{diff} = 0$\n",
        "- 대립가설 : $\\mu_{diff} \\neq 0$\n",
        "\n",
        "더 나아가 그 차이가 각각 독립이고 동일한 정규분포를 따르고 있다고 가정할 수 있으면, 이 검정은 모분산을 모르는 경우의 정규분포의 모분산에 대한 검정, 즉 **1표본 t검정**으로 귀착될 수 있음\n",
        "\n",
        "1표본 t검정은 `scipy.stats`의 `ttest_1samp` 함수로 계산 가능"
      ],
      "metadata": {
        "id": "BrbePvdbJfPA"
      }
    },
    {
      "cell_type": "code",
      "source": [
        "from scipy import stats\n",
        "\n",
        "t, p = stats.ttest_1samp(df['차'], 0)\n",
        "print('p-value:', p)\n",
        "print('p-value 가 유의수준 5% 보다 작기 때문에 귀무가설은 기각되었음')\n",
        "print('근력운동이 집중력에 유의한 차이를 가져오는 것 같음')"
      ],
      "metadata": {
        "colab": {
          "base_uri": "https://localhost:8080/"
        },
        "id": "Gvs3davQKQgp",
        "outputId": "2dee5a84-2cd6-42c1-8a1a-f6a377f5611f"
      },
      "execution_count": 12,
      "outputs": [
        {
          "output_type": "stream",
          "name": "stdout",
          "text": [
            "p-value: 0.04004419061842953\n",
            "p-value 가 유의수준 5% 보다 작기 때문에 귀무가설은 기각되었음\n",
            "근력운동이 집중력에 유의한 차이를 가져오는 것 같음\n"
          ]
        }
      ]
    },
    {
      "cell_type": "markdown",
      "source": [
        "위에서는 `diff(차)`에 의해 가설검정을 수행했지만, `ttest_rel` 함수를 사용하면 `before`와 `after`의 데이터로 동일한 검정을 수행가능"
      ],
      "metadata": {
        "id": "Szc_Nn-TKs-d"
      }
    },
    {
      "cell_type": "code",
      "source": [
        "t, p = stats.ttest_rel(df['후'], df['전'])\n",
        "print('p-value:', p)\n",
        "print('p-value 가 유의수준 5% 보다 작기 때문에 귀무가설은 기각되었음')"
      ],
      "metadata": {
        "colab": {
          "base_uri": "https://localhost:8080/"
        },
        "id": "GrTvFw1qK5PV",
        "outputId": "0cbc45cc-0568-48b5-8e57-72ae3946f5aa"
      },
      "execution_count": 13,
      "outputs": [
        {
          "output_type": "stream",
          "name": "stdout",
          "text": [
            "p-value: 0.04004419061842953\n",
            "p-value 가 유의수준 5% 보다 작기 때문에 귀무가설은 기각되었음\n"
          ]
        }
      ]
    },
    {
      "cell_type": "markdown",
      "source": [
        "### 11.3.2 독립비교 t 검정\n",
        "\n",
        "독립비교 t 검정 (independent t-test) : 대응하는 데이터가 없고 **독립된 2표본 모집단**에서 **정규분포**를 가정할 수 있는 경우 **평균값 차이**에 대한 검정"
      ],
      "metadata": {
        "id": "rClJ0WheLT4e"
      }
    },
    {
      "cell_type": "markdown",
      "source": [
        "샘플\n",
        "> A학급에는 인문계열 학생이 많고, B학급에는 체육계열 학생이 많음. B학급은 평소에도 근력운동을 하고 있음. A학급과 B학급의 집중력 테스트의 평균에서 차이가 날까?"
      ],
      "metadata": {
        "id": "e4PU06-LLmen"
      }
    },
    {
      "cell_type": "code",
      "source": [
        "df_ind = pd.read_csv('/content/drive/MyDrive/Colab Notebooks/누구나파이썬통계분석/data/ch11_training_ind.csv')\n",
        "print('shape:', df_ind.shape)\n",
        "display(df_ind.head())"
      ],
      "metadata": {
        "colab": {
          "base_uri": "https://localhost:8080/",
          "height": 224
        },
        "id": "-0UdgOz2L8an",
        "outputId": "42bdf617-0dcc-496c-eeac-f9823e236708"
      },
      "execution_count": 16,
      "outputs": [
        {
          "output_type": "stream",
          "name": "stdout",
          "text": [
            "shape: (20, 2)\n"
          ]
        },
        {
          "output_type": "display_data",
          "data": {
            "text/plain": [
              "    A   B\n",
              "0  47  49\n",
              "1  50  52\n",
              "2  37  54\n",
              "3  60  48\n",
              "4  39  51"
            ],
            "text/html": [
              "\n",
              "  <div id=\"df-7d2b449b-9bb5-4d2e-a2b2-0a38da0dbb06\">\n",
              "    <div class=\"colab-df-container\">\n",
              "      <div>\n",
              "<style scoped>\n",
              "    .dataframe tbody tr th:only-of-type {\n",
              "        vertical-align: middle;\n",
              "    }\n",
              "\n",
              "    .dataframe tbody tr th {\n",
              "        vertical-align: top;\n",
              "    }\n",
              "\n",
              "    .dataframe thead th {\n",
              "        text-align: right;\n",
              "    }\n",
              "</style>\n",
              "<table border=\"1\" class=\"dataframe\">\n",
              "  <thead>\n",
              "    <tr style=\"text-align: right;\">\n",
              "      <th></th>\n",
              "      <th>A</th>\n",
              "      <th>B</th>\n",
              "    </tr>\n",
              "  </thead>\n",
              "  <tbody>\n",
              "    <tr>\n",
              "      <th>0</th>\n",
              "      <td>47</td>\n",
              "      <td>49</td>\n",
              "    </tr>\n",
              "    <tr>\n",
              "      <th>1</th>\n",
              "      <td>50</td>\n",
              "      <td>52</td>\n",
              "    </tr>\n",
              "    <tr>\n",
              "      <th>2</th>\n",
              "      <td>37</td>\n",
              "      <td>54</td>\n",
              "    </tr>\n",
              "    <tr>\n",
              "      <th>3</th>\n",
              "      <td>60</td>\n",
              "      <td>48</td>\n",
              "    </tr>\n",
              "    <tr>\n",
              "      <th>4</th>\n",
              "      <td>39</td>\n",
              "      <td>51</td>\n",
              "    </tr>\n",
              "  </tbody>\n",
              "</table>\n",
              "</div>\n",
              "      <button class=\"colab-df-convert\" onclick=\"convertToInteractive('df-7d2b449b-9bb5-4d2e-a2b2-0a38da0dbb06')\"\n",
              "              title=\"Convert this dataframe to an interactive table.\"\n",
              "              style=\"display:none;\">\n",
              "        \n",
              "  <svg xmlns=\"http://www.w3.org/2000/svg\" height=\"24px\"viewBox=\"0 0 24 24\"\n",
              "       width=\"24px\">\n",
              "    <path d=\"M0 0h24v24H0V0z\" fill=\"none\"/>\n",
              "    <path d=\"M18.56 5.44l.94 2.06.94-2.06 2.06-.94-2.06-.94-.94-2.06-.94 2.06-2.06.94zm-11 1L8.5 8.5l.94-2.06 2.06-.94-2.06-.94L8.5 2.5l-.94 2.06-2.06.94zm10 10l.94 2.06.94-2.06 2.06-.94-2.06-.94-.94-2.06-.94 2.06-2.06.94z\"/><path d=\"M17.41 7.96l-1.37-1.37c-.4-.4-.92-.59-1.43-.59-.52 0-1.04.2-1.43.59L10.3 9.45l-7.72 7.72c-.78.78-.78 2.05 0 2.83L4 21.41c.39.39.9.59 1.41.59.51 0 1.02-.2 1.41-.59l7.78-7.78 2.81-2.81c.8-.78.8-2.07 0-2.86zM5.41 20L4 18.59l7.72-7.72 1.47 1.35L5.41 20z\"/>\n",
              "  </svg>\n",
              "      </button>\n",
              "      \n",
              "  <style>\n",
              "    .colab-df-container {\n",
              "      display:flex;\n",
              "      flex-wrap:wrap;\n",
              "      gap: 12px;\n",
              "    }\n",
              "\n",
              "    .colab-df-convert {\n",
              "      background-color: #E8F0FE;\n",
              "      border: none;\n",
              "      border-radius: 50%;\n",
              "      cursor: pointer;\n",
              "      display: none;\n",
              "      fill: #1967D2;\n",
              "      height: 32px;\n",
              "      padding: 0 0 0 0;\n",
              "      width: 32px;\n",
              "    }\n",
              "\n",
              "    .colab-df-convert:hover {\n",
              "      background-color: #E2EBFA;\n",
              "      box-shadow: 0px 1px 2px rgba(60, 64, 67, 0.3), 0px 1px 3px 1px rgba(60, 64, 67, 0.15);\n",
              "      fill: #174EA6;\n",
              "    }\n",
              "\n",
              "    [theme=dark] .colab-df-convert {\n",
              "      background-color: #3B4455;\n",
              "      fill: #D2E3FC;\n",
              "    }\n",
              "\n",
              "    [theme=dark] .colab-df-convert:hover {\n",
              "      background-color: #434B5C;\n",
              "      box-shadow: 0px 1px 3px 1px rgba(0, 0, 0, 0.15);\n",
              "      filter: drop-shadow(0px 1px 2px rgba(0, 0, 0, 0.3));\n",
              "      fill: #FFFFFF;\n",
              "    }\n",
              "  </style>\n",
              "\n",
              "      <script>\n",
              "        const buttonEl =\n",
              "          document.querySelector('#df-7d2b449b-9bb5-4d2e-a2b2-0a38da0dbb06 button.colab-df-convert');\n",
              "        buttonEl.style.display =\n",
              "          google.colab.kernel.accessAllowed ? 'block' : 'none';\n",
              "\n",
              "        async function convertToInteractive(key) {\n",
              "          const element = document.querySelector('#df-7d2b449b-9bb5-4d2e-a2b2-0a38da0dbb06');\n",
              "          const dataTable =\n",
              "            await google.colab.kernel.invokeFunction('convertToInteractive',\n",
              "                                                     [key], {});\n",
              "          if (!dataTable) return;\n",
              "\n",
              "          const docLinkHtml = 'Like what you see? Visit the ' +\n",
              "            '<a target=\"_blank\" href=https://colab.research.google.com/notebooks/data_table.ipynb>data table notebook</a>'\n",
              "            + ' to learn more about interactive tables.';\n",
              "          element.innerHTML = '';\n",
              "          dataTable['output_type'] = 'display_data';\n",
              "          await google.colab.output.renderOutput(dataTable, element);\n",
              "          const docLink = document.createElement('div');\n",
              "          docLink.innerHTML = docLinkHtml;\n",
              "          element.appendChild(docLink);\n",
              "        }\n",
              "      </script>\n",
              "    </div>\n",
              "  </div>\n",
              "  "
            ]
          },
          "metadata": {}
        }
      ]
    },
    {
      "cell_type": "markdown",
      "source": [
        "근력운동이 집중력 향상하는 효과 여부는 A, B 학급의 집중력 테스트에서 평균점수를 비교하면 됨\n",
        "\n",
        "- A학급 평균 : &mu;1\n",
        "- B학급 평균 : &mu;2\n",
        "\n",
        "- 귀무가설 : $\\mu_1 - \\mu_2 = 0$\n",
        "- 대립가설 : $\\mu_1 - \\mu_2 \\neq 0$\n",
        "\n",
        "독립표본이므로 차이를 구해도 의미가 없음. 각 학급의 표본이 별개의 모집단에서 추출된 것이라서..\n",
        "\n",
        "$t = \\dfrac {(\\bar{X} - \\bar{Y}) - (\\mu_1 - \\mu_2)} {\\sqrt{\\dfrac {s_1^2} {n_1} + \\dfrac {s_2^2} {n_2}}}$\n",
        "\n",
        "위 t의 자유도(df)가\n",
        "\n",
        "$df = \\dfrac {\\left(\\dfrac{s_1^2} {n_1} + \\dfrac {s_2^2} {n_2} \\right)^2 } { \\dfrac {s_1^4} {n_1^2(n_1 - 1)} + \\dfrac {s_2^4} {n_2^2(n_2 - 1)}}$\n",
        "\n",
        "\n",
        "인 t 분포를 따름. 이것을 `웰치의 방법` 이라고 함.\n",
        "\n",
        "`stats.ttest_ind` 함수를 사용하면 간단히 계산 가능.\n",
        "\n",
        "`equal_var = False`를 지정하면 `웰치의 방법으로 계산`"
      ],
      "metadata": {
        "id": "XvP22Cr_MTDj"
      }
    },
    {
      "cell_type": "code",
      "source": [
        "# equal_var=False : 웰치의 방법 (2표본 독립비교 t검정)\n",
        "t, p = stats.ttest_ind(df_ind['A'], df_ind['B'], equal_var=False)\n",
        "print('p-value:', p)\n",
        "print('p-value 가 유의수준 보다 크므로, 귀무가설을 채택')\n",
        "print('따라서, A학급과 B학급의 평균차이에 유의한 차이가 있다고 말할수 없다는 결론을 내림')"
      ],
      "metadata": {
        "colab": {
          "base_uri": "https://localhost:8080/"
        },
        "id": "P7BYFt17OM1A",
        "outputId": "2542d56e-2652-49bb-930b-fa48cd8567c6"
      },
      "execution_count": 18,
      "outputs": [
        {
          "output_type": "stream",
          "name": "stdout",
          "text": [
            "p-value: 0.08695731107259361\n",
            "p-value 가 유의수준 보다 크므로, 귀무가설을 채택\n",
            "따라서, A학급과 B학급의 평균차이에 유의한 차이가 있다고 말할수 없다는 결론을 내림\n"
          ]
        }
      ]
    },
    {
      "cell_type": "markdown",
      "source": [
        "### 11.3.3 윌콕슨의 부호순위검정\n",
        "\n",
        "윌콕슨의 부호순위검정 (Wilcoxon signed-rank test) : **대응표본**에서 차이에 **정규분포를 가정할 수 없는** 경우, **중앙값 차이에 대한 검정**\n",
        "\n",
        "**평균이 아닌, 중앙값 차이**에 대한 검정인 것에 주의!!"
      ],
      "metadata": {
        "id": "hDhQYOnhOyVd"
      }
    },
    {
      "cell_type": "markdown",
      "source": [
        "`wilcoxon` 함수의 인수에 2표본 데이터를 넣어도, 차이의 데이터를 넣어도 문제는 없음"
      ],
      "metadata": {
        "id": "W1-DdUYlWNGJ"
      }
    },
    {
      "cell_type": "code",
      "source": [
        "t, p = stats.wilcoxon(df['전'], df['후'])\n",
        "print('p-value:', f'{p:.4f}')\n",
        "print('p-value 가 유의수준 보다 작으므로 귀무가설을 기각합니다.')\n",
        "\n",
        "print('\\n\\n')\n",
        "t, p = stats.wilcoxon(df['후'], df['전'])\n",
        "print('p-value:', f'{p:.4f}')\n",
        "print('p-value 가 유의수준 보다 작으므로 귀무가설을 기각합니다.')\n",
        "\n",
        "print('\\n\\n')\n",
        "t, p = stats.wilcoxon(df['후'] -  df['전'])\n",
        "print('p-value:', f'{p:.4f}')\n",
        "print('p-value 가 유의수준 보다 작으므로 귀무가설을 기각합니다.')"
      ],
      "metadata": {
        "colab": {
          "base_uri": "https://localhost:8080/"
        },
        "id": "DJZJ0Qf8WTKU",
        "outputId": "c4c22d43-7839-4070-c7cf-19604df4ae2d"
      },
      "execution_count": 26,
      "outputs": [
        {
          "output_type": "stream",
          "name": "stdout",
          "text": [
            "p-value: 0.0362\n",
            "p-value 가 유의수준 보다 작으므로 귀무가설을 기각합니다.\n",
            "\n",
            "\n",
            "\n",
            "p-value: 0.0400\n",
            "p-value 가 유의수준 보다 작으므로 귀무가설을 기각합니다.\n",
            "\n",
            "\n",
            "\n",
            "p-value: 0.0400\n",
            "p-value 가 유의수준 보다 작으므로 귀무가설을 기각합니다.\n"
          ]
        }
      ]
    },
    {
      "cell_type": "markdown",
      "source": [
        "### 11.3.4 만.위트니의 U 검정\n",
        "\n",
        "만.위트니의 U 검정 (Mann-Whitney rank test) : **대응데이터가 없는** 2표본 모집단에 **정규분포를 가정할 수 없는** 경우, **중앙값의 차이**에 대한 검정\n",
        "\n",
        "`scipy.stats`에서는 U 검정을 `mannwhitneyu` 함수로 실행 가능"
      ],
      "metadata": {
        "id": "jAlXZKegXC6n"
      }
    },
    {
      "cell_type": "code",
      "source": [
        "u, p = stats.mannwhitneyu(df_ind['A'], df_ind['B'], alternative='two-sided')\n",
        "\n",
        "print('p-value:', f'{p:.4f}')\n",
        "print('p-value 가 유의수준 보다 크므로 귀무가설을 채택합니다.')"
      ],
      "metadata": {
        "colab": {
          "base_uri": "https://localhost:8080/"
        },
        "id": "P1Xx3DdQXskJ",
        "outputId": "8f0a0f0f-280c-4935-ed3a-b270f833a8b1"
      },
      "execution_count": 27,
      "outputs": [
        {
          "output_type": "stream",
          "name": "stdout",
          "text": [
            "p-value: 0.0595\n",
            "p-value 가 유의수준 보다 크므로 귀무가설을 채택합니다.\n"
          ]
        }
      ]
    },
    {
      "cell_type": "markdown",
      "source": [
        "### 11.3.5 카이제곱검정\n",
        "\n",
        "**독립성 검정(test for independence)** : 두 변수 X와 Y에 관해서\n",
        " - 귀무가설 : 'X와 Y가 독립이다'\n",
        " - 대립가설 : 'X와 Y가 독립이 아니다'\n",
        "\n",
        "\n",
        "독립성 검정에는 카이제곱분포가 사용되기 때문에 `카이제곱검정 (chi-square test)` 라고도 부름."
      ],
      "metadata": {
        "id": "L9ulaKVmYCyG"
      }
    },
    {
      "cell_type": "markdown",
      "source": [
        "예제\n",
        "\n",
        "> A, B 광고가 만들어 졌고, 광고를 내보냈을 때 구입비율에 유의한 차이가 있는지 확인하려면 어떻게 하면 좋을까요?"
      ],
      "metadata": {
        "id": "0KT644EtYk3j"
      }
    },
    {
      "cell_type": "code",
      "source": [
        "ad_df = pd.read_csv('/content/drive/MyDrive/Colab Notebooks/누구나파이썬통계분석/data/ch11_ad.csv')\n",
        "n = len(ad_df)\n",
        "print('n:', n)\n",
        "print('shape:', ad_df.shape)\n",
        "display(ad_df.head())"
      ],
      "metadata": {
        "colab": {
          "base_uri": "https://localhost:8080/",
          "height": 242
        },
        "id": "2z58zEjGY0p7",
        "outputId": "80016726-310a-49cd-9119-e66b169071ef"
      },
      "execution_count": 28,
      "outputs": [
        {
          "output_type": "stream",
          "name": "stdout",
          "text": [
            "n: 1000\n",
            "shape: (1000, 2)\n"
          ]
        },
        {
          "output_type": "display_data",
          "data": {
            "text/plain": [
              "  광고      구입\n",
              "0  B  하지 않았다\n",
              "1  B  하지 않았다\n",
              "2  A      했다\n",
              "3  A      했다\n",
              "4  B  하지 않았다"
            ],
            "text/html": [
              "\n",
              "  <div id=\"df-c6ace46e-9650-4d8a-bf2d-da162f95fb5b\">\n",
              "    <div class=\"colab-df-container\">\n",
              "      <div>\n",
              "<style scoped>\n",
              "    .dataframe tbody tr th:only-of-type {\n",
              "        vertical-align: middle;\n",
              "    }\n",
              "\n",
              "    .dataframe tbody tr th {\n",
              "        vertical-align: top;\n",
              "    }\n",
              "\n",
              "    .dataframe thead th {\n",
              "        text-align: right;\n",
              "    }\n",
              "</style>\n",
              "<table border=\"1\" class=\"dataframe\">\n",
              "  <thead>\n",
              "    <tr style=\"text-align: right;\">\n",
              "      <th></th>\n",
              "      <th>광고</th>\n",
              "      <th>구입</th>\n",
              "    </tr>\n",
              "  </thead>\n",
              "  <tbody>\n",
              "    <tr>\n",
              "      <th>0</th>\n",
              "      <td>B</td>\n",
              "      <td>하지 않았다</td>\n",
              "    </tr>\n",
              "    <tr>\n",
              "      <th>1</th>\n",
              "      <td>B</td>\n",
              "      <td>하지 않았다</td>\n",
              "    </tr>\n",
              "    <tr>\n",
              "      <th>2</th>\n",
              "      <td>A</td>\n",
              "      <td>했다</td>\n",
              "    </tr>\n",
              "    <tr>\n",
              "      <th>3</th>\n",
              "      <td>A</td>\n",
              "      <td>했다</td>\n",
              "    </tr>\n",
              "    <tr>\n",
              "      <th>4</th>\n",
              "      <td>B</td>\n",
              "      <td>하지 않았다</td>\n",
              "    </tr>\n",
              "  </tbody>\n",
              "</table>\n",
              "</div>\n",
              "      <button class=\"colab-df-convert\" onclick=\"convertToInteractive('df-c6ace46e-9650-4d8a-bf2d-da162f95fb5b')\"\n",
              "              title=\"Convert this dataframe to an interactive table.\"\n",
              "              style=\"display:none;\">\n",
              "        \n",
              "  <svg xmlns=\"http://www.w3.org/2000/svg\" height=\"24px\"viewBox=\"0 0 24 24\"\n",
              "       width=\"24px\">\n",
              "    <path d=\"M0 0h24v24H0V0z\" fill=\"none\"/>\n",
              "    <path d=\"M18.56 5.44l.94 2.06.94-2.06 2.06-.94-2.06-.94-.94-2.06-.94 2.06-2.06.94zm-11 1L8.5 8.5l.94-2.06 2.06-.94-2.06-.94L8.5 2.5l-.94 2.06-2.06.94zm10 10l.94 2.06.94-2.06 2.06-.94-2.06-.94-.94-2.06-.94 2.06-2.06.94z\"/><path d=\"M17.41 7.96l-1.37-1.37c-.4-.4-.92-.59-1.43-.59-.52 0-1.04.2-1.43.59L10.3 9.45l-7.72 7.72c-.78.78-.78 2.05 0 2.83L4 21.41c.39.39.9.59 1.41.59.51 0 1.02-.2 1.41-.59l7.78-7.78 2.81-2.81c.8-.78.8-2.07 0-2.86zM5.41 20L4 18.59l7.72-7.72 1.47 1.35L5.41 20z\"/>\n",
              "  </svg>\n",
              "      </button>\n",
              "      \n",
              "  <style>\n",
              "    .colab-df-container {\n",
              "      display:flex;\n",
              "      flex-wrap:wrap;\n",
              "      gap: 12px;\n",
              "    }\n",
              "\n",
              "    .colab-df-convert {\n",
              "      background-color: #E8F0FE;\n",
              "      border: none;\n",
              "      border-radius: 50%;\n",
              "      cursor: pointer;\n",
              "      display: none;\n",
              "      fill: #1967D2;\n",
              "      height: 32px;\n",
              "      padding: 0 0 0 0;\n",
              "      width: 32px;\n",
              "    }\n",
              "\n",
              "    .colab-df-convert:hover {\n",
              "      background-color: #E2EBFA;\n",
              "      box-shadow: 0px 1px 2px rgba(60, 64, 67, 0.3), 0px 1px 3px 1px rgba(60, 64, 67, 0.15);\n",
              "      fill: #174EA6;\n",
              "    }\n",
              "\n",
              "    [theme=dark] .colab-df-convert {\n",
              "      background-color: #3B4455;\n",
              "      fill: #D2E3FC;\n",
              "    }\n",
              "\n",
              "    [theme=dark] .colab-df-convert:hover {\n",
              "      background-color: #434B5C;\n",
              "      box-shadow: 0px 1px 3px 1px rgba(0, 0, 0, 0.15);\n",
              "      filter: drop-shadow(0px 1px 2px rgba(0, 0, 0, 0.3));\n",
              "      fill: #FFFFFF;\n",
              "    }\n",
              "  </style>\n",
              "\n",
              "      <script>\n",
              "        const buttonEl =\n",
              "          document.querySelector('#df-c6ace46e-9650-4d8a-bf2d-da162f95fb5b button.colab-df-convert');\n",
              "        buttonEl.style.display =\n",
              "          google.colab.kernel.accessAllowed ? 'block' : 'none';\n",
              "\n",
              "        async function convertToInteractive(key) {\n",
              "          const element = document.querySelector('#df-c6ace46e-9650-4d8a-bf2d-da162f95fb5b');\n",
              "          const dataTable =\n",
              "            await google.colab.kernel.invokeFunction('convertToInteractive',\n",
              "                                                     [key], {});\n",
              "          if (!dataTable) return;\n",
              "\n",
              "          const docLinkHtml = 'Like what you see? Visit the ' +\n",
              "            '<a target=\"_blank\" href=https://colab.research.google.com/notebooks/data_table.ipynb>data table notebook</a>'\n",
              "            + ' to learn more about interactive tables.';\n",
              "          element.innerHTML = '';\n",
              "          dataTable['output_type'] = 'display_data';\n",
              "          await google.colab.output.renderOutput(dataTable, element);\n",
              "          const docLink = document.createElement('div');\n",
              "          docLink.innerHTML = docLinkHtml;\n",
              "          element.appendChild(docLink);\n",
              "        }\n",
              "      </script>\n",
              "    </div>\n",
              "  </div>\n",
              "  "
            ]
          },
          "metadata": {}
        }
      ]
    },
    {
      "cell_type": "markdown",
      "source": [
        "위 데이터만 가지고는 눈에 들어오지 않기 때문에 `교차집계표(cross table)`을 작성. **분할표** 라고도 부름.\n",
        "\n",
        "`pandas`의 `crosstab` 함수로 작성 가능"
      ],
      "metadata": {
        "id": "_Q9QkpuJZIr_"
      }
    },
    {
      "cell_type": "code",
      "source": [
        "ad_cross = pd.crosstab(ad_df['광고'], ad_df['구입'])\n",
        "display(ad_cross)"
      ],
      "metadata": {
        "colab": {
          "base_uri": "https://localhost:8080/",
          "height": 143
        },
        "id": "C7nBKa_7ZUOy",
        "outputId": "180801bc-b141-4648-88f1-8a6a20ac603e"
      },
      "execution_count": 29,
      "outputs": [
        {
          "output_type": "display_data",
          "data": {
            "text/plain": [
              "구입  하지 않았다  했다\n",
              "광고            \n",
              "A      351  49\n",
              "B      549  51"
            ],
            "text/html": [
              "\n",
              "  <div id=\"df-d86537c1-014b-43f5-bf66-81f7b7d94083\">\n",
              "    <div class=\"colab-df-container\">\n",
              "      <div>\n",
              "<style scoped>\n",
              "    .dataframe tbody tr th:only-of-type {\n",
              "        vertical-align: middle;\n",
              "    }\n",
              "\n",
              "    .dataframe tbody tr th {\n",
              "        vertical-align: top;\n",
              "    }\n",
              "\n",
              "    .dataframe thead th {\n",
              "        text-align: right;\n",
              "    }\n",
              "</style>\n",
              "<table border=\"1\" class=\"dataframe\">\n",
              "  <thead>\n",
              "    <tr style=\"text-align: right;\">\n",
              "      <th>구입</th>\n",
              "      <th>하지 않았다</th>\n",
              "      <th>했다</th>\n",
              "    </tr>\n",
              "    <tr>\n",
              "      <th>광고</th>\n",
              "      <th></th>\n",
              "      <th></th>\n",
              "    </tr>\n",
              "  </thead>\n",
              "  <tbody>\n",
              "    <tr>\n",
              "      <th>A</th>\n",
              "      <td>351</td>\n",
              "      <td>49</td>\n",
              "    </tr>\n",
              "    <tr>\n",
              "      <th>B</th>\n",
              "      <td>549</td>\n",
              "      <td>51</td>\n",
              "    </tr>\n",
              "  </tbody>\n",
              "</table>\n",
              "</div>\n",
              "      <button class=\"colab-df-convert\" onclick=\"convertToInteractive('df-d86537c1-014b-43f5-bf66-81f7b7d94083')\"\n",
              "              title=\"Convert this dataframe to an interactive table.\"\n",
              "              style=\"display:none;\">\n",
              "        \n",
              "  <svg xmlns=\"http://www.w3.org/2000/svg\" height=\"24px\"viewBox=\"0 0 24 24\"\n",
              "       width=\"24px\">\n",
              "    <path d=\"M0 0h24v24H0V0z\" fill=\"none\"/>\n",
              "    <path d=\"M18.56 5.44l.94 2.06.94-2.06 2.06-.94-2.06-.94-.94-2.06-.94 2.06-2.06.94zm-11 1L8.5 8.5l.94-2.06 2.06-.94-2.06-.94L8.5 2.5l-.94 2.06-2.06.94zm10 10l.94 2.06.94-2.06 2.06-.94-2.06-.94-.94-2.06-.94 2.06-2.06.94z\"/><path d=\"M17.41 7.96l-1.37-1.37c-.4-.4-.92-.59-1.43-.59-.52 0-1.04.2-1.43.59L10.3 9.45l-7.72 7.72c-.78.78-.78 2.05 0 2.83L4 21.41c.39.39.9.59 1.41.59.51 0 1.02-.2 1.41-.59l7.78-7.78 2.81-2.81c.8-.78.8-2.07 0-2.86zM5.41 20L4 18.59l7.72-7.72 1.47 1.35L5.41 20z\"/>\n",
              "  </svg>\n",
              "      </button>\n",
              "      \n",
              "  <style>\n",
              "    .colab-df-container {\n",
              "      display:flex;\n",
              "      flex-wrap:wrap;\n",
              "      gap: 12px;\n",
              "    }\n",
              "\n",
              "    .colab-df-convert {\n",
              "      background-color: #E8F0FE;\n",
              "      border: none;\n",
              "      border-radius: 50%;\n",
              "      cursor: pointer;\n",
              "      display: none;\n",
              "      fill: #1967D2;\n",
              "      height: 32px;\n",
              "      padding: 0 0 0 0;\n",
              "      width: 32px;\n",
              "    }\n",
              "\n",
              "    .colab-df-convert:hover {\n",
              "      background-color: #E2EBFA;\n",
              "      box-shadow: 0px 1px 2px rgba(60, 64, 67, 0.3), 0px 1px 3px 1px rgba(60, 64, 67, 0.15);\n",
              "      fill: #174EA6;\n",
              "    }\n",
              "\n",
              "    [theme=dark] .colab-df-convert {\n",
              "      background-color: #3B4455;\n",
              "      fill: #D2E3FC;\n",
              "    }\n",
              "\n",
              "    [theme=dark] .colab-df-convert:hover {\n",
              "      background-color: #434B5C;\n",
              "      box-shadow: 0px 1px 3px 1px rgba(0, 0, 0, 0.15);\n",
              "      filter: drop-shadow(0px 1px 2px rgba(0, 0, 0, 0.3));\n",
              "      fill: #FFFFFF;\n",
              "    }\n",
              "  </style>\n",
              "\n",
              "      <script>\n",
              "        const buttonEl =\n",
              "          document.querySelector('#df-d86537c1-014b-43f5-bf66-81f7b7d94083 button.colab-df-convert');\n",
              "        buttonEl.style.display =\n",
              "          google.colab.kernel.accessAllowed ? 'block' : 'none';\n",
              "\n",
              "        async function convertToInteractive(key) {\n",
              "          const element = document.querySelector('#df-d86537c1-014b-43f5-bf66-81f7b7d94083');\n",
              "          const dataTable =\n",
              "            await google.colab.kernel.invokeFunction('convertToInteractive',\n",
              "                                                     [key], {});\n",
              "          if (!dataTable) return;\n",
              "\n",
              "          const docLinkHtml = 'Like what you see? Visit the ' +\n",
              "            '<a target=\"_blank\" href=https://colab.research.google.com/notebooks/data_table.ipynb>data table notebook</a>'\n",
              "            + ' to learn more about interactive tables.';\n",
              "          element.innerHTML = '';\n",
              "          dataTable['output_type'] = 'display_data';\n",
              "          await google.colab.output.renderOutput(dataTable, element);\n",
              "          const docLink = document.createElement('div');\n",
              "          docLink.innerHTML = docLinkHtml;\n",
              "          element.appendChild(docLink);\n",
              "        }\n",
              "      </script>\n",
              "    </div>\n",
              "  </div>\n",
              "  "
            ]
          },
          "metadata": {}
        }
      ]
    },
    {
      "cell_type": "code",
      "source": [
        "## 각 광고를 통한 구입 비율\n",
        "display( ad_cross['했다'] / (ad_cross['했다'] + ad_cross['하지 않았다'])  * 100)"
      ],
      "metadata": {
        "colab": {
          "base_uri": "https://localhost:8080/",
          "height": 89
        },
        "id": "v5Urx5_AZl11",
        "outputId": "d9620293-dd6f-495e-abe0-05ebcf6898b2"
      },
      "execution_count": 31,
      "outputs": [
        {
          "output_type": "display_data",
          "data": {
            "text/plain": [
              "광고\n",
              "A    12.25\n",
              "B     8.50\n",
              "dtype: float64"
            ]
          },
          "metadata": {}
        }
      ]
    },
    {
      "cell_type": "markdown",
      "source": [
        "A의 구입비율이 12.25% 로 B 의 8.5%에 비해 높음.\n",
        "\n",
        "이것은 유의한 차이일까? \n",
        "\n",
        "카이제곱검정을 수행하려면 몇 가지 준비가 필요\n",
        "- 구입한 사람의 합계\n",
        "- 상품을 구입하지 않은 사람의 합계\n",
        "- 광고 A를 본 사람의 합계\n",
        "- 광고 B를 본 사람의 합계"
      ],
      "metadata": {
        "id": "mXfNdJhEZ4j_"
      }
    },
    {
      "cell_type": "code",
      "source": [
        "n_not, n_yes = ad_cross.sum()\n",
        "print('구입안함:', n_not, ', 구입함:', n_yes)\n",
        "\n",
        "n_adA, n_adB = ad_cross.sum(axis=1)\n",
        "print('광고 A봄:', n_adA, ', 광고 B봄:', n_adB)"
      ],
      "metadata": {
        "colab": {
          "base_uri": "https://localhost:8080/"
        },
        "id": "sOsx_ze7anDS",
        "outputId": "25597902-3252-442b-dc4d-cebcc63a1529"
      },
      "execution_count": 34,
      "outputs": [
        {
          "output_type": "stream",
          "name": "stdout",
          "text": [
            "구입안함: 900 , 구입함: 100\n",
            "광고 A봄: 400 , 광고 B봄: 600\n"
          ]
        }
      ]
    },
    {
      "cell_type": "markdown",
      "source": [
        "광고 A를 보고 상품을 구입하는 경우, 광고에 따라 상품을 구입한 비율이 변하지 않는다면 400명 중 10%, 즉 40명이 상품을 구입한다고 기대할 수 있음. \n",
        "\n",
        "광고와 구입이 독립인 변수일 때 기대되는 도수를 `기대도수(expected frequency)` 라고 함. 한편, 실제로 관측된 데이터는 `관측도수 (observed frequency)` 라고 함\n",
        "\n",
        "모든 셀에서 기대도수의 계산을 수행"
      ],
      "metadata": {
        "id": "tizV_Fz5bV2k"
      }
    },
    {
      "cell_type": "code",
      "source": [
        "ad_ef = pd.DataFrame({'했다': [n_adA * n_yes / n, n_adB * n_yes / n],\n",
        "                      '하지 않았다' : [n_adA * n_not / n, n_adB * n_not / n]},\n",
        "                     index = ['A', 'B'])\n",
        "display(ad_ef)"
      ],
      "metadata": {
        "colab": {
          "base_uri": "https://localhost:8080/",
          "height": 112
        },
        "id": "DDlDd9uvb1SC",
        "outputId": "9f940a0a-b3aa-410a-bebb-3d709092c70d"
      },
      "execution_count": 36,
      "outputs": [
        {
          "output_type": "display_data",
          "data": {
            "text/plain": [
              "     했다  하지 않았다\n",
              "A  40.0   360.0\n",
              "B  60.0   540.0"
            ],
            "text/html": [
              "\n",
              "  <div id=\"df-7d2f50e2-f849-40fa-810b-659caaf5c05f\">\n",
              "    <div class=\"colab-df-container\">\n",
              "      <div>\n",
              "<style scoped>\n",
              "    .dataframe tbody tr th:only-of-type {\n",
              "        vertical-align: middle;\n",
              "    }\n",
              "\n",
              "    .dataframe tbody tr th {\n",
              "        vertical-align: top;\n",
              "    }\n",
              "\n",
              "    .dataframe thead th {\n",
              "        text-align: right;\n",
              "    }\n",
              "</style>\n",
              "<table border=\"1\" class=\"dataframe\">\n",
              "  <thead>\n",
              "    <tr style=\"text-align: right;\">\n",
              "      <th></th>\n",
              "      <th>했다</th>\n",
              "      <th>하지 않았다</th>\n",
              "    </tr>\n",
              "  </thead>\n",
              "  <tbody>\n",
              "    <tr>\n",
              "      <th>A</th>\n",
              "      <td>40.0</td>\n",
              "      <td>360.0</td>\n",
              "    </tr>\n",
              "    <tr>\n",
              "      <th>B</th>\n",
              "      <td>60.0</td>\n",
              "      <td>540.0</td>\n",
              "    </tr>\n",
              "  </tbody>\n",
              "</table>\n",
              "</div>\n",
              "      <button class=\"colab-df-convert\" onclick=\"convertToInteractive('df-7d2f50e2-f849-40fa-810b-659caaf5c05f')\"\n",
              "              title=\"Convert this dataframe to an interactive table.\"\n",
              "              style=\"display:none;\">\n",
              "        \n",
              "  <svg xmlns=\"http://www.w3.org/2000/svg\" height=\"24px\"viewBox=\"0 0 24 24\"\n",
              "       width=\"24px\">\n",
              "    <path d=\"M0 0h24v24H0V0z\" fill=\"none\"/>\n",
              "    <path d=\"M18.56 5.44l.94 2.06.94-2.06 2.06-.94-2.06-.94-.94-2.06-.94 2.06-2.06.94zm-11 1L8.5 8.5l.94-2.06 2.06-.94-2.06-.94L8.5 2.5l-.94 2.06-2.06.94zm10 10l.94 2.06.94-2.06 2.06-.94-2.06-.94-.94-2.06-.94 2.06-2.06.94z\"/><path d=\"M17.41 7.96l-1.37-1.37c-.4-.4-.92-.59-1.43-.59-.52 0-1.04.2-1.43.59L10.3 9.45l-7.72 7.72c-.78.78-.78 2.05 0 2.83L4 21.41c.39.39.9.59 1.41.59.51 0 1.02-.2 1.41-.59l7.78-7.78 2.81-2.81c.8-.78.8-2.07 0-2.86zM5.41 20L4 18.59l7.72-7.72 1.47 1.35L5.41 20z\"/>\n",
              "  </svg>\n",
              "      </button>\n",
              "      \n",
              "  <style>\n",
              "    .colab-df-container {\n",
              "      display:flex;\n",
              "      flex-wrap:wrap;\n",
              "      gap: 12px;\n",
              "    }\n",
              "\n",
              "    .colab-df-convert {\n",
              "      background-color: #E8F0FE;\n",
              "      border: none;\n",
              "      border-radius: 50%;\n",
              "      cursor: pointer;\n",
              "      display: none;\n",
              "      fill: #1967D2;\n",
              "      height: 32px;\n",
              "      padding: 0 0 0 0;\n",
              "      width: 32px;\n",
              "    }\n",
              "\n",
              "    .colab-df-convert:hover {\n",
              "      background-color: #E2EBFA;\n",
              "      box-shadow: 0px 1px 2px rgba(60, 64, 67, 0.3), 0px 1px 3px 1px rgba(60, 64, 67, 0.15);\n",
              "      fill: #174EA6;\n",
              "    }\n",
              "\n",
              "    [theme=dark] .colab-df-convert {\n",
              "      background-color: #3B4455;\n",
              "      fill: #D2E3FC;\n",
              "    }\n",
              "\n",
              "    [theme=dark] .colab-df-convert:hover {\n",
              "      background-color: #434B5C;\n",
              "      box-shadow: 0px 1px 3px 1px rgba(0, 0, 0, 0.15);\n",
              "      filter: drop-shadow(0px 1px 2px rgba(0, 0, 0, 0.3));\n",
              "      fill: #FFFFFF;\n",
              "    }\n",
              "  </style>\n",
              "\n",
              "      <script>\n",
              "        const buttonEl =\n",
              "          document.querySelector('#df-7d2f50e2-f849-40fa-810b-659caaf5c05f button.colab-df-convert');\n",
              "        buttonEl.style.display =\n",
              "          google.colab.kernel.accessAllowed ? 'block' : 'none';\n",
              "\n",
              "        async function convertToInteractive(key) {\n",
              "          const element = document.querySelector('#df-7d2f50e2-f849-40fa-810b-659caaf5c05f');\n",
              "          const dataTable =\n",
              "            await google.colab.kernel.invokeFunction('convertToInteractive',\n",
              "                                                     [key], {});\n",
              "          if (!dataTable) return;\n",
              "\n",
              "          const docLinkHtml = 'Like what you see? Visit the ' +\n",
              "            '<a target=\"_blank\" href=https://colab.research.google.com/notebooks/data_table.ipynb>data table notebook</a>'\n",
              "            + ' to learn more about interactive tables.';\n",
              "          element.innerHTML = '';\n",
              "          dataTable['output_type'] = 'display_data';\n",
              "          await google.colab.output.renderOutput(dataTable, element);\n",
              "          const docLink = document.createElement('div');\n",
              "          docLink.innerHTML = docLinkHtml;\n",
              "          element.appendChild(docLink);\n",
              "        }\n",
              "      </script>\n",
              "    </div>\n",
              "  </div>\n",
              "  "
            ]
          },
          "metadata": {}
        }
      ]
    },
    {
      "cell_type": "markdown",
      "source": [
        "카이제곱검정에서는 `기대도수`와 `관측도수`의 차이를 측정함으로써 검정을 수행\n",
        "\n",
        "Y 검정통계량은 다음과 같이 구함\n",
        "\n",
        "$Y = \\displaystyle \\sum_i \\sum_j \\dfrac {(O_{ij} - E_{ij})^2} {E_{ij}}$"
      ],
      "metadata": {
        "id": "yOu5OANmcQ6U"
      }
    },
    {
      "cell_type": "code",
      "source": [
        "print('중간값\\n', ( (ad_cross - ad_ef)**2 / ad_ef ).sum())\n",
        "\n",
        "print('\\n\\n')\n",
        "y = ( (ad_cross - ad_ef)**2 / ad_ef ).sum().sum()\n",
        "print('검정통계량 Y:', y)"
      ],
      "metadata": {
        "colab": {
          "base_uri": "https://localhost:8080/"
        },
        "id": "MNhH_SMtcnqm",
        "outputId": "613ebfa8-e8c1-49fd-abbc-6011b1d661f8"
      },
      "execution_count": 42,
      "outputs": [
        {
          "output_type": "stream",
          "name": "stdout",
          "text": [
            "중간값\n",
            " 하지 않았다    0.375\n",
            "했다        3.375\n",
            "dtype: float64\n",
            "\n",
            "\n",
            "\n",
            "검정통계량 Y: 3.75\n"
          ]
        }
      ]
    },
    {
      "cell_type": "markdown",
      "source": [
        "Y는 자유도가 1인 카이제곱분포를 근시적으로 따른다고 알려져 있음.\n",
        "\n",
        "따르는 분포를 알고 있으면 p 값을 구하는 것은 간단"
      ],
      "metadata": {
        "id": "Yqn6rW9RdM1p"
      }
    },
    {
      "cell_type": "code",
      "source": [
        "rv = stats.chi2(1)\n",
        "p_val = 1 - rv.cdf(y)\n",
        "print('p-value:', p_val)\n",
        "print('p-value 가 유의수준 보다 크므로 귀무가설을 채택합니다.')\n",
        "print('광고 A, B가 제품 구매에 유의한 차이가 인정되지 않는다는 결론')"
      ],
      "metadata": {
        "colab": {
          "base_uri": "https://localhost:8080/"
        },
        "id": "dhH4gZa1dUWl",
        "outputId": "fb18f4d4-275c-4c45-fa79-a0a55ae87c49"
      },
      "execution_count": 44,
      "outputs": [
        {
          "output_type": "stream",
          "name": "stdout",
          "text": [
            "p-value: 0.052807511416113395\n",
            "p-value 가 유의수준 보다 크므로 귀무가설을 채택합니다.\n"
          ]
        }
      ]
    },
    {
      "cell_type": "markdown",
      "source": [
        "`chi2_contingency` 함수를 이용하여 위 계산과정을 간단하게 가능\n",
        "\n",
        "파라미터로 `교차집계표`를 전달하고, `correction=False`로 함"
      ],
      "metadata": {
        "id": "03QLoGBFdt15"
      }
    },
    {
      "cell_type": "code",
      "source": [
        "# correction 이 True이고 자유도가 1이면 연속성에 대한 예이츠 보정을 적용합니다. \n",
        "# 보정의 효과는 관찰된 각 값을 해당 예상 값에 대해 0.5씩 조정하는 것입니다.\n",
        "chi2, p, dof, ef = stats.chi2_contingency(ad_cross, correction=False)\n",
        "\n",
        "print(f'chi2: {chi2:.4f}, p-value:{p:.4f}, 자유도(df):{dof:.4f}')\n",
        "\n",
        "print('\\n')\n",
        "print('기대도수(ef)\\n')\n",
        "print(ef)"
      ],
      "metadata": {
        "colab": {
          "base_uri": "https://localhost:8080/"
        },
        "id": "kuaTMN2xd4qb",
        "outputId": "d5fb0829-2350-452d-df03-9cd5e31c5d75"
      },
      "execution_count": 51,
      "outputs": [
        {
          "output_type": "stream",
          "name": "stdout",
          "text": [
            "chi2: 3.7500, p-value:0.0528, 자유도(df):1.0000\n",
            "\n",
            "\n",
            "기대도수(ef)\n",
            "\n",
            "[[360.  40.]\n",
            " [540.  60.]]\n"
          ]
        }
      ]
    }
  ]
}