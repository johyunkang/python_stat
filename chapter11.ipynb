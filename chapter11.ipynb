{
  "nbformat": 4,
  "nbformat_minor": 0,
  "metadata": {
    "colab": {
      "provenance": [],
      "authorship_tag": "ABX9TyNSNTJShyoMtG6IH0+i1vVr",
      "include_colab_link": true
    },
    "kernelspec": {
      "name": "python3",
      "display_name": "Python 3"
    },
    "language_info": {
      "name": "python"
    }
  },
  "cells": [
    {
      "cell_type": "markdown",
      "metadata": {
        "id": "view-in-github",
        "colab_type": "text"
      },
      "source": [
        "<a href=\"https://colab.research.google.com/github/johyunkang/python_stat/blob/main/chapter11.ipynb\" target=\"_parent\"><img src=\"https://colab.research.google.com/assets/colab-badge.svg\" alt=\"Open In Colab\"/></a>"
      ]
    },
    {
      "cell_type": "markdown",
      "source": [
        "# Chapter 11 통계적 가설 검정"
      ],
      "metadata": {
        "id": "zjsbJ9XPVJVg"
      }
    },
    {
      "cell_type": "markdown",
      "source": [
        "## 11.1 통계적 가설검정"
      ],
      "metadata": {
        "id": "t73BJd2xVN8F"
      }
    },
    {
      "cell_type": "code",
      "execution_count": null,
      "metadata": {
        "id": "s0u3UtkNU_SR"
      },
      "outputs": [],
      "source": [
        "from scipy import stats\n",
        "import pandas as pd\n",
        "\n",
        "df = pd.read_csv('감자튀김.csv')\n",
        "sample = np.array(df['무게'])\n",
        "\n",
        "\n",
        "rv = stats.norm(130, np.sqrt(9/14)) # 감튀 평균:130, 분산:9, 표본: 14개\n",
        "print(rv.isf(0.95)) # isf (Inverse Survival Function) : 임곗값 산출\n",
        "> -1.645\n",
        "\n",
        "potato_mean = np.mean(sample)\n",
        "print(potato_mean)\n",
        "> 128.451\n",
        "\n",
        "Z = (potato_mean - 130) / np.sqrt(9/14) # 검정통계량 값 Z 를 구함\n",
        "print(Z)\n",
        "> -1.932\n",
        "\n",
        "# p-value 는 누적분포함수(cdf)를 이용해 산출 가능\n",
        "p-val = rv.cdf(Z)\n",
        "print(p-val)\n",
        "> 0.027\n",
        "\n",
        "# p-value 가 유의수준(a) 0.05 보다 작으므로 귀무가설을 기각한다.\n"
      ]
    },
    {
      "cell_type": "markdown",
      "source": [
        "$Z = \\dfrac{(\\bar{X} - 130)} { \\sqrt{\\dfrac{9} {14}}}$"
      ],
      "metadata": {
        "id": "F4c7GF7rVTlV"
      }
    },
    {
      "cell_type": "markdown",
      "source": [
        "p-value 를 기준으로 수행하는 가설검정의 흐름"
      ],
      "metadata": {
        "id": "VoHpbr73Vd8p"
      }
    },
    {
      "cell_type": "markdown",
      "source": [
        "## 11.2 기본적인 가설검정"
      ],
      "metadata": {
        "id": "XrX-mGYakIyw"
      }
    },
    {
      "cell_type": "markdown",
      "source": [
        "### 11.2.1 정규분포의 모평균에 대한 검정 : 모분산을 알고 있는 경"
      ],
      "metadata": {
        "id": "f6mrxsHvkslG"
      }
    },
    {
      "cell_type": "markdown",
      "source": [
        "모평균에 대한 검정이란 **모평균이 어떤 값 $\\mu_0$이 아니라고 주장**하기 위한 검정\n",
        "\n",
        "\n",
        "검정통계량으로 Z를 사용 (양측검정)\n",
        "\n",
        "$Z = \\dfrac {(\\bar{X} - \\mu_0)} {\\sqrt{\\dfrac {\\sigma^2} {n}}} $\n",
        "\n",
        "- 귀무가설을 기각 : $Z < z_{1 - \\alpha / 2} \\quad or \\quad z_{a/2} < Z$\n",
        "- 귀무가설을 채택 : $z_{1-\\alpha/2} \\leq  Z \\leq z_{\\alpha/2}$\n",
        "\n",
        "\n",
        "위 식을 아래 파이썬으로 구현"
      ],
      "metadata": {
        "id": "5-GjYRf-kwze"
      }
    },
    {
      "cell_type": "code",
      "source": [
        "def potato_mean_test(sample, mean0, p_var, alpha=0.05) :\n",
        "    import numpy as np\n",
        "    from scipy import stats\n",
        "\n",
        "    s_mean = np.mean(sample)\n",
        "    n = len(sample)\n",
        "    rv = stats.norm()\n",
        "    interval = rv.interval(1 - alpha)\n",
        "\n",
        "    z = (s_mean - mean0) / np.sqrt(p_var / n)\n",
        "\n",
        "    if interval[0] <= z <= interval[1] :\n",
        "        print(f'유의수준 {alpha:.3f}에서 귀무가설을 채택')\n",
        "    else :\n",
        "        print(f'유의수준 {alpha:.3f}에서 귀무가설을 기각')\n",
        "    \n",
        "    if z < 0 :\n",
        "        p_value = rv.cdf(z) * 2 # 양측검정이라 * 2 해줌\n",
        "    else :\n",
        "        p_value = (1- rv.cdf(z)) * 2 # 양측검정이라 * 2 해줌\n",
        "\n",
        "    print(f'p-value는 {p_value:.3f} 입니다.')"
      ],
      "metadata": {
        "id": "7zPKA1ShnhEe"
      },
      "execution_count": 7,
      "outputs": []
    },
    {
      "cell_type": "code",
      "source": [
        "potato_sample = [122.02, 131.73, 130.6, 131.82, 132.05, 126.12, 124.43,\n",
        "          132.89, 122.79, 129.95, 126.14, 134.45, 127.64, 125.68]\n",
        "\n",
        "mu = 130\n",
        "var = 9\n",
        "potato_mean_test(potato_sample, mu, var)"
      ],
      "metadata": {
        "colab": {
          "base_uri": "https://localhost:8080/"
        },
        "id": "Os5kDiYMkLk_",
        "outputId": "bcada3ec-102b-415e-9693-78b1f883178f"
      },
      "execution_count": 9,
      "outputs": [
        {
          "output_type": "stream",
          "name": "stdout",
          "text": [
            "유의수준 0.050에서 귀무가설을 채택\n",
            "p-value는 0.053 입니다.\n"
          ]
        }
      ]
    },
    {
      "cell_type": "markdown",
      "source": [
        "### 11.2.2 정규분포의 모분산에 대한 검정"
      ],
      "metadata": {
        "id": "-E136uT7qqsT"
      }
    },
    {
      "cell_type": "markdown",
      "source": [
        "모분산에 대한 검정은 **모분산이 어떤 값 $\\sigma_0^2$ 이 아닌 것을 주장하기 위한 검정**입니다.\n",
        "\n",
        "$N(\\mu, \\sigma^2)$ 이라고 함. 모분산 $\\sigma^2$에 관한 유의수준 $\\alpha$의 양측검정\n",
        "\n",
        "- 귀무가설 : $\\sigma^2 = \\sigma_0^2$\n",
        "- 대림가설 : $\\sigma^2 \\neq \\sigma_0^2$\n",
        "\n",
        "검정통계량으로 $Y = \\dfrac {(n-1)s^2} {\\sigma_0^2}$ 을 사용\n",
        "\n",
        "- 귀무가설을 채택 : $X_{1-\\alpha/2}^2(n-1)  \\leq Y \\leq X_{\\alpha/2}^2 (n-1)$\n",
        "- 귀무가설을 기각 : $Y \\lt X_{1-\\alpha/2}^2(n-1) \\quad or \\quad X_{\\alpha/2}^2 (n-1) \\lt Y$"
      ],
      "metadata": {
        "id": "IC0P5wVXq2M7"
      }
    },
    {
      "cell_type": "code",
      "source": [
        "def potato_var_test(sample, var0, alpha=0.05) :\n",
        "    import numpy as np\n",
        "    from scipy import stats\n",
        "\n",
        "    u_var = np.var(sample, ddof=1) # ddof=1 : 불편분산 (n-1 사용), ddof=0 : 표본분산 (n 사용)\n",
        "    n = len(sample)\n",
        "    rv = stats.chi2(df=n-1)\n",
        "    interval = rv.interval(1 - alpha)\n",
        "\n",
        "    y = (n - 1) * u_var / var0\n",
        "\n",
        "    if interval[0] <= y <= interval[1] :\n",
        "        print(f'유의수준 {alpha:.3f}에서 귀무가설을 채택합니다')\n",
        "    else :\n",
        "        print(f'유의수준 {alpha:.3f}에서 귀무가설을 기각합니다')\n",
        "    \n",
        "    if y < rv.isf(0.5) : # isf (Inverse Survival Function)\n",
        "        p = rv.cdf(y) * 2 # 양측검정이라 * 2 \n",
        "    else :\n",
        "        p = (1 - rv.cdf(y)) * 2 # 양측검정이라 * 2\n",
        "    \n",
        "    print(f'p-value는 {p:.3f} 입니다.')\n",
        "    print('Interval 값은 :', interval)\n",
        "    print('검정통계량 Y : ', y)"
      ],
      "metadata": {
        "id": "Gjv2gkiNquQL"
      },
      "execution_count": 17,
      "outputs": []
    },
    {
      "cell_type": "code",
      "source": [
        "potato_var_test(potato_sample, var)"
      ],
      "metadata": {
        "colab": {
          "base_uri": "https://localhost:8080/"
        },
        "id": "Hq5mK4YBvDDR",
        "outputId": "d6439f4b-a998-4c86-b418-b614cf64698a"
      },
      "execution_count": 18,
      "outputs": [
        {
          "output_type": "stream",
          "name": "stdout",
          "text": [
            "유의수준 0.050에서 귀무가설을 채택합니다\n",
            "p-value는 0.085 입니다.\n",
            "Interval 값은 : (5.008750511810331, 24.735604884931547)\n",
            "검정통계량 Y :  22.921810317460263\n"
          ]
        }
      ]
    },
    {
      "cell_type": "markdown",
      "source": [
        "### 11.2.3 정규분포의 모평균에 대한 검정 : 모분산을 모르는 경우"
      ],
      "metadata": {
        "id": "I34r6DCpvvQ3"
      }
    },
    {
      "cell_type": "markdown",
      "source": [
        "p.311"
      ],
      "metadata": {
        "id": "iHZj87bSvzhx"
      }
    }
  ]
}