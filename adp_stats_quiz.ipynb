{
  "nbformat": 4,
  "nbformat_minor": 0,
  "metadata": {
    "colab": {
      "provenance": [],
      "authorship_tag": "ABX9TyMsxCVDKThWe2hTtg4hcnTz",
      "include_colab_link": true
    },
    "kernelspec": {
      "name": "python3",
      "display_name": "Python 3"
    },
    "language_info": {
      "name": "python"
    }
  },
  "cells": [
    {
      "cell_type": "markdown",
      "metadata": {
        "id": "view-in-github",
        "colab_type": "text"
      },
      "source": [
        "<a href=\"https://colab.research.google.com/github/johyunkang/python_stat/blob/main/adp_stats_quiz.ipynb\" target=\"_parent\"><img src=\"https://colab.research.google.com/assets/colab-badge.svg\" alt=\"Open In Colab\"/></a>"
      ]
    },
    {
      "cell_type": "markdown",
      "source": [
        "# ADP 27회 통계"
      ],
      "metadata": {
        "id": "e6gEZlXM5wph"
      }
    },
    {
      "cell_type": "markdown",
      "source": [
        "Q1. 2년 전 제품 생산량이 100,000개, 1년 전 제품 생산량이 150,000개, 그 후 팩토리 기술의 상승으로 제품 생산량이 250,000개 되었을 때, 연평균 상승률의 대푯값을 구하시오. (반올림하여 소수점 아래 둘째자리까지 표기하시오.)"
      ],
      "metadata": {
        "id": "YSpIpyZH5zij"
      }
    },
    {
      "cell_type": "code",
      "execution_count": null,
      "metadata": {
        "colab": {
          "base_uri": "https://localhost:8080/"
        },
        "id": "VVF2jReD5tif",
        "outputId": "d69f1924-c8d7-4ce2-c3ab-e9cd5ea7045e"
      },
      "outputs": [
        {
          "output_type": "stream",
          "name": "stdout",
          "text": [
            "기하평균: 58.11 %\n",
            "CAGR :  58.11 %\n"
          ]
        }
      ],
      "source": [
        "import numpy as np\n",
        "\n",
        "p2 = 100_000\n",
        "p1 = 150_000\n",
        "p0 = 250_000\n",
        "\n",
        "rt1 = (p1/p2)\n",
        "rt2 = (p0/p1)\n",
        "geo_mean=np.sqrt(rt1 * rt2) - 1\n",
        "print('기하평균:', round(geo_mean * 100, 2), '%')\n",
        "print('CAGR : ', round(((p0/p2)**(1/2)-1)*100, 2), '%')"
      ]
    },
    {
      "cell_type": "markdown",
      "source": [
        "#### 조화평균\n",
        "\n",
        "\n",
        "\n",
        "$속력 = \\dfrac {거리} {시간}$\n",
        "\n",
        "$\\dfrac {2ab} {a + b} ,  \\dfrac {3abc} {ab+bc+ca}$\n",
        "\n",
        "$a = \\dfrac {d} {t_a}, b = \\dfrac {d} {t_b}$\n",
        "\n",
        "\n",
        "Q. 100km의 거리를 절반은 40km/h 의 속도로 가고, 나머지 50km는 100km/h 속도로 갔다면 평균속력은?"
      ],
      "metadata": {
        "id": "K_Xah79YF0ME"
      }
    },
    {
      "cell_type": "code",
      "source": [
        "a = 40\n",
        "b = 100\n",
        "\n",
        "ans1 = (2*a*b)/(a + b) # 2ab / (a+b)\n",
        "print(ans1)\n",
        "\n",
        "ans2 = 2/(1/a + 1/b) # 2 / (1/a + 1/b)\n",
        "print(ans2)\n",
        "       "
      ],
      "metadata": {
        "colab": {
          "base_uri": "https://localhost:8080/"
        },
        "id": "Ci4HzfpjGVLR",
        "outputId": "08ed881a-590f-48e5-b903-561fa47dfe94"
      },
      "execution_count": null,
      "outputs": [
        {
          "output_type": "stream",
          "name": "stdout",
          "text": [
            "57.142857142857146\n",
            "57.14285714285714\n"
          ]
        }
      ]
    },
    {
      "cell_type": "markdown",
      "source": [
        "#### NPV"
      ],
      "metadata": {
        "id": "J_gfrXJQHweq"
      }
    },
    {
      "cell_type": "code",
      "source": [
        "cashflows = [ 10000, 20000, 30000, 40000]\n",
        "r = 0.05 # 할인률\n",
        "npv = -70_000 # 최초 투자금액이며 현금 유출이라 (-)로 표시\n",
        "\n",
        "period = 1 # 1Y: 1, 12month : 12\n",
        "\n",
        "i=0\n",
        "# npv=0\n",
        "for c in cashflows :\n",
        "    i = i + 1\n",
        "    npv = npv + c/(1+r)**(i/period)\n",
        "    print(npv)\n",
        "\n",
        "print('최종 NPV:', npv)\n"
      ],
      "metadata": {
        "colab": {
          "base_uri": "https://localhost:8080/"
        },
        "id": "N2FGrn9cHx8G",
        "outputId": "32b93024-7617-42ca-fb9b-1ba02a0658f4"
      },
      "execution_count": null,
      "outputs": [
        {
          "output_type": "stream",
          "name": "stdout",
          "text": [
            "-60476.19047619047\n",
            "-42335.600907029475\n",
            "-16420.472951085194\n",
            "16487.62604059008\n",
            "최종 NPV: 16487.62604059008\n"
          ]
        }
      ]
    },
    {
      "cell_type": "markdown",
      "source": [
        "#### IRR\n",
        "\n",
        "IRR : NPV가 0이 되는 할인율"
      ],
      "metadata": {
        "id": "uYRgp_Wp4LSy"
      }
    },
    {
      "cell_type": "code",
      "source": [
        "import scipy as sp\n",
        "import numpy as np\n",
        "cashflows = [-70000, 10000, 20000, 30000, 40000]"
      ],
      "metadata": {
        "colab": {
          "base_uri": "https://localhost:8080/",
          "height": 427
        },
        "id": "QvgXVNu74MaI",
        "outputId": "a156331d-5aba-4c32-ce82-618aba37b74b"
      },
      "execution_count": null,
      "outputs": [
        {
          "output_type": "stream",
          "name": "stderr",
          "text": [
            "<ipython-input-16-d2e0142d0726>:5: DeprecationWarning: In accordance with NEP 32, the function irr was removed from NumPy version 1.20.  A replacement for this function is available in the numpy_financial library: https://pypi.org/project/numpy-financial\n",
            "  irr = np.irr(cashflows)\n"
          ]
        },
        {
          "output_type": "error",
          "ename": "RuntimeError",
          "evalue": "ignored",
          "traceback": [
            "\u001b[0;31m---------------------------------------------------------------------------\u001b[0m",
            "\u001b[0;31mRuntimeError\u001b[0m                              Traceback (most recent call last)",
            "\u001b[0;32m<ipython-input-16-d2e0142d0726>\u001b[0m in \u001b[0;36m<module>\u001b[0;34m\u001b[0m\n\u001b[1;32m      3\u001b[0m \u001b[0mcashflows\u001b[0m \u001b[0;34m=\u001b[0m \u001b[0;34m[\u001b[0m\u001b[0;34m-\u001b[0m\u001b[0;36m70000\u001b[0m\u001b[0;34m,\u001b[0m \u001b[0;36m10000\u001b[0m\u001b[0;34m,\u001b[0m \u001b[0;36m20000\u001b[0m\u001b[0;34m,\u001b[0m \u001b[0;36m30000\u001b[0m\u001b[0;34m,\u001b[0m \u001b[0;36m40000\u001b[0m\u001b[0;34m]\u001b[0m\u001b[0;34m\u001b[0m\u001b[0;34m\u001b[0m\u001b[0m\n\u001b[1;32m      4\u001b[0m \u001b[0;34m\u001b[0m\u001b[0m\n\u001b[0;32m----> 5\u001b[0;31m \u001b[0mirr\u001b[0m \u001b[0;34m=\u001b[0m \u001b[0mnp\u001b[0m\u001b[0;34m.\u001b[0m\u001b[0mirr\u001b[0m\u001b[0;34m(\u001b[0m\u001b[0mcashflows\u001b[0m\u001b[0;34m)\u001b[0m\u001b[0;34m\u001b[0m\u001b[0;34m\u001b[0m\u001b[0m\n\u001b[0m\u001b[1;32m      6\u001b[0m \u001b[0mprint\u001b[0m\u001b[0;34m(\u001b[0m\u001b[0;34m'irr:'\u001b[0m\u001b[0;34m,\u001b[0m \u001b[0mirr\u001b[0m\u001b[0;34m)\u001b[0m\u001b[0;34m\u001b[0m\u001b[0;34m\u001b[0m\u001b[0m\n",
            "\u001b[0;32m/usr/local/lib/python3.8/dist-packages/numpy/__init__.py\u001b[0m in \u001b[0;36m_expired\u001b[0;34m(*args, **kwds)\u001b[0m\n\u001b[1;32m    287\u001b[0m \u001b[0;34m\u001b[0m\u001b[0m\n\u001b[1;32m    288\u001b[0m             \u001b[0;32mdef\u001b[0m \u001b[0m_expired\u001b[0m\u001b[0;34m(\u001b[0m\u001b[0;34m*\u001b[0m\u001b[0margs\u001b[0m\u001b[0;34m,\u001b[0m \u001b[0;34m**\u001b[0m\u001b[0mkwds\u001b[0m\u001b[0;34m)\u001b[0m\u001b[0;34m:\u001b[0m\u001b[0;34m\u001b[0m\u001b[0;34m\u001b[0m\u001b[0m\n\u001b[0;32m--> 289\u001b[0;31m                 \u001b[0;32mraise\u001b[0m \u001b[0mRuntimeError\u001b[0m\u001b[0;34m(\u001b[0m\u001b[0mmsg\u001b[0m\u001b[0;34m)\u001b[0m\u001b[0;34m\u001b[0m\u001b[0;34m\u001b[0m\u001b[0m\n\u001b[0m\u001b[1;32m    290\u001b[0m \u001b[0;34m\u001b[0m\u001b[0m\n\u001b[1;32m    291\u001b[0m             \u001b[0;32mreturn\u001b[0m \u001b[0m_expired\u001b[0m\u001b[0;34m\u001b[0m\u001b[0;34m\u001b[0m\u001b[0m\n",
            "\u001b[0;31mRuntimeError\u001b[0m: In accordance with NEP 32, the function irr was removed from NumPy version 1.20.  A replacement for this function is available in the numpy_financial library: https://pypi.org/project/numpy-financial"
          ]
        }
      ]
    },
    {
      "cell_type": "markdown",
      "source": [
        "Q2. 8건의 광고시간 측정. 평균 15.5초, 분산 3.2초 일때 90% 신뢰구간은?\n"
      ],
      "metadata": {
        "id": "56RmqZ-CL2gL"
      }
    },
    {
      "cell_type": "code",
      "source": [
        "# 정규분포를 가정하며, 집계한 광고 수가 30개 미만이므로 t검정을 사용\n",
        "from scipy import stats\n",
        "mu = 15.5\n",
        "var = 3.2\n",
        "n = 8\n",
        "confidence_level_90 = stats.t.interval(alpha=0.9, loc=mu, scale=np.sqrt(var/n), df=(n-1))\n",
        "print('90% 신뢰구간:', confidence_level_90)\n",
        "confidence_level_90_n = stats.t.interval(alpha=0.9, loc=mu, scale=np.sqrt(var/n), df=(n))\n",
        "print('90% 신뢰구간:', confidence_level_90_n)"
      ],
      "metadata": {
        "colab": {
          "base_uri": "https://localhost:8080/"
        },
        "id": "Akiht4WTJI5M",
        "outputId": "8ffe08d2-1ec2-414c-8b86-8af92bdb80c2"
      },
      "execution_count": null,
      "outputs": [
        {
          "output_type": "stream",
          "name": "stdout",
          "text": [
            "90% 신뢰구간: (14.301763280356333, 16.698236719643667)\n",
            "90% 신뢰구간: (14.323918556586312, 16.676081443413686)\n"
          ]
        }
      ]
    },
    {
      "cell_type": "markdown",
      "source": [
        "Q3. 15개 강의 상류와 하류의 어류다양성 점수. 상류-하류는 독립이 아닌 종속\n",
        "- 3-1 귀무가설과 대립가설을 설정하라"
      ],
      "metadata": {
        "id": "8a2QfxAJQeV1"
      }
    },
    {
      "cell_type": "code",
      "source": [
        "# 귀무가설 : 강의 상류와 하류간 어류 다양성 점수는 상관 없다.\n",
        "# 대립가설 : 강의 상류와 하류간 어류 다양성 점수는 상관이 없지 않다."
      ],
      "metadata": {
        "id": "c4IjG7COQpeD"
      },
      "execution_count": null,
      "outputs": []
    },
    {
      "cell_type": "markdown",
      "source": [
        "- 3-2 통계량을 구하고, 대립가설 채택 여부를 기술하라"
      ],
      "metadata": {
        "id": "kSNWN4gCV5vl"
      }
    },
    {
      "cell_type": "code",
      "source": [
        "# t 검정을 사용한다고 생각함\n",
        "# 상류 / 하류 간 독립이 아니라고 했으므로\n",
        "# 독립표본 검정(쌍검정)이 아닌 대응표본 검정을 실행해야 한다고 생각\n",
        "\n",
        "from scipy import stats\n",
        "import pandas as pd\n",
        "\n",
        "river = ['A', 'B', 'C', 'D', 'E', 'F', 'G', 'H', 'I', 'J']\n",
        "up = [40, 38, 42, 29, 19, 27, 37, 47, 57, 56]\n",
        "down = [48, 38, 40, 30, 20, 26, 35, 48, 55, 56]\n",
        "\n",
        "df = pd.DataFrame({'river':river, 'up':up, 'down':down})\n",
        "display(df.head())\n",
        "\n",
        "# 먼저 상류와 하류 데이터에 대한 각각의 정규성 검정을 수행\n",
        "# 표본의 수가 적으니 비모수 검정 해야 하나?\n",
        "print('정규성검정 상류:', stats.shapiro(df.up))\n",
        "print('정규성검정 하류:', stats.shapiro(df.down))\n",
        "print('샘플 데이터는 p-value 가 둘 다 0.05를 초과하여 정규성을 만족하지만, 실제 시험에선 하나가 정규성을 만족하지 못 했음')\n",
        "\n",
        "# 둘 중 하나가 정규성을 만족하지 못하여\n",
        "# stats.ttest_rel을 쓰지 못하고, 윌콕슨 부호순위검정을 수행\n",
        "stats.wilcoxon(df.up, df.down)\n",
        "\n",
        "# 수행결과 p-value 가 0.05 미만으로 나와 귀무가설을 기각\n",
        "# 즉, 상-하류간 어류 다양성 점수에 유의미한 차이가 있었다."
      ],
      "metadata": {
        "colab": {
          "base_uri": "https://localhost:8080/",
          "height": 242
        },
        "id": "NO-3r-dgV83_",
        "outputId": "13c038f3-2381-4e29-98e9-da48f1b2c9e3"
      },
      "execution_count": null,
      "outputs": [
        {
          "output_type": "display_data",
          "data": {
            "text/plain": [
              "  river  up  down\n",
              "0     A  40    48\n",
              "1     B  38    38\n",
              "2     C  42    40\n",
              "3     D  29    30\n",
              "4     E  19    20"
            ],
            "text/html": [
              "\n",
              "  <div id=\"df-bc426038-216f-4eea-bc1d-8aa3b96b995e\">\n",
              "    <div class=\"colab-df-container\">\n",
              "      <div>\n",
              "<style scoped>\n",
              "    .dataframe tbody tr th:only-of-type {\n",
              "        vertical-align: middle;\n",
              "    }\n",
              "\n",
              "    .dataframe tbody tr th {\n",
              "        vertical-align: top;\n",
              "    }\n",
              "\n",
              "    .dataframe thead th {\n",
              "        text-align: right;\n",
              "    }\n",
              "</style>\n",
              "<table border=\"1\" class=\"dataframe\">\n",
              "  <thead>\n",
              "    <tr style=\"text-align: right;\">\n",
              "      <th></th>\n",
              "      <th>river</th>\n",
              "      <th>up</th>\n",
              "      <th>down</th>\n",
              "    </tr>\n",
              "  </thead>\n",
              "  <tbody>\n",
              "    <tr>\n",
              "      <th>0</th>\n",
              "      <td>A</td>\n",
              "      <td>40</td>\n",
              "      <td>48</td>\n",
              "    </tr>\n",
              "    <tr>\n",
              "      <th>1</th>\n",
              "      <td>B</td>\n",
              "      <td>38</td>\n",
              "      <td>38</td>\n",
              "    </tr>\n",
              "    <tr>\n",
              "      <th>2</th>\n",
              "      <td>C</td>\n",
              "      <td>42</td>\n",
              "      <td>40</td>\n",
              "    </tr>\n",
              "    <tr>\n",
              "      <th>3</th>\n",
              "      <td>D</td>\n",
              "      <td>29</td>\n",
              "      <td>30</td>\n",
              "    </tr>\n",
              "    <tr>\n",
              "      <th>4</th>\n",
              "      <td>E</td>\n",
              "      <td>19</td>\n",
              "      <td>20</td>\n",
              "    </tr>\n",
              "  </tbody>\n",
              "</table>\n",
              "</div>\n",
              "      <button class=\"colab-df-convert\" onclick=\"convertToInteractive('df-bc426038-216f-4eea-bc1d-8aa3b96b995e')\"\n",
              "              title=\"Convert this dataframe to an interactive table.\"\n",
              "              style=\"display:none;\">\n",
              "        \n",
              "  <svg xmlns=\"http://www.w3.org/2000/svg\" height=\"24px\"viewBox=\"0 0 24 24\"\n",
              "       width=\"24px\">\n",
              "    <path d=\"M0 0h24v24H0V0z\" fill=\"none\"/>\n",
              "    <path d=\"M18.56 5.44l.94 2.06.94-2.06 2.06-.94-2.06-.94-.94-2.06-.94 2.06-2.06.94zm-11 1L8.5 8.5l.94-2.06 2.06-.94-2.06-.94L8.5 2.5l-.94 2.06-2.06.94zm10 10l.94 2.06.94-2.06 2.06-.94-2.06-.94-.94-2.06-.94 2.06-2.06.94z\"/><path d=\"M17.41 7.96l-1.37-1.37c-.4-.4-.92-.59-1.43-.59-.52 0-1.04.2-1.43.59L10.3 9.45l-7.72 7.72c-.78.78-.78 2.05 0 2.83L4 21.41c.39.39.9.59 1.41.59.51 0 1.02-.2 1.41-.59l7.78-7.78 2.81-2.81c.8-.78.8-2.07 0-2.86zM5.41 20L4 18.59l7.72-7.72 1.47 1.35L5.41 20z\"/>\n",
              "  </svg>\n",
              "      </button>\n",
              "      \n",
              "  <style>\n",
              "    .colab-df-container {\n",
              "      display:flex;\n",
              "      flex-wrap:wrap;\n",
              "      gap: 12px;\n",
              "    }\n",
              "\n",
              "    .colab-df-convert {\n",
              "      background-color: #E8F0FE;\n",
              "      border: none;\n",
              "      border-radius: 50%;\n",
              "      cursor: pointer;\n",
              "      display: none;\n",
              "      fill: #1967D2;\n",
              "      height: 32px;\n",
              "      padding: 0 0 0 0;\n",
              "      width: 32px;\n",
              "    }\n",
              "\n",
              "    .colab-df-convert:hover {\n",
              "      background-color: #E2EBFA;\n",
              "      box-shadow: 0px 1px 2px rgba(60, 64, 67, 0.3), 0px 1px 3px 1px rgba(60, 64, 67, 0.15);\n",
              "      fill: #174EA6;\n",
              "    }\n",
              "\n",
              "    [theme=dark] .colab-df-convert {\n",
              "      background-color: #3B4455;\n",
              "      fill: #D2E3FC;\n",
              "    }\n",
              "\n",
              "    [theme=dark] .colab-df-convert:hover {\n",
              "      background-color: #434B5C;\n",
              "      box-shadow: 0px 1px 3px 1px rgba(0, 0, 0, 0.15);\n",
              "      filter: drop-shadow(0px 1px 2px rgba(0, 0, 0, 0.3));\n",
              "      fill: #FFFFFF;\n",
              "    }\n",
              "  </style>\n",
              "\n",
              "      <script>\n",
              "        const buttonEl =\n",
              "          document.querySelector('#df-bc426038-216f-4eea-bc1d-8aa3b96b995e button.colab-df-convert');\n",
              "        buttonEl.style.display =\n",
              "          google.colab.kernel.accessAllowed ? 'block' : 'none';\n",
              "\n",
              "        async function convertToInteractive(key) {\n",
              "          const element = document.querySelector('#df-bc426038-216f-4eea-bc1d-8aa3b96b995e');\n",
              "          const dataTable =\n",
              "            await google.colab.kernel.invokeFunction('convertToInteractive',\n",
              "                                                     [key], {});\n",
              "          if (!dataTable) return;\n",
              "\n",
              "          const docLinkHtml = 'Like what you see? Visit the ' +\n",
              "            '<a target=\"_blank\" href=https://colab.research.google.com/notebooks/data_table.ipynb>data table notebook</a>'\n",
              "            + ' to learn more about interactive tables.';\n",
              "          element.innerHTML = '';\n",
              "          dataTable['output_type'] = 'display_data';\n",
              "          await google.colab.output.renderOutput(dataTable, element);\n",
              "          const docLink = document.createElement('div');\n",
              "          docLink.innerHTML = docLinkHtml;\n",
              "          element.appendChild(docLink);\n",
              "        }\n",
              "      </script>\n",
              "    </div>\n",
              "  </div>\n",
              "  "
            ]
          },
          "metadata": {}
        },
        {
          "output_type": "stream",
          "name": "stdout",
          "text": [
            "정규성검정 상류: ShapiroResult(statistic=0.9646286368370056, pvalue=0.837075412273407)\n",
            "정규성검정 하류: ShapiroResult(statistic=0.9580702781677246, pvalue=0.7636648416519165)\n"
          ]
        }
      ]
    },
    {
      "cell_type": "markdown",
      "source": [
        "Q4. 백분위 회귀\n",
        "- 4-1 주어진 데이터에 대해 백분위 50%로 잡고 백분위 회귀 모델을 구현하고 계수들에 대해 설명하라."
      ],
      "metadata": {
        "id": "YzemCoCFaLlU"
      }
    },
    {
      "cell_type": "markdown",
      "source": [
        "참조 URL : https://amaruak00.github.io/2022/12/17/adp27th.html\n"
      ],
      "metadata": {
        "id": "HDqy4DGtR4DJ"
      }
    },
    {
      "cell_type": "markdown",
      "source": [
        "Q1. 2년 전 제품 생산량이 100,000개, 1년 전 제품 생산량이 150,000개, 그 후 팩토리 기술의 상승으로 제품 생산량이 250,000개 되었을 때, 연평균 상승률의 대푯값을 구하시오. (반올림하여 소수점 아래 둘째자리까지 표기하시오.)"
      ],
      "metadata": {
        "id": "AM3_Ak3ju7Es"
      }
    },
    {
      "cell_type": "code",
      "source": [
        "import numpy as np\n",
        "\n",
        "p0 = 100_000 # 2년 전 생산량\n",
        "p1 = 150_000 # 1년 전 생산량\n",
        "p2 = 250_000 # 현재 생산량\n",
        "\n",
        "# 연평균 성장률 (CAGR, Compound Average Grouth Rate)\n",
        "cagr = (p2/p0)**(1/2) - 1\n",
        "print('1. CAGR로 구한 연평균상승률은 ', round(cagr*100, 2), '%')\n",
        "print('\\n\\n')\n",
        "\n",
        "# 기하평균\n",
        "r1 = (p1/p0) # 1년전 상승률\n",
        "r2 = (p2/p1) # 올해 상승률\n",
        "print('r1:', r1, ', r2:', r2)\n",
        "geo_mean = np.sqrt(r1*r2) -1 # 기하평균\n",
        "print('2. 기하평균으로 구한 연평균상승률은 ', round(geo_mean * 100, 2), '%')\n",
        "print('2. 기하평균으로 구한 연평균상승률은 ', round(pow(p0*p1*p2, 1/3) * 100, 2) , '%')\n",
        "print('2. 기하평균으로 구한 연평균상승률은 ', round((p0*p1*p2)**(1/3) * 100, 2) , '%')\n",
        "print('\\n\\n')\n",
        "\n",
        "# ChatGPT 의 답변 \n",
        "rt1 = (p2 / p0)**(1/2) - 1 # 2년 전에서 현재까지 증가율\n",
        "rt2 = (p2/p1) - 1          # 1년 전에서 현재까지 증가율\n",
        "print('rt1:', rt1, ', rt2:', rt2)\n",
        "avg_rate = (rt1 + rt2) / 2 # 연평균 상승률의 대푯값\n",
        "print('3. chatGPT가 알려준 연평균상승률 대푯값 :', round(avg_rate * 100, 2), '%') "
      ],
      "metadata": {
        "colab": {
          "base_uri": "https://localhost:8080/"
        },
        "id": "yKrfj8zYu7pL",
        "outputId": "05952c0d-5434-405a-d6e2-01c05ee65af2"
      },
      "execution_count": null,
      "outputs": [
        {
          "output_type": "stream",
          "name": "stdout",
          "text": [
            "1. CAGR로 구한 연평균상승률은  58.11 %\n",
            "\n",
            "\n",
            "\n",
            "r1: 1.5 , r2: 1.6666666666666667\n",
            "2. 기하평균으로 구한 연평균상승률은  58.11 %\n",
            "2. 기하평균으로 구한 연평균상승률은  15536162.53 %\n",
            "2. 기하평균으로 구한 연평균상승률은  15536162.53 %\n",
            "\n",
            "\n",
            "\n",
            "rt1: 0.5811388300841898 , rt2: 0.6666666666666667\n",
            "3. chatGPT가 알려준 연평균상승률 대푯값 : 62.39 %\n"
          ]
        }
      ]
    },
    {
      "cell_type": "code",
      "source": [
        "round(((15/10 * 25/15)**0.5 -1) * 100, 2)"
      ],
      "metadata": {
        "colab": {
          "base_uri": "https://localhost:8080/"
        },
        "id": "emMtkcAi9h4y",
        "outputId": "8fb3e91e-1756-4b8a-b769-542c555825e6"
      },
      "execution_count": null,
      "outputs": [
        {
          "output_type": "execute_result",
          "data": {
            "text/plain": [
              "58.11"
            ]
          },
          "metadata": {},
          "execution_count": 23
        }
      ]
    }
  ]
}