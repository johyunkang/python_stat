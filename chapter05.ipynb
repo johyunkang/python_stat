{
  "nbformat": 4,
  "nbformat_minor": 0,
  "metadata": {
    "colab": {
      "provenance": [],
      "collapsed_sections": [],
      "authorship_tag": "ABX9TyO2oZqLhPcfkk8Wj6M645Hu",
      "include_colab_link": true
    },
    "kernelspec": {
      "name": "python3",
      "display_name": "Python 3"
    },
    "language_info": {
      "name": "python"
    }
  },
  "cells": [
    {
      "cell_type": "markdown",
      "metadata": {
        "id": "view-in-github",
        "colab_type": "text"
      },
      "source": [
        "<a href=\"https://colab.research.google.com/github/johyunkang/python_stat/blob/main/chapter05.ipynb\" target=\"_parent\"><img src=\"https://colab.research.google.com/assets/colab-badge.svg\" alt=\"Open In Colab\"/></a>"
      ]
    },
    {
      "cell_type": "markdown",
      "source": [
        "# CHAPTER 05 이산형 확률변수"
      ],
      "metadata": {
        "id": "9aKrhdBAkTwm"
      }
    },
    {
      "cell_type": "code",
      "execution_count": 1,
      "metadata": {
        "id": "WoI497SjkMex"
      },
      "outputs": [],
      "source": [
        "import numpy as np\n",
        "import matplotlib.pyplot as plt\n",
        "\n",
        "%matplotlib inline\n",
        "%precision 3\n",
        "\n",
        "x_set = np.array([1, 2, 3, 4, 5, 6])"
      ]
    },
    {
      "cell_type": "markdown",
      "source": [
        "- 불공정한 주사위의 확률분포는 아래와 같음\n",
        "![dice-unfailr](https://user-images.githubusercontent.com/291782/196310023-4eff5b28-ad4c-42d2-9f0f-85dbc02cd81f.png)\n",
        "\n"
      ],
      "metadata": {
        "id": "v8Hwp54ikij2"
      }
    },
    {
      "cell_type": "code",
      "source": [
        "def f(x) :\n",
        "    if x in x_set :\n",
        "        return x / 21\n",
        "    else :\n",
        "        return 0"
      ],
      "metadata": {
        "id": "77WZI3cGk97j"
      },
      "execution_count": 2,
      "outputs": []
    },
    {
      "cell_type": "markdown",
      "source": [
        "- 확률변수가 취할 수 있는 값의 집합과 확률변수의 세트가 확률분포임\n",
        "- 이 확률분포에 의해 확률변수 X의 동작이 결정됨\n",
        "- 따라서 X 는 x_set 과 f 를 요소로 하는 리스트로 구현"
      ],
      "metadata": {
        "id": "oVekzVyxlOtu"
      }
    },
    {
      "cell_type": "code",
      "source": [
        "X = [x_set, f]\n",
        "\n",
        "# 확률 p_k를 구한다.\n",
        "prob = np.array([f(x_k) for x_k in x_set])\n",
        "\n",
        "# x_k와 p_k의 대응을 사전식으로 표시\n",
        "dict(zip(x_set, prob))"
      ],
      "metadata": {
        "colab": {
          "base_uri": "https://localhost:8080/"
        },
        "id": "zzc-fQoAlgDR",
        "outputId": "59473090-1814-4555-b6a4-e422ec740d1c"
      },
      "execution_count": 3,
      "outputs": [
        {
          "output_type": "execute_result",
          "data": {
            "text/plain": [
              "{1: 0.047619047619047616,\n",
              " 2: 0.09523809523809523,\n",
              " 3: 0.14285714285714285,\n",
              " 4: 0.19047619047619047,\n",
              " 5: 0.23809523809523808,\n",
              " 6: 0.2857142857142857}"
            ]
          },
          "metadata": {},
          "execution_count": 3
        }
      ]
    },
    {
      "cell_type": "markdown",
      "source": [
        "- 확률변수가 취할 수 있는 값과 확률을 막대그래프로 표시"
      ],
      "metadata": {
        "id": "8jSFi1W0mA9o"
      }
    },
    {
      "cell_type": "code",
      "source": [
        "plt.figure(figsize=(10, 6))\n",
        "plt.bar(x_set, prob)\n",
        "plt.xlabel('value')\n",
        "plt.ylabel('probability')\n",
        "plt.show()"
      ],
      "metadata": {
        "colab": {
          "base_uri": "https://localhost:8080/",
          "height": 392
        },
        "id": "93mtMsMrmHuh",
        "outputId": "f268ed82-8c74-4f8f-d039-8e657246dc00"
      },
      "execution_count": 4,
      "outputs": [
        {
          "output_type": "display_data",
          "data": {
            "text/plain": [
              "<Figure size 720x432 with 1 Axes>"
            ],
            "image/png": "[encoded data removed]"
          },
          "metadata": {
            "needs_background": "light"
          }
        }
      ]
    },
    {
      "cell_type": "markdown",
      "source": [
        "**확률의 성질**\n",
        "\n",
        "- 확률은 절대적으로 0 이상, 모든 확률을 더하면 1이 되어야함\n",
        "- 확률이 모두 0 이상인지는 ```np.all``` 함수를 이용하여 확인 가능\n",
        "- `np.all`은 모든 요소가 참일때만 참을 반환하는 함수"
      ],
      "metadata": {
        "id": "QnDsLqwWmdUU"
      }
    },
    {
      "cell_type": "code",
      "source": [
        "print('모든 확률이 0 이상인가?', np.all(prob >= 0))\n",
        "\n",
        "print('확률의 총합이 1 인가?', np.sum(prob))"
      ],
      "metadata": {
        "colab": {
          "base_uri": "https://localhost:8080/"
        },
        "id": "kn3hfPvPm1hX",
        "outputId": "7ff7f72d-bfe1-40c8-bf02-07b7621b7520"
      },
      "execution_count": 5,
      "outputs": [
        {
          "output_type": "stream",
          "name": "stdout",
          "text": [
            "모든 확률이 0 이상인가? True\n",
            "확률의 총합이 1 인가? 0.9999999999999999\n"
          ]
        }
      ]
    },
    {
      "cell_type": "markdown",
      "source": [
        "- 불공정한 주사위의 기댓값은 다음과 같다."
      ],
      "metadata": {
        "id": "G1Qw1ti0oZVU"
      }
    },
    {
      "cell_type": "code",
      "source": [
        "np.sum([x_k * f(x_k) for x_k in x_set])"
      ],
      "metadata": {
        "colab": {
          "base_uri": "https://localhost:8080/"
        },
        "id": "2l1FU8qXobxz",
        "outputId": "03233d0f-6468-4350-9f65-34608746241a"
      },
      "execution_count": 6,
      "outputs": [
        {
          "output_type": "execute_result",
          "data": {
            "text/plain": [
              "4.333333333333333"
            ]
          },
          "metadata": {},
          "execution_count": 6
        }
      ]
    },
    {
      "cell_type": "markdown",
      "source": [
        "- 확률변수의 기댓값은 확률변수를 무제한 시행하여 얻은 실현값의 평균\n",
        "- 파이썬으로 100만 주사위를 굴려 시행해 보자"
      ],
      "metadata": {
        "id": "U3J1itUmolFA"
      }
    },
    {
      "cell_type": "code",
      "source": [
        "sample = np.random.choice(x_set, int(1e6), p=prob) # 1e6 (지수) = 1,000,000\n",
        "np.mean(sample)"
      ],
      "metadata": {
        "colab": {
          "base_uri": "https://localhost:8080/"
        },
        "id": "euOzw0Ztotlo",
        "outputId": "2d6c6a94-55c7-4a00-9b69-7fb5286b082a"
      },
      "execution_count": 9,
      "outputs": [
        {
          "output_type": "execute_result",
          "data": {
            "text/plain": [
              "4.333321"
            ]
          },
          "metadata": {},
          "execution_count": 9
        }
      ]
    },
    {
      "cell_type": "markdown",
      "source": [
        "- 확률변수 X를 2X+3 으로 변환한 확률변수 Y의 기댓값에 관해 생각\n",
        "- $E(Y) = E(2X + 3) = \\displaystyle \\sum_{k}(2x_k + 3) f(x_k)$\n",
        "- 더 일반화하면, 확률변수 X 의 함수 g(X)의 기댓값을 정의할 수 있음\n",
        "---\n",
        "**이산형 확률변수의 기댓값**\n",
        "> $E(g(X)) = \\displaystyle \\sum_{k}g(x_k)f(x_k)$\n",
        "---\n",
        "- 위 수식을 함수로 구현"
      ],
      "metadata": {
        "id": "MRw7SofLpQeI"
      }
    },
    {
      "cell_type": "code",
      "source": [
        "def E(X, g=lambda x : x) :\n",
        "    x_set, f = X\n",
        "    return np.sum([g(x_k) * f(x_k) for x_k in x_set])"
      ],
      "metadata": {
        "id": "vyVVTU2aqMys"
      },
      "execution_count": 10,
      "outputs": []
    },
    {
      "cell_type": "markdown",
      "source": [
        "- g에 아무것도 지정하지 않으면, 확률변수 X의 기댓값이 구해짐"
      ],
      "metadata": {
        "id": "XzjPypHbqY7b"
      }
    },
    {
      "cell_type": "code",
      "source": [
        "E(X)"
      ],
      "metadata": {
        "colab": {
          "base_uri": "https://localhost:8080/"
        },
        "id": "prowHtf2qeH5",
        "outputId": "cc902f0e-2e9b-4925-acfd-ed726cf457bb"
      },
      "execution_count": 11,
      "outputs": [
        {
          "output_type": "execute_result",
          "data": {
            "text/plain": [
              "4.333333333333333"
            ]
          },
          "metadata": {},
          "execution_count": 11
        }
      ]
    },
    {
      "cell_type": "markdown",
      "source": [
        "- 확률변수 Y = 2X + 3 의 기댓값은 다음과 같이 계산"
      ],
      "metadata": {
        "id": "30zxAlfUqi8c"
      }
    },
    {
      "cell_type": "code",
      "source": [
        "E(X, g=lambda x : 2*x + 3)"
      ],
      "metadata": {
        "colab": {
          "base_uri": "https://localhost:8080/"
        },
        "id": "QEV9yhT6qne3",
        "outputId": "d55cd87f-aa04-44d5-8176-d5773255ab2d"
      },
      "execution_count": 12,
      "outputs": [
        {
          "output_type": "execute_result",
          "data": {
            "text/plain": [
              "11.666666666666664"
            ]
          },
          "metadata": {},
          "execution_count": 12
        }
      ]
    },
    {
      "cell_type": "markdown",
      "source": [
        "- 기댓값에는 **선형성** 이라는 성질이 있음\n",
        "---\n",
        "**기댓값의 선형성**\n",
        "> E(aX + b) = aE(X) + b\n",
        "---\n",
        "- E(2X + 3) 이 2E(X) + 3 과 같은지 확인"
      ],
      "metadata": {
        "id": "Lmw-E_Y7qyDf"
      }
    },
    {
      "cell_type": "code",
      "source": [
        "2*E(X) + 3"
      ],
      "metadata": {
        "colab": {
          "base_uri": "https://localhost:8080/"
        },
        "id": "8atT0cz1rJCy",
        "outputId": "9de41b13-a244-4242-b375-725df9013284"
      },
      "execution_count": 13,
      "outputs": [
        {
          "output_type": "execute_result",
          "data": {
            "text/plain": [
              "11.666666666666666"
            ]
          },
          "metadata": {},
          "execution_count": 13
        }
      ]
    },
    {
      "cell_type": "markdown",
      "source": [
        "### 분산\n",
        "- $V(X) = \\displaystyle \\sum_k(x_k - \\mu)^2f(x_k)$\n",
        "- 불공정한 주사위의 분산을 구해보겠음"
      ],
      "metadata": {
        "id": "U6wzjnJLrkkK"
      }
    },
    {
      "cell_type": "code",
      "source": [
        "mean = E(X)\n",
        "var = np.sum([(x_k-mean)**2 * f(x_k) for x_k in x_set])\n",
        "print('불공정한 주사위의 분산은:', var)"
      ],
      "metadata": {
        "colab": {
          "base_uri": "https://localhost:8080/"
        },
        "id": "E7xNCvVAr7R3",
        "outputId": "383f7eaf-8725-48f3-c645-05275dcfced9"
      },
      "execution_count": 18,
      "outputs": [
        {
          "output_type": "stream",
          "name": "stdout",
          "text": [
            "불공정한 주사위의 분산은: 2.2222222222222223\n"
          ]
        }
      ]
    },
    {
      "cell_type": "markdown",
      "source": [
        "- 확률변수 X 를 2X + 3으로 변환한 확률변수 Y의 분산은 다음식으로 정의됨\n",
        "- 다만, &mu; = E(2X+3)\n",
        "- $V(2X+3) = \\sum_k((2x_k+3) - \\mu)^2f(x_k)$\n",
        "- 더 일반화화면, 확률변수 X의 함수 g(X)의 분산이 정의됨\n",
        "---\n",
        "**이산형 확률변수의 분산**\n",
        "> $V(g(X)) = \\sum_k(g(x_k) - E(g(X)))^2f(x_k)$\n",
        "---\n",
        "- 위 수식을 분산의 함수로 구현\n"
      ],
      "metadata": {
        "id": "18t6EHBq3zg9"
      }
    },
    {
      "cell_type": "code",
      "source": [
        "def V(X, g=lambda x: x) :\n",
        "    x_set, f = X\n",
        "    mean = E(X, g)\n",
        "    return np.sum([(g(x_k) - mean)**2 * f(x_k) for x_k in x_set])"
      ],
      "metadata": {
        "id": "4Hil0pMq464N"
      },
      "execution_count": 19,
      "outputs": []
    },
    {
      "cell_type": "markdown",
      "source": [
        "- g를 지정하지 않으면, 확률변수 X의 분산을 계산함"
      ],
      "metadata": {
        "id": "BEaQDy8I5J2r"
      }
    },
    {
      "cell_type": "code",
      "source": [
        "print('확률변수 X의 분산은:', V(X))"
      ],
      "metadata": {
        "colab": {
          "base_uri": "https://localhost:8080/"
        },
        "id": "AJTDKc2j5Njo",
        "outputId": "c15d7be9-f75f-408f-fdc3-88e73032cb50"
      },
      "execution_count": 21,
      "outputs": [
        {
          "output_type": "stream",
          "name": "stdout",
          "text": [
            "확률변수 X의 분산은: 2.2222222222222223\n"
          ]
        }
      ]
    },
    {
      "cell_type": "markdown",
      "source": [
        "- 확률변수 Y=2X+3 은"
      ],
      "metadata": {
        "id": "G5XhbI-k5TRu"
      }
    },
    {
      "cell_type": "code",
      "source": [
        "var = V(X, lambda x:2*x + 3)\n",
        "print('확률변수 Y=2X+3의 분산은:{0:.3f}'.format(var))"
      ],
      "metadata": {
        "colab": {
          "base_uri": "https://localhost:8080/"
        },
        "id": "KirayeLt5WMH",
        "outputId": "d1e12b8c-594a-4b19-84ab-97c9be92fe34"
      },
      "execution_count": 24,
      "outputs": [
        {
          "output_type": "stream",
          "name": "stdout",
          "text": [
            "확률변수 Y=2X+3의 분산은:8.889\n"
          ]
        }
      ]
    },
    {
      "cell_type": "markdown",
      "source": [
        "- 기댓값 (평균)과 마찬가지로, 분산에도 V(2X+3) 을 V(X)를 사용하여 계산할 수 있음\n",
        "- 이를 위해서는 다음 공식을 사용\n",
        "---\n",
        "**분산의 공식**\n",
        "> a, b를 실수, X를 확률변수라고 하면 $V(aX + b) = a^2V(X)$\n",
        "---\n",
        "\n",
        "- 위 공식을 사용하면 $ V(2X+3) = 2^2V(X)$"
      ],
      "metadata": {
        "id": "eyiBqNvL5a-M"
      }
    },
    {
      "cell_type": "code",
      "source": [
        "print(2**2*V(X))"
      ],
      "metadata": {
        "colab": {
          "base_uri": "https://localhost:8080/"
        },
        "id": "OvZ1Kiyr6sVc",
        "outputId": "b2e2cda9-f9a1-4d82-ba66-b1a1db4f988b"
      },
      "execution_count": 25,
      "outputs": [
        {
          "output_type": "stream",
          "name": "stdout",
          "text": [
            "8.88888888888889\n"
          ]
        }
      ]
    },
    {
      "cell_type": "markdown",
      "source": [
        "## 5.2 2차원 이산형 확률변수\n",
        "5.2.1 2차원 이산형 확률변수의 정의"
      ],
      "metadata": {
        "id": "ppovCCPm61Jt"
      }
    }
  ]
}