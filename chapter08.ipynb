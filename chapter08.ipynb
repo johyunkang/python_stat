{
  "nbformat": 4,
  "nbformat_minor": 0,
  "metadata": {
    "colab": {
      "provenance": [],
      "authorship_tag": "ABX9TyNsRJXQoAjhodeHRbP2D0+/",
      "include_colab_link": true
    },
    "kernelspec": {
      "name": "python3",
      "display_name": "Python 3"
    },
    "language_info": {
      "name": "python"
    }
  },
  "cells": [
    {
      "cell_type": "markdown",
      "metadata": {
        "id": "view-in-github",
        "colab_type": "text"
      },
      "source": [
        "<a href=\"https://colab.research.google.com/github/johyunkang/python_stat/blob/main/chapter08.ipynb\" target=\"_parent\"><img src=\"https://colab.research.google.com/assets/colab-badge.svg\" alt=\"Open In Colab\"/></a>"
      ]
    },
    {
      "cell_type": "markdown",
      "source": [
        "# Chapter 08 대표적인 연속형 확률분포"
      ],
      "metadata": {
        "id": "AsMXZ_aqKfCT"
      }
    },
    {
      "cell_type": "markdown",
      "source": [
        "## 8.1 정규분포"
      ],
      "metadata": {
        "id": "whV3JJ8sKryn"
      }
    },
    {
      "cell_type": "code",
      "execution_count": 1,
      "metadata": {
        "id": "rnmxub2ZKdLT"
      },
      "outputs": [],
      "source": [
        "import numpy as np\n",
        "from matplotlib import pyplot as plt\n",
        "from scipy import stats, integrate\n",
        "from scipy.optimize import minimize_scalar\n",
        "\n",
        "%precision 3\n",
        "%matplotlib inline\n",
        "\n"
      ]
    },
    {
      "cell_type": "code",
      "source": [
        "rv = stats.norm(2, 0.5) # mu, std\n",
        "\n",
        "print('mean:', rv.mean(), ' , var:', rv.var())"
      ],
      "metadata": {
        "colab": {
          "base_uri": "https://localhost:8080/"
        },
        "id": "8qs7_8FmLExy",
        "outputId": "d586614d-3db0-43c3-9d7e-ff9cd7390bbf"
      },
      "execution_count": 2,
      "outputs": [
        {
          "output_type": "stream",
          "name": "stdout",
          "text": [
            "mean: 2.0  , var: 0.25\n"
          ]
        }
      ]
    }
  ]
}